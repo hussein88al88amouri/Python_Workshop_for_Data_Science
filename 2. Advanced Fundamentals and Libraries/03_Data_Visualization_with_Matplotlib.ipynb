{
 "cells": [
  {
   "cell_type": "markdown",
   "id": "19eac371",
   "metadata": {},
   "source": [
    "Introduction to visualization \n"
   ]
  },
  {
   "cell_type": "markdown",
   "id": "7aa4927c",
   "metadata": {},
   "source": [
    "---"
   ]
  },
  {
   "cell_type": "markdown",
   "id": "cb83d4bc",
   "metadata": {},
   "source": [
    "### 2.3.1. Visualization using Matplotlib"
   ]
  },
  {
   "cell_type": "markdown",
   "id": "e1470bc9",
   "metadata": {},
   "source": [
    "**Matplotlib** is the most commonly used library for data visualization in Python.  \n",
    "It is especially important in **machine learning** to quickly explore and understand data.  \n",
    "\n",
    "We will cover the most essential plots:\n",
    "- Line Plot\n",
    "- Scatter Plot\n",
    "- Boxplot\n",
    "- Bar Plot\n"
   ]
  },
  {
   "cell_type": "code",
   "execution_count": null,
   "id": "035d2633",
   "metadata": {},
   "outputs": [],
   "source": [
    "# Importing ploting library\n",
    "import matplotlib.pyplot as plt\n",
    "#Importing numpy for numerical copmuting\n",
    "import numpy as np\n"
   ]
  },
  {
   "cell_type": "markdown",
   "id": "b1c764f6",
   "metadata": {},
   "source": [
    "#### Line Plot"
   ]
  },
  {
   "cell_type": "code",
   "execution_count": null,
   "id": "77ee594a",
   "metadata": {},
   "outputs": [],
   "source": [
    "# Data\n",
    "x = np.linspace(0, 10, 100)\n",
    "y1 = np.sin(x)\n",
    "y2 = np.cos(x)\n",
    "\n",
    "# Plot\n",
    "plt.figure(figsize=(7,4))\n",
    "plt.plot(x, y1, label=\"sin(x)\", color=\"blue\")\n",
    "plt.plot(x, y2, label=\"cos(x)\", color=\"orange\", linestyle=\"--\")\n",
    "\n",
    "plt.title(\"Line Plot Example\")\n",
    "plt.xlabel(\"X values\")\n",
    "plt.ylabel(\"Y values\")\n",
    "plt.legend()\n",
    "plt.grid(True)\n",
    "plt.tight_layout()\n",
    "plt.show()\n"
   ]
  },
  {
   "cell_type": "markdown",
   "id": "29cba88b",
   "metadata": {},
   "source": [
    "#### Scatter plot"
   ]
  },
  {
   "cell_type": "code",
   "execution_count": null,
   "id": "2ee7b037",
   "metadata": {},
   "outputs": [],
   "source": [
    "# Random data\n",
    "x = np.random.rand(100)\n",
    "y = np.random.rand(100)\n",
    "\n",
    "plt.figure(figsize=(7,4))\n",
    "plt.scatter(x, y, color=\"red\", marker=\"D\")\n",
    "plt.title(\"Scatter Plot Example\")\n",
    "plt.xlabel(\"Feature 1\")\n",
    "plt.ylabel(\"Feature 2\")\n",
    "plt.tight_layout()\n",
    "plt.show()\n",
    "#plt.savefig(path)"
   ]
  },
  {
   "cell_type": "markdown",
   "id": "56b0bef1",
   "metadata": {},
   "source": [
    "#### Box plot"
   ]
  },
  {
   "cell_type": "code",
   "execution_count": null,
   "id": "30a01521",
   "metadata": {},
   "outputs": [],
   "source": [
    "# Random normally distributed data\n",
    "data = np.random.randn(100)\n",
    "\n",
    "plt.figure(figsize=(7,4))\n",
    "plt.boxplot(data)\n",
    "plt.title(\"Boxplot Example\")\n",
    "plt.xlabel(\"Data\")\n",
    "plt.ylabel(\"Values\")\n",
    "plt.tight_layout()\n",
    "plt.show()\n"
   ]
  },
  {
   "cell_type": "markdown",
   "id": "8ced48d7",
   "metadata": {},
   "source": [
    "#### Bar Plot"
   ]
  },
  {
   "cell_type": "code",
   "execution_count": null,
   "id": "e0be2c8a",
   "metadata": {},
   "outputs": [],
   "source": [
    "categories = [\"A\", \"B\", \"C\", \"D\"]\n",
    "values = [23, 45, 12, 36]\n",
    "\n",
    "plt.figure(figsize=(7,4))\n",
    "plt.bar(categories, values, color=\"skyblue\")\n",
    "plt.title(\"Bar Plot Example\")\n",
    "plt.xlabel(\"Categories\")\n",
    "plt.ylabel(\"Values\")\n",
    "plt.tight_layout()\n",
    "plt.show()\n"
   ]
  },
  {
   "cell_type": "markdown",
   "id": "6cd5d71c",
   "metadata": {},
   "source": [
    "### 2.3.1. Visualization using Seaborn"
   ]
  },
  {
   "cell_type": "markdown",
   "id": "58ca0357",
   "metadata": {},
   "source": [
    "Seaborn is a powerful and beginner-friendly data visualization library built on top of Matplotlib.\n",
    "It is designed to make it easier to create beautiful and informative statistical graphics.\n",
    "\n",
    "Seaborn is especially helpful when you're working with pandas DataFrames, as it integrates directly with them and often requires less code than Matplotlib."
   ]
  },
  {
   "cell_type": "code",
   "execution_count": null,
   "id": "4e922793",
   "metadata": {},
   "outputs": [],
   "source": [
    "# Importing\n",
    "import seaborn as sns # for statistical plotting\n",
    "import matplotlib.pyplot as plt # for plotting"
   ]
  },
  {
   "cell_type": "code",
   "execution_count": null,
   "id": "ef1f01bc",
   "metadata": {},
   "outputs": [],
   "source": [
    "# Loading a dataset example\n",
    "tips = sns.load_dataset(\"tips\")\n",
    "print(tips.head())"
   ]
  },
  {
   "cell_type": "code",
   "execution_count": null,
   "id": "21a69674",
   "metadata": {},
   "outputs": [],
   "source": [
    "# Scatter plot with regression line between total_bill and tip\n",
    "plt.figure(figsize=(7,4))\n",
    "sns.scatterplot(data=tips, x=\"total_bill\", y=\"tip\", hue=\"time\", style=\"smoker\", s=100)\n",
    "sns.regplot(data=tips, x=\"total_bill\", y=\"tip\", scatter=False, color=\"black\")\n",
    "plt.title(\"Scatter Plot with Regression Line\")\n",
    "plt.tight_layout()"
   ]
  },
  {
   "cell_type": "code",
   "execution_count": null,
   "id": "4ea768bb",
   "metadata": {},
   "outputs": [],
   "source": [
    "# Plot how much smokers tips and non-smokers tips\n",
    "plt.figure(figsize=(7,4))\n",
    "sns.boxplot(x='day', y='total_bill', data=tips, palette='Set2')\n",
    "plt.title(\"Boxplot of Total Bill by Day\")\n",
    "plt.tight_layout()\n",
    "plt.show()\n"
   ]
  },
  {
   "cell_type": "code",
   "execution_count": null,
   "id": "84c83baf",
   "metadata": {},
   "outputs": [],
   "source": [
    "# Histogram\n",
    "plt.figure(figsize=(7,4))\n",
    "sns.histplot(tips['total_bill'], bins=20, kde=True, color='blue')\n",
    "plt.title(\"Histogram of Total Bill\")\n",
    "plt.tight_layout()"
   ]
  },
  {
   "cell_type": "code",
   "execution_count": null,
   "id": "69594b13",
   "metadata": {},
   "outputs": [],
   "source": [
    "# Pairplot\n",
    "sns.pairplot(tips, hue='time', palette='coolwarm')\n",
    "plt.suptitle(\"Pairplot of Tips Dataset\", y=1.02)\n",
    "plt.show()"
   ]
  },
  {
   "cell_type": "code",
   "execution_count": null,
   "id": "8d86d4d4",
   "metadata": {},
   "outputs": [],
   "source": [
    "# Try the plots with the sex attribute and the smoker attribute\n"
   ]
  }
 ],
 "metadata": {
  "kernelspec": {
   "display_name": "Python 3",
   "language": "python",
   "name": "python3"
  },
  "language_info": {
   "codemirror_mode": {
    "name": "ipython",
    "version": 3
   },
   "file_extension": ".py",
   "mimetype": "text/x-python",
   "name": "python",
   "nbconvert_exporter": "python",
   "pygments_lexer": "ipython3",
   "version": "3.10.11"
  }
 },
 "nbformat": 4,
 "nbformat_minor": 5
}
