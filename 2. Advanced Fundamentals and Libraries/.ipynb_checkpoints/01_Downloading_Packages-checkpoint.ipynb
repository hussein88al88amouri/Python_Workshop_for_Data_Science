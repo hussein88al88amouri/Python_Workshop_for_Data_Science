{
 "cells": [
  {
   "cell_type": "markdown",
   "id": "7e07b1a2",
   "metadata": {},
   "source": [
    "Before we can use required libraries like **NumPy**, **Pandas**, or **Scikit-Learn**, we need to make sure they are installed.  \n",
    "\n",
    "\n",
    "---"
   ]
  },
  {
   "cell_type": "markdown",
   "id": "0b887c47",
   "metadata": {},
   "source": [
    "## 2.1.1. Installing a Package\n",
    "\n",
    "You can install packages directly from your terminal or inside a Jupyter notebook using `pip`.\n",
    "\n",
    "- From the terminal: \n",
    "    - Installing packages\n",
    "    ```bash\n",
    "    pip install numpy pandas scikit-learn matplotlib\n",
    "    ```\n",
    "    - Checking installed packages \n",
    "    ```bash\n",
    "    pip show numpy pandas scikit-learn matplotlib\n",
    "    ```\n",
    "- Inside a jupyter Notebook \n",
    "    - Installing packages\n",
    "    ```python\n",
    "    %pip install numpy pandas scikit-learn matplotlib\n",
    "    ```\n",
    "    - Checking installed packages \n",
    "    ```python\n",
    "    %pip show pandas\n",
    "    ```"
   ]
  },
  {
   "cell_type": "code",
   "execution_count": null,
   "id": "d76e89fe",
   "metadata": {},
   "outputs": [],
   "source": [
    "%pip install numpy pandas scikit-learn matplotlib"
   ]
  },
  {
   "cell_type": "code",
   "execution_count": null,
   "id": "cdd9b4ee",
   "metadata": {},
   "outputs": [],
   "source": [
    "%pip show pandas"
   ]
  },
  {
   "cell_type": "markdown",
   "id": "fcb26687",
   "metadata": {},
   "source": [
    "---"
   ]
  },
  {
   "cell_type": "markdown",
   "id": "dfc59f3c",
   "metadata": {},
   "source": [
    "## 2.1.2. Importing After Installation\n"
   ]
  },
  {
   "cell_type": "markdown",
   "id": "c0ecf314",
   "metadata": {},
   "source": [
    "- `import` is used to import a library\n",
    "- `import module_name as mn` the `as` keyword is used to give an aliase to the name of the moduel.\n",
    "- `from module_name import name` is used to import a function `name` from `module_name`"
   ]
  },
  {
   "cell_type": "code",
   "execution_count": null,
   "id": "33b8143d",
   "metadata": {},
   "outputs": [],
   "source": [
    "import numpy as np # used for numerical analysis\n",
    "import pandas as pd # used fo tabular data\n",
    "from sklearn.linear_model import LinearRegression # used for machine learning\n",
    "import matplotlib.pyplot as plt # used for visualization\n",
    "print(\"All essential packages imported successfully!\")"
   ]
  }
 ],
 "metadata": {
  "kernelspec": {
   "display_name": "Python 3",
   "language": "python",
   "name": "python3"
  },
  "language_info": {
   "codemirror_mode": {
    "name": "ipython",
    "version": 3
   },
   "file_extension": ".py",
   "mimetype": "text/x-python",
   "name": "python",
   "nbconvert_exporter": "python",
   "pygments_lexer": "ipython3",
   "version": "3.10.11"
  }
 },
 "nbformat": 4,
 "nbformat_minor": 5
}
