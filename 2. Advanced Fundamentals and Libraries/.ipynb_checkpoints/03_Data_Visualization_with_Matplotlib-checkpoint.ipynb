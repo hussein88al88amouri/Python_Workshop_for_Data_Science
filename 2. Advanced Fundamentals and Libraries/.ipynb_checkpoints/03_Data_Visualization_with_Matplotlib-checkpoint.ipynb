{
 "cells": [
  {
   "cell_type": "markdown",
   "id": "19eac371",
   "metadata": {},
   "source": [
    "Introduction to visualization \n"
   ]
  },
  {
   "cell_type": "markdown",
   "id": "7aa4927c",
   "metadata": {},
   "source": [
    "---"
   ]
  },
  {
   "cell_type": "markdown",
   "id": "cb83d4bc",
   "metadata": {},
   "source": [
    "### 2.3.1. Visualization using Matplotlib"
   ]
  },
  {
   "cell_type": "markdown",
   "id": "e1470bc9",
   "metadata": {},
   "source": [
    "**Matplotlib** is the most commonly used library for data visualization in Python.  \n",
    "It is especially important in **machine learning** to quickly explore and understand data.  \n",
    "\n",
    "We will cover the most essential plots:\n",
    "- Line Plot\n",
    "- Scatter Plot\n",
    "- Boxplot\n",
    "- Bar Plot\n"
   ]
  },
  {
   "cell_type": "code",
   "execution_count": null,
   "id": "035d2633",
   "metadata": {},
   "outputs": [],
   "source": [
    "# Importing ploting library\n",
    "import matplotlib.pyplot as plt\n",
    "#Importing numpy for numerical copmuting\n",
    "import numpy as np\n"
   ]
  },
  {
   "cell_type": "markdown",
   "id": "b1c764f6",
   "metadata": {},
   "source": [
    "#### Line Plot"
   ]
  },
  {
   "cell_type": "code",
   "execution_count": null,
   "id": "77ee594a",
   "metadata": {},
   "outputs": [],
   "source": [
    "# Data\n",
    "x = np.linspace(0, 10, 100)\n",
    "y1 = np.sin(x)\n",
    "y2 = np.cos(x)\n",
    "\n",
    "# Plot\n",
    "plt.figure(figsize=(7,4))\n",
    "plt.plot(x, y1, label=\"sin(x)\", color=\"blue\")\n",
    "plt.plot(x, y2, label=\"cos(x)\", color=\"orange\", linestyle=\"--\")\n",
    "\n",
    "plt.title(\"Line Plot Example\")\n",
    "plt.xlabel(\"X values\")\n",
    "plt.ylabel(\"Y values\")\n",
    "plt.legend()\n",
    "plt.grid(True)\n",
    "plt.tight_layout()\n",
    "plt.show()\n"
   ]
  },
  {
   "cell_type": "markdown",
   "id": "29cba88b",
   "metadata": {},
   "source": [
    "#### Scatter plot"
   ]
  },
  {
   "cell_type": "code",
   "execution_count": null,
   "id": "2ee7b037",
   "metadata": {},
   "outputs": [],
   "source": [
    "# Random data\n",
    "x = np.random.rand(50)\n",
    "y = np.random.rand(50)\n",
    "\n",
    "plt.figure(figsize=(7,4))\n",
    "plt.scatter(x, y, color=\"red\", marker=\"o\")\n",
    "plt.title(\"Scatter Plot Example\")\n",
    "plt.xlabel(\"Feature 1\")\n",
    "plt.ylabel(\"Feature 2\")\n",
    "plt.tight_layout()\n",
    "plt.show()\n"
   ]
  },
  {
   "cell_type": "markdown",
   "id": "56b0bef1",
   "metadata": {},
   "source": [
    "#### Box plot"
   ]
  },
  {
   "cell_type": "code",
   "execution_count": null,
   "id": "30a01521",
   "metadata": {},
   "outputs": [],
   "source": [
    "# Random normally distributed data\n",
    "data = np.random.randn(100)\n",
    "\n",
    "plt.figure(figsize=(7,4))\n",
    "plt.boxplot(data)\n",
    "plt.title(\"Boxplot Example\")\n",
    "plt.xlabel(\"Data\")\n",
    "plt.ylabel(\"Values\")\n",
    "plt.tight_layout()\n",
    "plt.show()\n"
   ]
  },
  {
   "cell_type": "markdown",
   "id": "8ced48d7",
   "metadata": {},
   "source": [
    "#### Bar Plot"
   ]
  },
  {
   "cell_type": "code",
   "execution_count": null,
   "id": "e0be2c8a",
   "metadata": {},
   "outputs": [],
   "source": [
    "categories = [\"A\", \"B\", \"C\", \"D\"]\n",
    "values = [23, 45, 12, 36]\n",
    "\n",
    "plt.figure(figsize=(7,4))\n",
    "plt.bar(categories, values, color=\"skyblue\")\n",
    "plt.title(\"Bar Plot Example\")\n",
    "plt.xlabel(\"Categories\")\n",
    "plt.ylabel(\"Values\")\n",
    "plt.tight_layout()\n",
    "plt.show()\n"
   ]
  }
 ],
 "metadata": {
  "kernelspec": {
   "display_name": "Python 3",
   "language": "python",
   "name": "python3"
  },
  "language_info": {
   "codemirror_mode": {
    "name": "ipython",
    "version": 3
   },
   "file_extension": ".py",
   "mimetype": "text/x-python",
   "name": "python",
   "nbconvert_exporter": "python",
   "pygments_lexer": "ipython3",
   "version": "3.10.11"
  }
 },
 "nbformat": 4,
 "nbformat_minor": 5
}
