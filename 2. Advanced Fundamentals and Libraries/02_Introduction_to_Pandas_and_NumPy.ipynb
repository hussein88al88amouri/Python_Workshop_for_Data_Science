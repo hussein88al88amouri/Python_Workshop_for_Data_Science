{
 "cells": [
  {
   "cell_type": "markdown",
   "id": "1789b661",
   "metadata": {},
   "source": [
    "Introduction to Pandas, NumPy, Scikit-Learn, and Other Essential Modules in Python\n"
   ]
  },
  {
   "cell_type": "markdown",
   "id": "831c483e",
   "metadata": {},
   "source": [
    "---"
   ]
  },
  {
   "cell_type": "markdown",
   "id": "bf07a60f",
   "metadata": {},
   "source": [
    "### 2.2.1. Pandas and DataFrame"
   ]
  },
  {
   "cell_type": "markdown",
   "id": "b7e62ea6",
   "metadata": {},
   "source": [
    "DataFrame is the perfect module to work with tabular data.\\\n",
    "It is like an **Excel Spreed Sheet** or **Database Table**.\\\n",
    "Rows represents observations, and Columns representations Variables.\\\n",
    "Pandas is the moule that Provide DataFrame"
   ]
  },
  {
   "cell_type": "code",
   "execution_count": 23,
   "id": "30b87fa5",
   "metadata": {},
   "outputs": [
    {
     "name": "stdout",
     "output_type": "stream",
     "text": [
      "DataFrame:\n",
      "       Name  Age  Score\n",
      "0    Alice   24     85\n",
      "1      Bob   27     90\n",
      "2  Charlie   22     88\n",
      "Ages: 0    24\n",
      "1    27\n",
      "2    22\n",
      "Name: Age, dtype: int64\n",
      "Average Score: 87.66666666666667\n"
     ]
    }
   ],
   "source": [
    "import pandas as pd\n",
    "\n",
    "# Create a DataFrame\n",
    "data = {\n",
    "    \"Name\": [\"Alice\", \"Bob\", \"Charlie\"],\n",
    "    \"Age\": [24, 27, 22],\n",
    "    \"Score\": [85, 90, 88]\n",
    "}\n",
    "df = pd.DataFrame(data)\n",
    "\n",
    "print(\"DataFrame:\\n\", df)\n",
    "\n",
    "# Access columns\n",
    "print(\"Ages:\", df[\"Age\"])\n",
    "\n",
    "# Basic statistics\n",
    "print(\"Average Score:\", df[\"Score\"].mean())"
   ]
  },
  {
   "cell_type": "markdown",
   "id": "3f5f2d53",
   "metadata": {},
   "source": [
    "Inspecting Data Frame"
   ]
  },
  {
   "cell_type": "code",
   "execution_count": 24,
   "id": "a21ce241",
   "metadata": {},
   "outputs": [
    {
     "name": "stdout",
     "output_type": "stream",
     "text": [
      "Head of DataFrame\n",
      "      Name  Age  Score\n",
      "0    Alice   24     85\n",
      "1      Bob   27     90\n",
      "2  Charlie   22     88\n",
      "----\n",
      "Tail of DataFrame\n",
      "      Name  Age  Score\n",
      "1      Bob   27     90\n",
      "2  Charlie   22     88\n",
      "----\n",
      "Size of DataFrame\n",
      "(3, 3)\n",
      "----\n",
      "Column names\n",
      "Index(['Name', 'Age', 'Score'], dtype='object')\n",
      "----\n",
      "Summary info\n",
      "<class 'pandas.core.frame.DataFrame'>\n",
      "RangeIndex: 3 entries, 0 to 2\n",
      "Data columns (total 3 columns):\n",
      " #   Column  Non-Null Count  Dtype \n",
      "---  ------  --------------  ----- \n",
      " 0   Name    3 non-null      object\n",
      " 1   Age     3 non-null      int64 \n",
      " 2   Score   3 non-null      int64 \n",
      "dtypes: int64(2), object(1)\n",
      "memory usage: 200.0+ bytes\n",
      "None\n",
      "----\n",
      "Statistics\n",
      "             Age      Score\n",
      "count   3.000000   3.000000\n",
      "mean   24.333333  87.666667\n",
      "std     2.516611   2.516611\n",
      "min    22.000000  85.000000\n",
      "25%    23.000000  86.500000\n",
      "50%    24.000000  88.000000\n",
      "75%    25.500000  89.000000\n",
      "max    27.000000  90.000000\n",
      "----\n"
     ]
    }
   ],
   "source": [
    "print('Head of DataFrame')\n",
    "print(df.head())       # First 5 rows\n",
    "print('----')\n",
    "print('Tail of DataFrame')\n",
    "print(df.tail(2))      # Last 2 rows\n",
    "print('----')\n",
    "print('Size of DataFrame')\n",
    "print(df.shape)        # (rows, columns)\n",
    "print('----')\n",
    "print('Column names')\n",
    "print(df.columns)      # Column names\n",
    "print('----')\n",
    "print('Summary info')\n",
    "print(df.info())       # Summary info\n",
    "print('----')\n",
    "print('Statistics')\n",
    "print(df.describe())   # Statistics (for numeric columns)\n",
    "print('----')"
   ]
  },
  {
   "cell_type": "markdown",
   "id": "4a06da8b",
   "metadata": {},
   "source": [
    "Selecting Data"
   ]
  },
  {
   "cell_type": "code",
   "execution_count": 25,
   "id": "d938cd8b",
   "metadata": {},
   "outputs": [
    {
     "name": "stdout",
     "output_type": "stream",
     "text": [
      "Name     Alice\n",
      "Age         24\n",
      "Score       85\n",
      "Name: 0, dtype: object\n",
      "Name     Bob\n",
      "Age       27\n",
      "Score     90\n",
      "Name: 1, dtype: object\n",
      "0      Alice\n",
      "1        Bob\n",
      "2    Charlie\n",
      "Name: Name, dtype: object\n",
      "      Name  Score\n",
      "0    Alice     85\n",
      "1      Bob     90\n",
      "2  Charlie     88\n",
      "  Name  Age  Score\n",
      "1  Bob   27     90\n"
     ]
    }
   ],
   "source": [
    "# Rows\n",
    "print(df.iloc[0])      # First row by position\n",
    "print(df.loc[1])       # Row with index = 1\n",
    "\n",
    "# Columns\n",
    "print(df[\"Name\"])            # Single column (Series)\n",
    "print(df[[\"Name\", \"Score\"]]) # Multiple columns (DataFrame)\n",
    "\n",
    "# Filtering with condition\n",
    "print(df[df[\"Score\"] > 88])  # Rows where Score > 88\n"
   ]
  },
  {
   "cell_type": "markdown",
   "id": "48704f8d",
   "metadata": {},
   "source": [
    "Adding & Modifying Columns"
   ]
  },
  {
   "cell_type": "code",
   "execution_count": 26,
   "id": "f4a8ca7b",
   "metadata": {},
   "outputs": [
    {
     "name": "stdout",
     "output_type": "stream",
     "text": [
      "      Name  Age  Score  Passed\n",
      "0    Alice   25     85   False\n",
      "1      Bob   28     90    True\n",
      "2  Charlie   23     88   False\n"
     ]
    }
   ],
   "source": [
    "df[\"Passed\"] = df[\"Score\"] >= 90   # New column\n",
    "df[\"Age\"] = df[\"Age\"] + 1          # Modify column\n",
    "print(df)\n"
   ]
  },
  {
   "cell_type": "markdown",
   "id": "ed032057",
   "metadata": {},
   "source": [
    "Deleting Columns or Rows"
   ]
  },
  {
   "cell_type": "code",
   "execution_count": 27,
   "id": "d0c4dd69",
   "metadata": {},
   "outputs": [
    {
     "name": "stdout",
     "output_type": "stream",
     "text": [
      "    Name  Age  Score\n",
      "0  Alice   25     85\n",
      "1    Bob   28     90\n"
     ]
    }
   ],
   "source": [
    "df = df.drop(columns=[\"Passed\"])   # Drop a column\n",
    "df = df.drop(index=2)              # Drop a row by index\n",
    "print(df)\n"
   ]
  },
  {
   "cell_type": "markdown",
   "id": "d7c1a60b",
   "metadata": {},
   "source": [
    "Sorting Data"
   ]
  },
  {
   "cell_type": "code",
   "execution_count": 28,
   "id": "7a8eb5a8",
   "metadata": {},
   "outputs": [
    {
     "name": "stdout",
     "output_type": "stream",
     "text": [
      "    Name  Age  Score\n",
      "1    Bob   28     90\n",
      "0  Alice   25     85\n"
     ]
    }
   ],
   "source": [
    "sorted_df = df.sort_values(by=\"Score\", ascending=False)\n",
    "print(sorted_df)\n"
   ]
  },
  {
   "cell_type": "markdown",
   "id": "4f14efb1",
   "metadata": {},
   "source": [
    "saving and loading"
   ]
  },
  {
   "cell_type": "code",
   "execution_count": 29,
   "id": "928c6fd6",
   "metadata": {},
   "outputs": [
    {
     "name": "stdout",
     "output_type": "stream",
     "text": [
      "    Name  Age  Score\n",
      "0  Alice   25     85\n",
      "1    Bob   28     90\n"
     ]
    }
   ],
   "source": [
    "# Save to CSV\n",
    "df.to_csv(\"students.csv\", index=False)\n",
    "\n",
    "# Load from CSV\n",
    "new_df = pd.read_csv(\"students.csv\")\n",
    "print(new_df)\n"
   ]
  },
  {
   "cell_type": "markdown",
   "id": "cbbf0f27",
   "metadata": {},
   "source": [
    "### 2.2.2. NumPy: Numerical Computing"
   ]
  },
  {
   "cell_type": "markdown",
   "id": "b19d5557",
   "metadata": {},
   "source": [
    "\n",
    "NumPy provides support for arrays, matrices, and fast mathematical operations.\n"
   ]
  },
  {
   "cell_type": "markdown",
   "id": "b9020bca",
   "metadata": {},
   "source": [
    "Creating a numpy array"
   ]
  },
  {
   "cell_type": "code",
   "execution_count": 30,
   "id": "1fa0619c",
   "metadata": {},
   "outputs": [
    {
     "name": "stdout",
     "output_type": "stream",
     "text": [
      "1D Array: [1 2 3 4 5]\n",
      "2D Array:\n",
      " [[1 2 3]\n",
      " [4 5 6]]\n",
      "Zeros:\n",
      " [[0. 0. 0.]\n",
      " [0. 0. 0.]]\n",
      "Ones:\n",
      " [[1. 1. 1.]\n",
      " [1. 1. 1.]\n",
      " [1. 1. 1.]]\n",
      "Range array: [0 2 4 6 8]\n",
      "Linspace array: [0.   0.25 0.5  0.75 1.  ]\n",
      "Random array:\n",
      " [[0.01715991 0.23188792 0.014384  ]\n",
      " [0.72679633 0.07505027 0.86674514]\n",
      " [0.94317095 0.24298863 0.12875717]]\n",
      "Random integers:\n",
      " [[6 6 5 9]\n",
      " [4 3 3 5]]\n"
     ]
    }
   ],
   "source": [
    "import numpy as np\n",
    "\n",
    "# From a Python list\n",
    "arr1 = np.array([1, 2, 3, 4, 5])\n",
    "print(\"1D Array:\", arr1)\n",
    "\n",
    "# 2D Array (Matrix)\n",
    "arr2 = np.array([[1, 2, 3], [4, 5, 6]])\n",
    "print(\"2D Array:\\n\", arr2)\n",
    "\n",
    "# Arrays filled with zeros or ones\n",
    "zeros = np.zeros((2, 3))\n",
    "ones = np.ones((3, 3))\n",
    "print(\"Zeros:\\n\", zeros)\n",
    "print(\"Ones:\\n\", ones)\n",
    "\n",
    "# Array with a range\n",
    "arr_range = np.arange(0, 10, 2)   # from 0 to 10 step 2\n",
    "print(\"Range array:\", arr_range)\n",
    "\n",
    "# Evenly spaced values\n",
    "arr_linspace = np.linspace(0, 1, 5)   # 5 numbers between 0 and 1\n",
    "print(\"Linspace array:\", arr_linspace)\n",
    "\n",
    "# Random numbers\n",
    "rand_arr = np.random.rand(3, 3)   # Uniform [0,1)\n",
    "rand_ints = np.random.randint(1, 10, size=(2, 4))\n",
    "print(\"Random array:\\n\", rand_arr)\n",
    "print(\"Random integers:\\n\", rand_ints)\n"
   ]
  },
  {
   "cell_type": "markdown",
   "id": "32c174d4",
   "metadata": {},
   "source": [
    "array properties"
   ]
  },
  {
   "cell_type": "code",
   "execution_count": 31,
   "id": "51aac8b5",
   "metadata": {},
   "outputs": [
    {
     "name": "stdout",
     "output_type": "stream",
     "text": [
      "Shape: (2, 3)\n",
      "Size: 6\n",
      "Data type: int32\n",
      "Dimension: 2\n"
     ]
    }
   ],
   "source": [
    "print(\"Shape:\", arr2.shape)\n",
    "print(\"Size:\", arr2.size)\n",
    "print(\"Data type:\", arr2.dtype)\n",
    "print(\"Dimension:\", arr2.ndim)\n"
   ]
  },
  {
   "cell_type": "markdown",
   "id": "1d8b4f59",
   "metadata": {},
   "source": [
    "slicing and indexing"
   ]
  },
  {
   "cell_type": "code",
   "execution_count": 32,
   "id": "7880b13c",
   "metadata": {},
   "outputs": [
    {
     "name": "stdout",
     "output_type": "stream",
     "text": [
      "10\n",
      "50\n",
      "[20 30 40]\n",
      "3\n",
      "[[4 5]\n",
      " [7 8]]\n"
     ]
    }
   ],
   "source": [
    "arr = np.array([10, 20, 30, 40, 50])\n",
    "\n",
    "print(arr[0])     # First element\n",
    "print(arr[-1])    # Last element\n",
    "print(arr[1:4])   # Slice elements\n",
    "\n",
    "# 2D indexing\n",
    "mat = np.array([[1, 2, 3],\n",
    "                [4, 5, 6],\n",
    "                [7, 8, 9]])\n",
    "\n",
    "print(mat[0, 2])   # First row, third column\n",
    "print(mat[1:, :2]) # Rows 2-3, first 2 columns\n"
   ]
  },
  {
   "cell_type": "markdown",
   "id": "35394013",
   "metadata": {},
   "source": [
    "reshaping"
   ]
  },
  {
   "cell_type": "code",
   "execution_count": 33,
   "id": "fbe6adf3",
   "metadata": {},
   "outputs": [
    {
     "name": "stdout",
     "output_type": "stream",
     "text": [
      "Reshaped (3x4):\n",
      " [[ 0  1  2  3]\n",
      " [ 4  5  6  7]\n",
      " [ 8  9 10 11]]\n",
      "Flattened: [ 0  1  2  3  4  5  6  7  8  9 10 11]\n"
     ]
    }
   ],
   "source": [
    "arr = np.arange(12)   # [0,1,2,...,11]\n",
    "reshaped = arr.reshape(3, 4)\n",
    "print(\"Reshaped (3x4):\\n\", reshaped)\n",
    "\n",
    "flattened = reshaped.flatten()\n",
    "print(\"Flattened:\", flattened)\n"
   ]
  },
  {
   "cell_type": "markdown",
   "id": "699c0743",
   "metadata": {},
   "source": [
    "Some mathematical operation"
   ]
  },
  {
   "cell_type": "code",
   "execution_count": 34,
   "id": "523090eb",
   "metadata": {},
   "outputs": [
    {
     "name": "stdout",
     "output_type": "stream",
     "text": [
      "Addition: [11 22 33 44]\n",
      "Multiplication: [ 10  40  90 160]\n",
      "Square roots: [1.         1.41421356 1.73205081 2.        ]\n",
      "Dot product: 300\n"
     ]
    }
   ],
   "source": [
    "a = np.array([1, 2, 3, 4])\n",
    "b = np.array([10, 20, 30, 40])\n",
    "\n",
    "print(\"Addition:\", a + b)\n",
    "print(\"Multiplication:\", a * b)\n",
    "print(\"Square roots:\", np.sqrt(a))\n",
    "print(\"Dot product:\", np.dot(a, b))\n"
   ]
  },
  {
   "cell_type": "markdown",
   "id": "f397b339",
   "metadata": {},
   "source": [
    "Random Numbers"
   ]
  },
  {
   "cell_type": "code",
   "execution_count": null,
   "id": "1742a7a5",
   "metadata": {},
   "outputs": [
    {
     "name": "stdout",
     "output_type": "stream",
     "text": [
      "Random integer: 5\n",
      "Random integers: [7 1 9 7 7]\n",
      "2D array of random integers:\n",
      " [[21 10 17 18]\n",
      " [48 14 39 14]\n",
      " [38 39 37 31]]\n",
      "Random floats: [0.44771352 0.03457791 0.91482054]\n",
      "Normal distribution: [-0.98059166 -1.24697571 -1.42810696]\n"
     ]
    }
   ],
   "source": [
    "# Single integer between 0 and 10\n",
    "num = np.random.randint(0, 10)\n",
    "print(\"Random integer:\", num)\n",
    "\n",
    "# Random integers\n",
    "print(\"Random integers:\", np.random.randint(1, 10, size=5))\n",
    "\n",
    "# 2D array (3x4) of integers between 10 and 50\n",
    "arr2d = np.random.randint(10, 50, size=(3, 4))\n",
    "print(\"2D array of random integers:\\n\", arr2d)\n",
    "\n",
    "# Random floats (between 0 and 1)\n",
    "print(\"Random floats:\", np.random.rand(3))\n",
    "\n",
    "# Normal distribution\n",
    "print(\"Normal distribution:\", np.random.randn(3))\n",
    "\n",
    "# Single random float\n",
    "print(\"Random float:\", np.random.rand())\n",
    "\n",
    "# 1D array of 5 floats\n",
    "print(\"Random floats:\", np.random.rand(5))\n",
    "\n",
    "# 2D array (2x3) of floats\n",
    "print(\"Random float matrix:\\n\", np.random.rand(2, 3))"
   ]
  },
  {
   "cell_type": "markdown",
   "id": "a6027410",
   "metadata": {},
   "source": [
    "Randoms according to Normal Distribution"
   ]
  },
  {
   "cell_type": "code",
   "execution_count": null,
   "id": "b7b3a8ef",
   "metadata": {},
   "outputs": [],
   "source": [
    "\n",
    "# Single value\n",
    "print(\"Normal random value:\", np.random.randn())\n",
    "\n",
    "# 1D array of 5 values\n",
    "print(\"Normal random array:\", np.random.randn(5))\n",
    "\n",
    "# 2D array (3x3)\n",
    "print(\"Normal distribution matrix:\\n\", np.random.randn(3, 3))\n"
   ]
  },
  {
   "cell_type": "markdown",
   "id": "1bb184eb",
   "metadata": {},
   "source": [
    "Choosing from a list"
   ]
  },
  {
   "cell_type": "code",
   "execution_count": null,
   "id": "7986dd78",
   "metadata": {},
   "outputs": [],
   "source": [
    "# Pick one element from a list\n",
    "print(\"Choice:\", np.random.choice([10, 20, 30, 40]))\n",
    "\n",
    "# Pick multiple elements with replacement\n",
    "print(\"Choices with replacement:\", np.random.choice([1, 2, 3, 4, 5], size=3))\n",
    "\n",
    "# Pick without replacement\n",
    "print(\"Choices without replacement:\", np.random.choice([1, 2, 3, 4, 5], size=3, replace=False))\n"
   ]
  },
  {
   "cell_type": "markdown",
   "id": "f21fa85a",
   "metadata": {},
   "source": [
    "Linear Algebra"
   ]
  },
  {
   "cell_type": "code",
   "execution_count": 36,
   "id": "f95f7ff2",
   "metadata": {},
   "outputs": [
    {
     "name": "stdout",
     "output_type": "stream",
     "text": [
      "Matrix multiplication:\n",
      " [[19 22]\n",
      " [43 50]]\n",
      "Cross product [-4 -4]\n",
      "Transpose:\n",
      " [[1 3]\n",
      " [2 4]]\n",
      "Determinant: -2.0000000000000004\n",
      "Inverse:\n",
      " [[-2.   1. ]\n",
      " [ 1.5 -0.5]]\n"
     ]
    }
   ],
   "source": [
    "A = np.array([[1, 2], [3, 4]])\n",
    "B = np.array([[5, 6], [7, 8]])\n",
    "\n",
    "# Dot product   \n",
    "print(\"Matrix multiplication:\\n\", np.dot(A, B))\n",
    "\n",
    "# Cross product\n",
    "print(f\"Cross product {np.cross(A, B)}\")\n",
    "\n",
    "# Transpose\n",
    "print(\"Transpose:\\n\", A.T)\n",
    "\n",
    "# Determinant\n",
    "print(\"Determinant:\", np.linalg.det(A))\n",
    "\n",
    "# Inverse\n",
    "print(\"Inverse:\\n\", np.linalg.inv(A))\n"
   ]
  },
  {
   "cell_type": "markdown",
   "id": "3fb757d4",
   "metadata": {},
   "source": [
    "Statistics"
   ]
  },
  {
   "cell_type": "code",
   "execution_count": 37,
   "id": "52b85e3f",
   "metadata": {},
   "outputs": [
    {
     "name": "stdout",
     "output_type": "stream",
     "text": [
      "Mean: 5.0\n",
      "Median: 5.0\n",
      "Standard Deviation: 2.581988897471611\n"
     ]
    }
   ],
   "source": [
    "data = np.array([1, 2, 3, 4, 5, 6, 7, 8, 9])\n",
    "\n",
    "print(\"Mean:\", np.mean(data))\n",
    "print(\"Median:\", np.median(data))\n",
    "print(\"Standard Deviation:\", np.std(data))\n"
   ]
  },
  {
   "cell_type": "markdown",
   "id": "0ea7981d",
   "metadata": {},
   "source": [
    "Broadcasting"
   ]
  },
  {
   "cell_type": "code",
   "execution_count": 38,
   "id": "34f4d70c",
   "metadata": {},
   "outputs": [
    {
     "name": "stdout",
     "output_type": "stream",
     "text": [
      "[[11 12 13]\n",
      " [14 15 16]]\n",
      "[[2 2 2]\n",
      " [5 5 5]]\n"
     ]
    }
   ],
   "source": [
    "mat = np.array([[1, 2, 3],\n",
    "                [4, 5, 6]])\n",
    "\n",
    "# Add scalar to all elements\n",
    "print(mat + 10)\n",
    "\n",
    "# Add row vector to matrix\n",
    "row_vec = np.array([1, 0, -1])\n",
    "print(mat + row_vec)\n"
   ]
  },
  {
   "cell_type": "markdown",
   "id": "1dea629d",
   "metadata": {},
   "source": [
    "### 2.2.3. Conversion between Data Frame and Numpy and Vice Versa"
   ]
  },
  {
   "cell_type": "code",
   "execution_count": 39,
   "id": "a1ae4141",
   "metadata": {},
   "outputs": [
    {
     "name": "stdout",
     "output_type": "stream",
     "text": [
      "DataFrame from NumPy:\n",
      "    Col1  Col2  Col3\n",
      "0     1     2     3\n",
      "1     4     5     6\n",
      "2     7     8     9\n"
     ]
    }
   ],
   "source": [
    "import numpy as np\n",
    "import pandas as pd\n",
    "\n",
    "# Create a NumPy array\n",
    "arr = np.array([[1, 2, 3],\n",
    "                [4, 5, 6],\n",
    "                [7, 8, 9]])\n",
    "\n",
    "# Convert to DataFrame\n",
    "df = pd.DataFrame(arr, columns=[\"Col1\", \"Col2\", \"Col3\"])\n",
    "print(\"DataFrame from NumPy:\\n\", df)"
   ]
  },
  {
   "cell_type": "code",
   "execution_count": 40,
   "id": "8b5c9b76",
   "metadata": {},
   "outputs": [
    {
     "name": "stdout",
     "output_type": "stream",
     "text": [
      "NumPy array from DataFrame:\n",
      " [[1 2 3]\n",
      " [4 5 6]\n",
      " [7 8 9]]\n"
     ]
    }
   ],
   "source": [
    "# Convert DataFrame to NumPy array\n",
    "back_to_array = df.to_numpy()\n",
    "print(\"NumPy array from DataFrame:\\n\", back_to_array)\n"
   ]
  },
  {
   "cell_type": "code",
   "execution_count": 41,
   "id": "c6b366b8",
   "metadata": {},
   "outputs": [
    {
     "name": "stdout",
     "output_type": "stream",
     "text": [
      "Labeled DataFrame:\n",
      "       Feature1  Feature2  Feature3\n",
      "Row1         1         2         3\n",
      "Row2         4         5         6\n",
      "Row3         7         8         9\n"
     ]
    }
   ],
   "source": [
    "df2 = pd.DataFrame(arr, \n",
    "                   columns=[\"Feature1\", \"Feature2\", \"Feature3\"], \n",
    "                   index=[\"Row1\", \"Row2\", \"Row3\"])\n",
    "print(\"Labeled DataFrame:\\n\", df2)"
   ]
  },
  {
   "cell_type": "code",
   "execution_count": 42,
   "id": "cd405d9f",
   "metadata": {},
   "outputs": [
    {
     "name": "stdout",
     "output_type": "stream",
     "text": [
      "ML-style DataFrame:\n",
      "    SepalLength  SepalWidth  PetalLength  Target\n",
      "0          5.1         3.5          1.4       0\n",
      "1          4.9         3.0          1.4       0\n",
      "2          6.2         3.4          5.4       1\n"
     ]
    }
   ],
   "source": [
    "# Example: Features and Labels\n",
    "X = np.array([[5.1, 3.5, 1.4],\n",
    "              [4.9, 3.0, 1.4],\n",
    "              [6.2, 3.4, 5.4]])\n",
    "\n",
    "y = np.array([0, 0, 1])  # Labels\n",
    "\n",
    "# Convert to DataFrame for inspection\n",
    "df_ml = pd.DataFrame(X, columns=[\"SepalLength\", \"SepalWidth\", \"PetalLength\"])\n",
    "df_ml[\"Target\"] = y\n",
    "\n",
    "print(\"ML-style DataFrame:\\n\", df_ml)"
   ]
  }
 ],
 "metadata": {
  "kernelspec": {
   "display_name": "Python 3",
   "language": "python",
   "name": "python3"
  },
  "language_info": {
   "codemirror_mode": {
    "name": "ipython",
    "version": 3
   },
   "file_extension": ".py",
   "mimetype": "text/x-python",
   "name": "python",
   "nbconvert_exporter": "python",
   "pygments_lexer": "ipython3",
   "version": "3.10.11"
  }
 },
 "nbformat": 4,
 "nbformat_minor": 5
}
