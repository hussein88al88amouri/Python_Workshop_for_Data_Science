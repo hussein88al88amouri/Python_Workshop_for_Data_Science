{
 "cells": [
  {
   "cell_type": "markdown",
   "id": "e9875be9",
   "metadata": {},
   "source": [
    "###  Reading and writing text files"
   ]
  },
  {
   "cell_type": "markdown",
   "id": "91c98e57",
   "metadata": {},
   "source": [
    "To open a text file in Python, you can use the built-in open() function. \\\n",
    "It takes the file path as a parameter and returns a file object that can be used to perform various operations on the file.\n",
    "\n",
    "Here's an example of opening a text file named \"example.txt\" in read mode:\n",
    "```python\n",
    "file = open(\"example.txt\", \"r\")\n",
    "```"
   ]
  },
  {
   "cell_type": "markdown",
   "id": "68a65099",
   "metadata": {},
   "source": [
    "The read() method reads the entire contents of the file as a single string:"
   ]
  },
  {
   "cell_type": "code",
   "execution_count": null,
   "id": "4182e156",
   "metadata": {},
   "outputs": [],
   "source": [
    "\n",
    "file = open(\"example.txt\", \"r\")\n",
    "content = file.read()\n",
    "print(content)"
   ]
  },
  {
   "cell_type": "markdown",
   "id": "141a6f50",
   "metadata": {},
   "source": [
    "The readline() method reads one line at a time from the file:"
   ]
  },
  {
   "cell_type": "code",
   "execution_count": null,
   "id": "d033d6f7",
   "metadata": {},
   "outputs": [],
   "source": [
    "file = open(\"example.txt\", \"r\")\n",
    "line = file.readline()\n",
    "print(line)"
   ]
  },
  {
   "cell_type": "markdown",
   "id": "65a0e882",
   "metadata": {},
   "source": [
    "You can also iterate over the file object directly to read each line in a loop:"
   ]
  },
  {
   "cell_type": "code",
   "execution_count": null,
   "id": "85c13f70",
   "metadata": {},
   "outputs": [],
   "source": [
    "file = open(\"example.txt\", \"r\")\n",
    "for line in file:\n",
    "    print(line)"
   ]
  },
  {
   "cell_type": "markdown",
   "id": "4ac40857",
   "metadata": {},
   "source": [
    "writing to a text file"
   ]
  },
  {
   "cell_type": "code",
   "execution_count": null,
   "id": "b6f97ac7",
   "metadata": {},
   "outputs": [],
   "source": [
    "file = open(\"output.txt\", \"w\")\n",
    "file.write(\"Hello, World!\")\n",
    "file.close()"
   ]
  },
  {
   "cell_type": "markdown",
   "id": "98dd3820",
   "metadata": {},
   "source": [
    "appending to a text file"
   ]
  },
  {
   "cell_type": "code",
   "execution_count": null,
   "id": "4588343d",
   "metadata": {},
   "outputs": [],
   "source": [
    "file = open(\"output.txt\", \"a\")\n",
    "file.write(\"Appending new content.\")\n",
    "file.close()"
   ]
  },
  {
   "cell_type": "markdown",
   "id": "e7e0194f",
   "metadata": {},
   "source": [
    "Alternatively, you can use the with statement, which automatically closes the file when you're done with it:\n",
    "\n",
    "```python\n",
    "with open(\"example.txt\", \"r\") as file:\n",
    "    # Perform file operations\n",
    "```"
   ]
  },
  {
   "cell_type": "markdown",
   "id": "efdf5bbe",
   "metadata": {},
   "source": [
    "File path"
   ]
  },
  {
   "cell_type": "markdown",
   "id": "16b3adbf",
   "metadata": {},
   "source": [
    "\n",
    "A file path is the location of a file on the file system. In Python, you can use either a relative or an absolute file path to refer\n",
    "to a file. \n",
    "\n",
    "Here are a few examples:\n",
    "\n",
    "- Relative file path: \"example.txt\" (refers to a file in the current directory)\n",
    "- Absolute file path: \"C:/Documents/example.txt\" (refers to a file using the full path)\n",
    "\n",
    "When working with file paths, it's important to consider the platform you are working on. On different operating systems, file paths\n",
    "may use different separators. For example, Windows uses backslashes (`\\`) as the separator, while Unix-based systems use forward slashes (`/`).\n",
    "\n",
    "To handle file paths in a platform-independent way, you can use the os module in Python, which provides functions for working with\n",
    "file paths. Here's an example:"
   ]
  },
  {
   "cell_type": "code",
   "execution_count": null,
   "id": "1047ed3b",
   "metadata": {},
   "outputs": [],
   "source": [
    "import os\n",
    "\n",
    "# Joining file path components\n",
    "file_path = os.path.join(\"./\", \"example.txt\")\n",
    "\n",
    "# Checking if a file exists\n",
    "if os.path.exists(file_path):\n",
    "    print(\"File exists\")\n",
    "else:\n",
    "    print(\"File does not exist\")"
   ]
  },
  {
   "cell_type": "markdown",
   "id": "3ae6f91b",
   "metadata": {},
   "source": [
    "Using CSV"
   ]
  },
  {
   "cell_type": "markdown",
   "id": "e28dfe6d",
   "metadata": {},
   "source": [
    "reading rows in csv file"
   ]
  },
  {
   "cell_type": "code",
   "execution_count": null,
   "id": "c26c5a95",
   "metadata": {},
   "outputs": [],
   "source": [
    "import csv\n",
    "\n",
    "with open(\"data.csv\", \"r\") as file:\n",
    "    csv_reader = csv.reader(file)\n",
    "    for row in csv_reader:\n",
    "        print(row)"
   ]
  },
  {
   "cell_type": "markdown",
   "id": "ab2c8417",
   "metadata": {},
   "source": [
    "writing data to csv file"
   ]
  },
  {
   "cell_type": "code",
   "execution_count": null,
   "id": "4470b3d5",
   "metadata": {},
   "outputs": [],
   "source": [
    "import csv\n",
    "\n",
    "data = [\n",
    "    [\"Name\", \"Age\", \"Country\"],\n",
    "    [\"John\", 25, \"USA\"],\n",
    "    [\"Alice\", 30, \"Canada\"],\n",
    "    [\"Bob\", 28, \"UK\"]\n",
    "]\n",
    "\n",
    "with open(\"data.csv\", \"w\", newline=\"\") as file:\n",
    "    csv_writer = csv.writer(file)\n",
    "    csv_writer.writerows(data)"
   ]
  },
  {
   "cell_type": "markdown",
   "id": "ad17f373",
   "metadata": {},
   "source": [
    "writing data to csv file but with delimiter ; instead of , "
   ]
  },
  {
   "cell_type": "code",
   "execution_count": null,
   "id": "0f2df54b",
   "metadata": {},
   "outputs": [],
   "source": [
    "import csv\n",
    "\n",
    "with open(\"data.csv\", \"r\") as file:\n",
    "    csv_reader = csv.reader(file, delimiter=\";\")\n",
    "    for row in csv_reader:\n",
    "        print(row)"
   ]
  },
  {
   "cell_type": "code",
   "execution_count": null,
   "id": "f9e2b156",
   "metadata": {},
   "outputs": [],
   "source": [
    "import csv\n",
    "\n",
    "data = [\n",
    "    [\"Name\", \"Age\", \"Country\"],\n",
    "    [\"John\", 25, \"USA\"],\n",
    "    [\"Alice\", 30, \"Canada\"],\n",
    "    [\"Bob\", 28, \"UK\"]\n",
    "]\n",
    "\n",
    "with open(\"data.csv\", \"w\", newline=\"\") as file:\n",
    "    csv_writer = csv.writer(file, delimiter=\";\")\n",
    "    csv_writer.writerows(data)"
   ]
  },
  {
   "cell_type": "markdown",
   "id": "1b76c170",
   "metadata": {},
   "source": [
    "JSON"
   ]
  },
  {
   "cell_type": "code",
   "execution_count": null,
   "id": "992d2451",
   "metadata": {},
   "outputs": [],
   "source": [
    "import json\n",
    "\n",
    "with open(\"data.json\", \"r\") as file:\n",
    "    data = json.load(file)\n",
    "    print(data)"
   ]
  },
  {
   "cell_type": "code",
   "execution_count": null,
   "id": "be39de40",
   "metadata": {},
   "outputs": [],
   "source": [
    "import json\n",
    "\n",
    "data = {\n",
    "    \"name\": \"John\",\n",
    "    \"age\": 25,\n",
    "    \"country\": \"USA\"\n",
    "}\n",
    "\n",
    "with open(\"data.json\", \"w\") as file:\n",
    "    json.dump(data, file)"
   ]
  },
  {
   "cell_type": "markdown",
   "id": "56eccffd",
   "metadata": {},
   "source": [
    "Error Handlin"
   ]
  },
  {
   "cell_type": "markdown",
   "id": "9bc227db",
   "metadata": {},
   "source": [
    "The try block will contain the main block logic, if error happens inside the try block it will be caught in the except block.\\\n",
    "The except block then will launch and run the desired exception logic."
   ]
  },
  {
   "cell_type": "code",
   "execution_count": null,
   "id": "55432314",
   "metadata": {},
   "outputs": [],
   "source": [
    "try:\n",
    "    with open(\"data.txt\", \"r\") as file:\n",
    "        content = file.read()\n",
    "        print(content)\n",
    "except FileNotFoundError:\n",
    "    print(\"The file does not exist.\")"
   ]
  },
  {
   "cell_type": "code",
   "execution_count": null,
   "id": "2cfc4c06",
   "metadata": {},
   "outputs": [],
   "source": [
    "file = None\n",
    "try:\n",
    "    file = open(\"data.txt\", \"r\")\n",
    "    content = file.read()\n",
    "    print(content)\n",
    "except FileNotFoundError:\n",
    "    print(\"The file does not exist.\")\n",
    "finally:\n",
    "    if file is not None:\n",
    "        file.close()"
   ]
  },
  {
   "cell_type": "markdown",
   "id": "0b4ecefa",
   "metadata": {},
   "source": [
    "# Extra Read"
   ]
  },
  {
   "cell_type": "markdown",
   "id": "fe34a581",
   "metadata": {},
   "source": [
    "File modes\n",
    "\n",
    "File modes define how a file should be opened and accessed. When opening a file, you need to specify the mode as a second argument\n",
    "to the open() function. Here are some commonly used file modes:\n",
    "\n",
    "- 'r': Read mode. \n",
    "\n",
    "    Opens the file for reading. Raises an error if the file does not exist.\n",
    "\n",
    "- 'w': Write mode. \n",
    "\n",
    "    Opens the file for writing. Creates a new file if it doesn't exist, or truncates the file if it does.\n",
    "\n",
    "- 'a': Append mode. \n",
    "\n",
    "    Opens the file for appending. The file pointer is at the end of the file, and new data is written to the end.\n",
    "\n",
    "- 'x': Exclusive creation mode. \n",
    "\n",
    "    Creates a new file, but raises an error if the file already exists.\n",
    "\n",
    "- 'b': Binary mode. \n",
    "\n",
    "    Opens the file in binary mode, allowing you to read or write binary data.\n",
    "\n",
    "- 't': Text mode. \n",
    "\n",
    "    Opens the file in text mode, which is the default. In text mode, data is encoded as Unicode strings.\n",
    "\n",
    "You can combine multiple modes by specifying them as a string. For example, 'rb' opens the file in binary mode for reading."
   ]
  }
 ],
 "metadata": {
  "language_info": {
   "name": "python"
  }
 },
 "nbformat": 4,
 "nbformat_minor": 5
}
