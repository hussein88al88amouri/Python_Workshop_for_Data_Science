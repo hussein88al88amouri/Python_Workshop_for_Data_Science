{
 "cells": [
  {
   "cell_type": "markdown",
   "id": "15756abc",
   "metadata": {},
   "source": [
    "You will learn how to create and manage a virtual environment. It will isolate your workflow from the main python\n",
    "installation and other people."
   ]
  },
  {
   "cell_type": "markdown",
   "id": "86261b77",
   "metadata": {},
   "source": [
    "---"
   ]
  },
  {
   "cell_type": "markdown",
   "id": "3b1e44b0",
   "metadata": {},
   "source": [
    "## 1. Introduction"
   ]
  },
  {
   "cell_type": "markdown",
   "id": "b7ea32b8",
   "metadata": {},
   "source": [
    "\n",
    "Managing dependencies and packages in Python is crucial for creating reproducible projects and avoiding conflicts between libraries. This tutorial will guide you through **creating virtual environments**, **installing packages**, and **managing dependencies effectively**.\n",
    "\n",
    "---\n",
    "\n",
    "\n",
    "\n",
    "Python projects often require different versions of libraries. Installing all packages globally can lead to **version conflicts**. Virtual environments solve this by creating isolated Python environments for each project.\n",
    "\n",
    "### Key Concepts:\n",
    "\n",
    "* **Virtual Environment**: A self-contained Python environment with its own interpreter and libraries.\n",
    "* **Package Management**: Tools like `pip` or `conda` are used to install, update, and remove packages.\n",
    "* **Dependency Management**: Keeping track of libraries and versions needed for your project.\n",
    "\n",
    "---\n",
    "\n",
    "\n"
   ]
  },
  {
   "cell_type": "markdown",
   "id": "ca07c264",
   "metadata": {},
   "source": [
    "\n",
    "## 2. Setting Up a Virtual Environment\n",
    "\n",
    "Python comes with a built-in module `venv` to create virtual environments.\n",
    "\n",
    "### Steps:\n",
    "\n",
    "1. **Create a virtual environment**:\n",
    "\n",
    "```bash\n",
    "python -m venv my_env\n",
    "```\n",
    "\n",
    "* `my_env` is the name of the environment. You can name it anything.\n",
    "* This creates a folder `my_env/` with a separate Python installation.\n",
    "\n",
    "2. **Activate the environment**:\n",
    "\n",
    "* **Windows:**\n",
    "\n",
    "```bash\n",
    "my_env\\Scripts\\activate\n",
    "```\n",
    "\n",
    "* **macOS/Linux:**\n",
    "\n",
    "```bash\n",
    "source my_env/bin/activate\n",
    "```\n",
    "\n",
    "> When activated, you’ll see the environment name in your terminal prompt.\n",
    "\n",
    "3. **Deactivate the environment**:\n",
    "\n",
    "```bash\n",
    "deactivate\n",
    "```\n",
    "\n",
    "> Always deactivate when you’re done working in a project.\n",
    "\n",
    "---"
   ]
  },
  {
   "cell_type": "markdown",
   "id": "7d21cb3f",
   "metadata": {},
   "source": [
    "\n",
    "## 3. Installing Packages\n",
    "\n",
    "Once the environment is activated, you can install packages without affecting the global Python installation.\n",
    "\n",
    "### Using `pip`:\n",
    "\n",
    "```bash\n",
    "pip install numpy pandas matplotlib\n",
    "```\n",
    "\n",
    "### Verifying installed packages:\n",
    "\n",
    "```bash\n",
    "pip list\n",
    "```\n",
    "\n",
    "### Installing a specific version:\n",
    "\n",
    "```bash\n",
    "pip install numpy==1.25.0\n",
    "```\n",
    "\n",
    "---\n"
   ]
  },
  {
   "cell_type": "markdown",
   "id": "89a64744",
   "metadata": {},
   "source": [
    "## 4. Saving and Reproducing Dependencies\n",
    "\n",
    "For collaboration and deployment, it’s important to save the list of dependencies.\n",
    "\n",
    "### 1. Export dependencies:\n",
    "\n",
    "```bash\n",
    "pip freeze > requirements.txt\n",
    "```\n",
    "\n",
    "* This creates a `requirements.txt` file listing all installed packages and their versions.\n",
    "\n",
    "### 2. Install from requirements:\n",
    "\n",
    "```bash\n",
    "pip install -r requirements.txt\n",
    "```\n",
    "\n",
    "> This ensures another environment will have the same setup.\n",
    "\n",
    "---\n"
   ]
  },
  {
   "cell_type": "markdown",
   "metadata": {},
   "source": []
  },
  {
   "cell_type": "markdown",
   "id": "00280ef8",
   "metadata": {},
   "source": [
    "\n",
    "## 5. Using `conda` (Optional Alternative)\n",
    "\n",
    "`conda` is another environment and package manager, especially popular in data science.\n",
    "\n",
    "### Create a conda environment:\n",
    "\n",
    "```bash\n",
    "conda create -n my_conda_env python=3.11\n",
    "```\n",
    "\n",
    "### Activate conda environment:\n",
    "\n",
    "```bash\n",
    "conda activate my_conda_env\n",
    "```\n",
    "\n",
    "### Install packages:\n",
    "\n",
    "```bash\n",
    "conda install numpy pandas matplotlib\n",
    "```\n",
    "\n",
    "### Export environment:\n",
    "\n",
    "```bash\n",
    "conda env export > environment.yml\n",
    "```\n",
    "\n",
    "### Recreate environment from file:\n",
    "\n",
    "```bash\n",
    "conda env create -f environment.yml\n",
    "```\n",
    "\n",
    "---\n",
    "\n"
   ]
  },
  {
   "cell_type": "markdown",
   "id": "bd3b664c",
   "metadata": {},
   "source": [
    "\n",
    "## 6. Best Practices\n",
    "\n",
    "1. Always use virtual environments for new projects.\n",
    "2. Use `requirements.txt` or `environment.yml` to track dependencies.\n",
    "3. Avoid installing packages globally unless necessary.\n",
    "4. Regularly update packages but check for compatibility.\n",
    "5. Document the Python version used.\n",
    "\n",
    "---\n"
   ]
  },
  {
   "cell_type": "markdown",
   "id": "4876e665",
   "metadata": {},
   "source": [
    "## 7. Quick Recap\n",
    "\n",
    "| Task                      | Command                                                       |\n",
    "| ------------------------- | ------------------------------------------------------------- |\n",
    "| Create venv               | `python -m venv env_name`                                     |\n",
    "| Activate venv             | `source env_name/bin/activate` or `env_name\\Scripts\\activate` |\n",
    "| Deactivate                | `deactivate`                                                  |\n",
    "| Install package           | `pip install package_name`                                    |\n",
    "| List packages             | `pip list`                                                    |\n",
    "| Freeze requirements       | `pip freeze > requirements.txt`                               |\n",
    "| Install from requirements | `pip install -r requirements.txt`                             |\n",
    "\n",
    "---\n",
    "\n",
    "This tutorial covers the essential workflow for **virtual environments and package management**. With this knowledge, you can manage Python projects cleanly and avoid dependency conflicts.\n",
    "\n",
    "---\n"
   ]
  }
 ],
 "metadata": {
  "language_info": {
   "name": "python"
  }
 },
 "nbformat": 4,
 "nbformat_minor": 5
}
