{
 "cells": [
  {
   "cell_type": "markdown",
   "id": "6ea387de",
   "metadata": {},
   "source": [
    "You will Learn how to install and prepare the python environment using Vscode or Jupyter Notebook."
   ]
  },
  {
   "cell_type": "markdown",
   "id": "dec1c97d",
   "metadata": {},
   "source": [
    "***"
   ]
  },
  {
   "cell_type": "markdown",
   "id": "9cd39c27",
   "metadata": {},
   "source": [
    "### 1.2.1. Installing Python (latest stable release - 3.9 or 3.10)\n",
    "\n",
    "- Open your web browser and go to the official Python downloads page:\n",
    "    https://www.python.org/downloads/\n",
    "- Scroll down and locate Python 3.9.x in the list of available downloads.\n",
    "- Click on the version, which takes you to its download page.\n",
    "- Under \"Files\" on the download page, choose the appropriate installer for your system:\n",
    "\n",
    "    - For Windows 64-bit, click the Windows installer (64-bit) link (usually an .exe file), choose the 32-bit installer if needed.\n",
    "- Once downloaded, run the installer file.\n",
    "\n",
    "- In the installer window:\n",
    "    - Important: Check the box Add Python to PATH at the bottom.\n",
    "    - Click Install Now to proceed with default options.\n",
    "    - Wait for the installation to complete, then click Close.\n",
    "\n",
    "- Verify the installation:\n",
    "    - Open Command Prompt (Win + R, type cmd, and press Enter).\n",
    "    - Type **python --version** and press Enter.\n",
    "    - You should see the installed Python version, such as Python 3.9.x.\n",
    "\n",
    "For macOS and Linux, similar steps apply where you download the appropriate installer or use package managers like brew (macOS) or apt (Linux).\n",
    "\n",
    "This simple step-by-step ensures Python 3.9.x is correctly installed with PATH setup to allow running Python from any command line window.\n",
    "\n",
    "References:\n",
    "- Official Python download page: https://www.python.org/downloads/\n",
    "- Installation guide on RealPython: https://realpython.com/installing-python/\n",
    "- Windows specific guide by DigitalOcean: https://www.digitalocean.com/community/tutorials/install-python-windows-10\n"
   ]
  },
  {
   "cell_type": "markdown",
   "id": "733c92bd",
   "metadata": {},
   "source": [
    "***"
   ]
  },
  {
   "cell_type": "markdown",
   "id": "ed809ccd",
   "metadata": {},
   "source": [
    "### 1.2.2. Installing and setting up VS Code as Python IDE (GoogleColab and Jupyter NoteBook)\n",
    "\n",
    "There is multiple ways to work with python as mentioned before. In this section you will be introduced on how \n",
    "to use GoogleColab, Jypter Notebook and setup VS Code to work with Jupyter NoteBook. \n",
    "In this workshop we will be working with Jupyter Notebook in VS code.\n",
    "\n",
    "- Installing and Setting up VS Code for Python\n",
    "    - Download and install Visual Studio Code (VS Code) from https://code.visualstudio.com/\n",
    "    - Open VS Code. Go to the Extensions view by clicking the square icon on the sidebar or press Ctrl+Shift+X.\n",
    "    - Search for the Python extension by Microsoft and click Install. This provides Python language support, debugging, IntelliSense, linting, and more.\n",
    "    - In VS Code, open a folder as your workspace via File > Open Folder.\n",
    "    - Create a new Python file with .py extension (e.g., hello.py).\n",
    "    - Select your Python interpreter by opening the Command Palette (Ctrl+Shift+P), typing Python: Select Interpreter, and picking the installed Python version.\n",
    "    - You can now write and run Python code in VS Code by clicking the green Run Python File button or running code snippets in the terminal.\n",
    "\n",
    "- Setting up Jupyter Notebook in VS Code\n",
    "    - Within VS Code, install the Jupyter extension (search and install in Extensions view).\n",
    "    - Open or create .ipynb files (Jupyter notebooks) directly inside VS Code.\n",
    "    - Run cells interactively, visualize outputs, and leverage notebook features without leaving the editor.\n",
    "\n",
    "- Using Google Colab for Python/Jupyter Notebooks (cloud alternative)\n",
    "    - Visit https://colab.research.google.com/\n",
    "    - Sign in with a Google account.\n",
    "    - Create a new notebook, which runs Python code on Google’s cloud servers without local installation.\n",
    "    - Upload or create notebooks, run code cells interactively, and share notebooks online easily.\n",
    "\n",
    "- Installing Jupyter Notebook outside VS Code\n",
    "    - Install Jupyter Notebook using pip `pip install notebook`\n",
    "    - Start Jupyter Notebook from terminal `jupyter notebook`\n",
    "    - OR you can Install Jupter Lab\n",
    "        ```bash\n",
    "        pip install jupyterlab\n",
    "        jupyter lab\n",
    "        ```\n",
    "    - Paste similar generated link (`http://localhost:8888/?token=...`) to a browser\n",
    "\n",
    "This setup tutorial covers local IDE (VS Code) with Python and Jupyter support, and cloud-based notebook usage with Google Colab for versatile Python programming and AI workflows.\n",
    "\n",
    "References:\n",
    "- Official VS Code Python docs: https://code.visualstudio.com/docs/python/python-tutorial\n",
    "- Google Colab Welcome: https://colab.research.google.com/notebooks/intro.ipynb\n",
    "- YouTube tutorial examples for VS Code Python setup"
   ]
  },
  {
   "cell_type": "markdown",
   "id": "6ac93c83",
   "metadata": {},
   "source": [
    "***"
   ]
  },
  {
   "cell_type": "markdown",
   "id": "d0df4d84",
   "metadata": {},
   "source": [
    "### 1.2.3. Introduction to interactive coding\n",
    "\n",
    "Python provides an interactive mode, commonly referred to as a Python shell or REPL (Read-Eval-Print Loop), \n",
    "which allows you to execute Python code line by line and see the immediate results. This mode is useful for testing code\n",
    "snippets, experimenting with language features, and performing quick calculations.\n",
    "\n",
    "#### Launching the Python Shell\n",
    "\n",
    "To launch the Python shell, open a command prompt or terminal and enter the python command. \n",
    "This will start the Python interpreter and display a prompt indicating that you can enter Python code. \n",
    "Depending on your system, you may need to use python3 command to launch the Python 3 interpreter.\n",
    "\n",
    "#### Executing Python statements interactively\n",
    "\n",
    "Once the Python shell is launched, you can start entering Python statements and expressions, and the interpreter will execute them immediately. For example, you can try entering simple mathematical expressions:\n",
    "\n",
    "```python\n",
    ">>> 2 + 3  # Output: 5\n",
    "```\n",
    "\n",
    "```python\n",
    ">>> 10 / 2  # Output: 5.0\n",
    "```\n",
    "\n",
    "You can also define variables, create functions, and execute more complex code:\n",
    "\n",
    "```python\n",
    ">>> x = 5\n",
    ">>> y = 2 * x + 3\n",
    ">>> y  # Output: 13\n",
    "```\n",
    "\n",
    "```python\n",
    ">>> def square(n):\n",
    "...     return n ** 2\n",
    "...\n",
    ">>> square(4)\n",
    "```\n",
    "\n",
    "#### Exiting the Python Shell\n",
    "\n",
    "To exit the Python shell, you can use the exit() or quit() function or press the appropriate key combination for your operating \n",
    "system (such as Ctrl+Z or Ctrl+D).\n",
    "\n",
    "By running Python in interactive mode, you have a convenient way to test code, experiment with different ideas, \n",
    "and get immediate feedback. It's a valuable tool for learning and exploring Python's features and capabilities\n"
   ]
  },
  {
   "cell_type": "markdown",
   "id": "afe527fa",
   "metadata": {},
   "source": [
    "***"
   ]
  },
  {
   "cell_type": "markdown",
   "id": "cc9c4902",
   "metadata": {},
   "source": [
    "### 1.2.4. Running Python code: scripts vs notebooks\n",
    "\n",
    "- Python scripts are saved as text files with the .py extension while notebooks in .ipynb.\n",
    "- The scripts can be executed using various methods while notebooks are interactive and need to be used with either of the methods mentioned in previous section. \n",
    "- Running Python scripts allows you to execute a series of Python statements or functions stored in a file.\n",
    "- To create a Python script, you can use any text editor or integrated development environment (IDE) of your choice. \n",
    "- Once you have created your Python script, you can execute it from the command line by invoking the Python interpreter followed by the name of the script file.\n",
    "    - Open a command prompt or terminal, navigate to the directory where your script is located, and use the following command:\n",
    "\n",
    "    ```shell\n",
    "    PS C:\\Users\\UserName> python my_script.py\n",
    "    ```\n",
    "\n",
    "    The Python interpreter will read the contents of the script file, execute the statements sequentially, and display the output  or perform any desired actions."
   ]
  }
 ],
 "metadata": {
  "language_info": {
   "name": "python"
  }
 },
 "nbformat": 4,
 "nbformat_minor": 5
}
