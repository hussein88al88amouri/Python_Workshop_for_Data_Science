{
 "cells": [
  {
   "cell_type": "markdown",
   "id": "f6c03b24",
   "metadata": {},
   "source": [
    "You will learn about Python Collections: Powerful Data Structures (lists, tuples, sets, dictionaries) Beyond Standard Types"
   ]
  },
  {
   "cell_type": "markdown",
   "id": "cff42259",
   "metadata": {},
   "source": [
    "***"
   ]
  },
  {
   "cell_type": "markdown",
   "id": "1222a4af",
   "metadata": {},
   "source": [
    "### 1.4.1. Collections: Lists, Tuples, and Dictionary"
   ]
  },
  {
   "cell_type": "markdown",
   "id": "9cfc1b53",
   "metadata": {},
   "source": [
    "- Collections are data structures used to store multiple values together.\\\n",
    "- There are several built-in collection types that provide different functionalities for organizing and manipulating data. \\\n",
    "- Collections in python are either mutable or immutable. \\\n",
    "    Mutable means that you can modify their elements while immutable you can not change their elements after being created.\n",
    "- Collections:\n",
    "    - List\n",
    "    - Tuples\n",
    "    - Sets\n",
    "    - Dictionaries"
   ]
  },
  {
   "cell_type": "markdown",
   "id": "c4392934",
   "metadata": {},
   "source": [
    "##### Lists"
   ]
  },
  {
   "cell_type": "markdown",
   "id": "823cb60c",
   "metadata": {},
   "source": [
    "- A list is an ordered collection that can contain elements of different data types. \n",
    "- Lists are mutable.\n",
    "- They are defined by enclosing elements in square brackets ([]) and separating them with commas.\n",
    "\n",
    "For example:"
   ]
  },
  {
   "cell_type": "code",
   "execution_count": null,
   "id": "b6770238",
   "metadata": {},
   "outputs": [],
   "source": [
    "fruits = ['apple', 'banana', 'cherry']\n",
    "numbers = [1, 2, 3, 4, 5]\n",
    "mixed = [1, 'apple', True]\n",
    "\n",
    "print(fruits)  # Output: ['apple', 'banana', 'cherry']\n",
    "print(numbers)  # Output: [1, 2, 3, 4, 5]\n",
    "print(mixed)  # Output: [1, 'apple', True]"
   ]
  },
  {
   "cell_type": "code",
   "execution_count": null,
   "id": "32b27ca6",
   "metadata": {},
   "outputs": [],
   "source": [
    "fruits = ['apple', 'banana', 'cherry']\n",
    "numbers = [1, 2, 3, 4, 5]\n",
    "mixed = [1, 'apple', True]\n",
    "\n",
    "# Append an item to a list\n",
    "fruits.append('orange')\n",
    "print(fruits)  # Output: ['apple', 'banana', 'cherry', 'orange']\n",
    "\n",
    "# Get the length of a list\n",
    "length = len(numbers)\n",
    "print(length)  # Output: 5\n",
    "\n",
    "# Access an item by index\n",
    "item = mixed[1]\n",
    "print(item)  # Output: 'apple'\n",
    "\n",
    "# Remove an item from a list\n",
    "numbers.remove(3)\n",
    "print(numbers)  # Output: [1, 2, 4, 5]\n",
    "\n",
    "# Check if an item exists in a list\n",
    "exists = 'apple' in fruits\n",
    "print(exists)  # Output: True\n",
    "\n",
    "# Count the occurrences of an item in a list\n",
    "count = mixed.count(1)\n",
    "print(count)  # Output: 1\n",
    "\n",
    "# Reverse the order of a list\n",
    "fruits.reverse()\n",
    "print(fruits)  # Output: ['orange', 'cherry', 'banana', 'apple']\n",
    "\n",
    "# Sort a list in ascending order\n",
    "numbers.sort()\n",
    "print(numbers)  # Output: [1, 2, 4, 5]"
   ]
  },
  {
   "cell_type": "markdown",
   "id": "fd71218f",
   "metadata": {},
   "source": [
    "##### Tuples"
   ]
  },
  {
   "cell_type": "markdown",
   "id": "5675eb71",
   "metadata": {},
   "source": [
    "- A set is an ordered collection similar to a list.\n",
    "- Tuples are immutable.\n",
    "- Tuples are defined by enclosing elements in parentheses (()) and separating them with commas. \n",
    "\n",
    "For example:"
   ]
  },
  {
   "cell_type": "code",
   "execution_count": null,
   "id": "b093c28a",
   "metadata": {},
   "outputs": [],
   "source": [
    "coordinates = (3, 4)\n",
    "person = ('John', 25, 'Engineer')\n",
    "\n",
    "print(coordinates)  # Output: (3, 4)\n",
    "print(person)  # Output: ('John', 25, 'Engineer')"
   ]
  },
  {
   "cell_type": "code",
   "execution_count": null,
   "id": "653252e3",
   "metadata": {},
   "outputs": [],
   "source": [
    "coordinates = (3, 4)\n",
    "person = ('John', 25, 'Engineer')\n",
    "\n",
    "# Access an item by index\n",
    "x = coordinates[0]\n",
    "print(x)  # Output: 3\n",
    "\n",
    "# Get the length of a tuple\n",
    "length = len(person)\n",
    "print(length)  # Output: 3\n",
    "\n",
    "# Concatenate two tuples\n",
    "combined = coordinates + person\n",
    "print(combined)  # Output: (3, 4, 'John', 25, 'Engineer')\n",
    "\n",
    "# Count the occurrences of an item in a tuple\n",
    "count = person.count('Engineer')\n",
    "print(count)  # Output: 1\n",
    "\n",
    "# Find the index of an item in a tuple\n",
    "index = person.index('John')\n",
    "print(index)  # Output: 0\n",
    "\n",
    "# Check if an item exists in a tuple\n",
    "exists = 25 in person\n",
    "print(exists)  # Output: True"
   ]
  },
  {
   "cell_type": "markdown",
   "id": "0cb5f898",
   "metadata": {},
   "source": [
    "##### Sets"
   ]
  },
  {
   "cell_type": "markdown",
   "id": "a7d44e26",
   "metadata": {},
   "source": [
    "- A set is an unordered collection of unique elements. \n",
    "- Sets are mutable.\n",
    "- Sets are defined by enclosing elements in curly braces ({}) or using the set() constructor. \n",
    "\n",
    "For example:"
   ]
  },
  {
   "cell_type": "code",
   "execution_count": null,
   "id": "25c9cece",
   "metadata": {},
   "outputs": [],
   "source": [
    "fruits = {'apple', 'banana', 'cherry'}\n",
    "numbers = set([1, 2, 3, 4, 5])\n",
    "\n",
    "print(fruits)  # Output: {'apple', 'banana', 'cherry'}\n",
    "print(numbers)  # Output: {1, 2, 3, 4, 5}"
   ]
  },
  {
   "cell_type": "code",
   "execution_count": null,
   "id": "bbb2ddff",
   "metadata": {},
   "outputs": [],
   "source": [
    "fruits = {'apple', 'banana', 'cherry'}\n",
    "numbers = set([1, 2, 3, 4, 5])\n",
    "\n",
    "# Add an item to a set\n",
    "fruits.add('orange')\n",
    "print(fruits)  # Output: {'apple', 'banana', 'cherry', 'orange'}\n",
    "\n",
    "# Remove an item from a set\n",
    "numbers.remove(3)\n",
    "print(numbers)  # Output: {1, 2, 4, 5}\n",
    "\n",
    "# Check if an item exists in a set\n",
    "exists = 'apple' in fruits\n",
    "print(exists)  # Output: True\n",
    "\n",
    "# Get the length of a set\n",
    "length = len(numbers)\n",
    "print(length)  # Output: 4\n",
    "\n",
    "# Perform union of two sets\n",
    "combined = fruits.union(numbers)\n",
    "print(combined)  # Output: {1, 2, 4, 5, 'banana', 'apple', 'cherry', 'orange'}\n",
    "\n",
    "# Perform intersection of two sets\n",
    "intersection = fruits.intersection(numbers)\n",
    "print(intersection)  # Output: set()\n",
    "\n",
    "# Perform difference of two sets\n",
    "difference = fruits.difference(numbers)\n",
    "print(difference)  # Output: {'banana', 'apple', 'cherry', 'orange'}"
   ]
  },
  {
   "cell_type": "markdown",
   "id": "3cc531b5",
   "metadata": {},
   "source": [
    "##### Dictionary"
   ]
  },
  {
   "cell_type": "markdown",
   "id": "6771571a",
   "metadata": {},
   "source": [
    "- A dictionary is an unordered collection of key-value pairs.\n",
    "- Each value is associated with a unique key, allowing for efficient retrieval of values based on their keys.\n",
    "- Dictionaries are defined by enclosing key-value pairs in curly braces ({}) or using the dict() constructor. \n",
    "\n",
    "For example:"
   ]
  },
  {
   "cell_type": "code",
   "execution_count": null,
   "id": "6d6485a2",
   "metadata": {},
   "outputs": [],
   "source": [
    "person = {'name': 'John', 'age': 25, 'occupation': 'Engineer'}\n",
    "\n",
    "print(person)  # Output: {'name': 'John', 'age': 25, 'occupation': 'Engineer'}"
   ]
  },
  {
   "cell_type": "code",
   "execution_count": null,
   "id": "418e3ad3",
   "metadata": {},
   "outputs": [],
   "source": [
    "person = {'name': 'John', 'age': 25, 'occupation': 'Engineer'}\n",
    "\n",
    "# Access a value by key\n",
    "name = person['name']\n",
    "print(name)  # Output: 'John'\n",
    "\n",
    "# Get the keys of a dictionary\n",
    "keys = person.keys()\n",
    "print(keys)  # Output: dict_keys(['name', 'age', 'occupation'])\n",
    "\n",
    "# Get the values of a dictionary\n",
    "values = person.values()\n",
    "print(values)  # Output: dict_values(['John', 25, 'Engineer'])\n",
    "\n",
    "# Check if a key exists in a dictionary\n",
    "exists = 'age' in person\n",
    "print(exists)  # Output: True\n",
    "\n",
    "# Add a new key-value pair to a dictionary\n",
    "person['city'] = 'New York'\n",
    "print(person)  # Output: {'name': 'John', 'age': 25, 'occupation': 'Engineer', 'city': 'New York'}\n",
    "\n",
    "# Remove a key-value pair from a dictionary\n",
    "removed_value = person.pop('occupation')\n",
    "print(removed_value)  # Output: 'Engineer'\n",
    "print(person)  # Output: {'name': 'John', 'age': 25, 'city': 'New York'}\n",
    "\n",
    "# Clear all key-value pairs from a dictionary\n",
    "person.clear()\n",
    "print(person)  # Output: {}"
   ]
  },
  {
   "cell_type": "markdown",
   "id": "ebd1a5e8",
   "metadata": {},
   "source": [
    "***"
   ]
  },
  {
   "cell_type": "markdown",
   "id": "4af0cefd",
   "metadata": {},
   "source": [
    "### 1.4.2. Operators"
   ]
  },
  {
   "cell_type": "markdown",
   "id": "3742d356",
   "metadata": {},
   "source": [
    "Python supports several types of operators including arithmetic, comparison, logical, assignment, and bitwise operators. These can be applied both on basic data types and collections like lists or tuples. Python also defines operator precedence that determines the order of evaluation."
   ]
  },
  {
   "cell_type": "markdown",
   "id": "3d0336d6",
   "metadata": {},
   "source": [
    "Arithmetic Operators\n",
    "- Used for mathematical operations on numbers.\n",
    "- Example:\n"
   ]
  },
  {
   "cell_type": "code",
   "execution_count": null,
   "id": "5c91e40c",
   "metadata": {},
   "outputs": [],
   "source": [
    "a, b = 10, 3\n",
    "print(a + b) # Addition: 13\n",
    "print(a * b) # Multiplication: 30\n",
    "print(a // b) # Floor division: 3"
   ]
  },
  {
   "cell_type": "markdown",
   "id": "a8412a4f",
   "metadata": {},
   "source": [
    " Comparison Operators\n",
    "- Compare two values and return a boolean.\n",
    "- Example:"
   ]
  },
  {
   "cell_type": "code",
   "execution_count": null,
   "id": "cf6cbf1b",
   "metadata": {},
   "outputs": [],
   "source": [
    "print(a > b) # True\n",
    "print(a < b) # False\n",
    "print(a == b) # False\n",
    "print(a != b) # True\n",
    "print(a >= b) # True\n",
    "print(a <= b) # False"
   ]
  },
  {
   "cell_type": "markdown",
   "id": "853614b0",
   "metadata": {},
   "source": [
    "Logical Operators\n",
    "- Combine boolean expressions.\n",
    "- Example:\n"
   ]
  },
  {
   "cell_type": "code",
   "execution_count": null,
   "id": "0f7b646e",
   "metadata": {},
   "outputs": [],
   "source": [
    "x, y = True, False\n",
    "print(x and y) # False\n",
    "print(x or y) # True\n",
    "print(not x) # False"
   ]
  },
  {
   "cell_type": "markdown",
   "id": "86829eaa",
   "metadata": {},
   "source": [
    "Assignment Operators\n",
    "- Assign or modify values.\n",
    "- Example:\n"
   ]
  },
  {
   "cell_type": "code",
   "execution_count": null,
   "id": "60b13e30",
   "metadata": {},
   "outputs": [],
   "source": [
    "c = 5\n",
    "c += 3 # equivalent to c = c + 3; it also works with *, /, //, %\n",
    "print(c) # 8"
   ]
  },
  {
   "cell_type": "markdown",
   "id": "f6fbfe0b",
   "metadata": {},
   "source": [
    " Bitwise Operators\n",
    "- Operate on binary representations of integers.\n",
    "- Example:"
   ]
  },
  {
   "cell_type": "code",
   "execution_count": null,
   "id": "e37c4771",
   "metadata": {},
   "outputs": [],
   "source": [
    "m, n = 5, 3 # binary 0101 and 0011\n",
    "print(m & n) # Bitwise AND: 1 (0001)\n",
    "print(m | n) # Bitwise OR: 7 (0111)"
   ]
  },
  {
   "cell_type": "code",
   "execution_count": null,
   "id": "65fa5705",
   "metadata": {},
   "outputs": [],
   "source": [
    "x = 5  # Binary: 0101\n",
    "\n",
    "result = x << 2  # Binary: 010100 -> Decimal: 20\n",
    "print(\"Result:\", result)  # Output: Result: 20"
   ]
  },
  {
   "cell_type": "code",
   "execution_count": null,
   "id": "1ed69a75",
   "metadata": {},
   "outputs": [],
   "source": [
    "x = 5  # Binary: 0101\n",
    "\n",
    "result = x >> 2  # Binary: 0001 -> Decimal: 1\n",
    "print(\"Result:\", result)  # Output: Result: 1"
   ]
  },
  {
   "cell_type": "code",
   "execution_count": null,
   "id": "d65f210d",
   "metadata": {},
   "outputs": [],
   "source": [
    "x = 5  # Binary: 0101\n",
    "y = 3  # Binary: 0011\n",
    "\n",
    "result = x ^ y  # Binary: 0110 -> Decimal: 6\n",
    "print(\"Result:\", result)  # Output: Result: 6"
   ]
  },
  {
   "cell_type": "markdown",
   "id": "3a7acbf2",
   "metadata": {},
   "source": [
    "Operators on Collections\n",
    "- Some operators like `+` and `*` work on collections.\n",
    "- Example with lists:\n"
   ]
  },
  {
   "cell_type": "code",
   "execution_count": null,
   "id": "5aa890ef",
   "metadata": {},
   "outputs": [],
   "source": [
    "list1 = [1, 2, 3]\n",
    "list2 = ['a', 'b']\n",
    "print(list1 + list2) #\n",
    "print(list1 * 2) #\n",
    "\n"
   ]
  },
  {
   "cell_type": "markdown",
   "id": "d8a70b2c",
   "metadata": {},
   "source": [
    "Operator Precedence\n",
    "- Determines the order in which operations in an expression are evaluated.\n",
    "\n",
    "Here is a general overview of the operator precedence in Python:\n",
    "\n",
    "1. Parentheses: ()\n",
    "2. Exponentiation: **\n",
    "3. Positive/Negative sign: +x, -x\n",
    "4. Multiplication, Division, Floor Division, Modulo: *, /, //, %\n",
    "5. Addition and Subtraction: +, -\n",
    "6. Bitwise Shifts: <<, >>\n",
    "7. Bitwise AND: &\n",
    "8. Bitwise OR: |\n",
    "9. Bitwise XOR: ^\n",
    "10. Comparison Operators: <, <=, >, >=, ==, !=\n",
    "11. Logical NOT: not\n",
    "12. Logical AND: and\n",
    "13. Logical OR: or\n",
    "\n",
    "It's important to note that when in doubt about the order of evaluation, using parentheses is always a good practice to ensure the desired outcome."
   ]
  },
  {
   "cell_type": "markdown",
   "id": "6afe9734",
   "metadata": {},
   "source": [
    "***"
   ]
  },
  {
   "cell_type": "markdown",
   "id": "bf495b4f",
   "metadata": {},
   "source": [
    "### Extra Read"
   ]
  },
  {
   "cell_type": "markdown",
   "id": "d2da55ee",
   "metadata": {},
   "source": [
    "Each collection has its own characteristics, which can impact their efficiency and suitability for different tasks. \n",
    "It's worth noting that the efficiency differences between these collections may not be significant for small-scale tasks. Choosing the appropriate collection depends on factors such as the size of the data, the frequency and type of operations performed, and the specific requirements of your program.\n",
    "\n",
    "Let's explore the differences and efficiency considerations for each of these collections:\n",
    "\n",
    "Lists \n",
    "- Characteristics: Lists are mutable, ordered, and allow duplicate elements.\n",
    "- Efficiency: Lists provide efficient access to elements based on their index, making it easy to retrieve or modify individual elements. However, searching for specific elements can be slower for larger lists as it requires iterating through the entire list. Adding or removing elements at the end of a list is efficient, but inserting or deleting elements in the middle requires shifting subsequent elements.\n",
    "\n",
    "Tuples\n",
    "- Characteristics: Tuples are immutable and ordered, similar to lists.\n",
    "- Efficiency: Tuples offer similar efficiency to lists for accessing elements by index. However, due to their immutability, they provide the advantage of being hashable, which makes them suitable for use as keys in dictionaries or elements in sets. Tuples also have a slight advantage in memory efficiency compared to lists.\n",
    "\n",
    "Sets\n",
    "- Characteristics: Sets are mutable, unordered, and store only unique elements.\n",
    "- Efficiency: Sets are highly efficient for membership testing and checking for uniqueness. They utilize hash-based indexing, making operations like adding or removing elements, or checking for membership, very fast, even with large sets. However, sets do not provide direct access to individual elements, as they are unordered.\n",
    "\n",
    "Dictionaries\n",
    "- Characteristics: Dictionaries are mutable, unordered, and store elements as key-value pairs.\n",
    "- Efficiency: Dictionaries excel in efficient key-based lookup. They use hash tables to store and retrieve values based on unique keys, allowing for fast access even with large dictionaries. However, iterating over the dictionary's elements may not maintain a specific order since the elements are unordered. Adding, updating, or deleting key-value pairs in dictionaries is generally efficient.\n",
    "\n",
    "Efficiency considerations depend on the specific operations and use cases. If you need to preserve the order of elements and allow duplicates, lists or tuples may be suitable choices. If uniqueness and fast membership testing are crucial, sets offer efficient solutions. For tasks involving key-value mappings or fast lookup based on keys, dictionaries are the go-to option.\n",
    "\n"
   ]
  }
 ],
 "metadata": {
  "kernelspec": {
   "display_name": "Python 3",
   "language": "python",
   "name": "python3"
  },
  "language_info": {
   "codemirror_mode": {
    "name": "ipython",
    "version": 3
   },
   "file_extension": ".py",
   "mimetype": "text/x-python",
   "name": "python",
   "nbconvert_exporter": "python",
   "pygments_lexer": "ipython3",
   "version": "3.10.11"
  }
 },
 "nbformat": 4,
 "nbformat_minor": 5
}
