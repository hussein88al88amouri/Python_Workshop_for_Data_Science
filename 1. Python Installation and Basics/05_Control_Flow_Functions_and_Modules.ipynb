{
 "cells": [
  {
   "cell_type": "markdown",
   "id": "07a4e333",
   "metadata": {},
   "source": [
    "You will learn about the control statemets as well as how to define and call functions."
   ]
  },
  {
   "cell_type": "markdown",
   "id": "f2cbf537",
   "metadata": {},
   "source": [
    "***"
   ]
  },
  {
   "cell_type": "markdown",
   "id": "51bf92ea",
   "metadata": {},
   "source": [
    "### 1.5.1. Control flow statements\n"
   ]
  },
  {
   "cell_type": "markdown",
   "id": "342cd13b",
   "metadata": {},
   "source": [
    "#### IF, ELIF, ELSE Statments"
   ]
  },
  {
   "cell_type": "markdown",
   "id": "e9d46c00",
   "metadata": {},
   "source": [
    "Conditional statements are used in Python to execute different blocks of code based on certain conditions. \\\n",
    "The most common conditional statements in Python are the if, else, and elif statements.\n",
    "\n",
    "```python\n",
    "condition1 = 1 == 1\n",
    "condition2 = 1 == 2\n",
    "if condition1:\n",
    "    print(\"Code to execute if the condition1 is true\")\n",
    "elif condition2:\n",
    "    print(\"Code to execute if the condition2 is true\")\n",
    "else:\n",
    "    print(\"Code to execute if both conditions are false\")\n",
    "\n",
    "```"
   ]
  },
  {
   "cell_type": "code",
   "execution_count": null,
   "id": "b287d353",
   "metadata": {},
   "outputs": [],
   "source": [
    "age = 20\n",
    "\n",
    "if age >= 18:\n",
    "    print(\"You are an adult.\")\n",
    "elif age < 18:\n",
    "    print(\"You are a minor.\")\n",
    "else:\n",
    "    print('Invalid number provided for age')\n"
   ]
  },
  {
   "cell_type": "markdown",
   "id": "15fe1f49",
   "metadata": {},
   "source": [
    "#### Nested conditional statements"
   ]
  },
  {
   "cell_type": "code",
   "execution_count": null,
   "id": "7a3bb693",
   "metadata": {},
   "outputs": [],
   "source": [
    "num = 10\n",
    "\n",
    "if num > 0:\n",
    "    print(\"Number is positive.\")\n",
    "    if num % 2 == 0:\n",
    "        print(\"Number is even.\")\n",
    "    else:\n",
    "        print(\"Number is odd.\")\n",
    "else:\n",
    "    print(\"Number is non-positive.\")"
   ]
  },
  {
   "cell_type": "markdown",
   "id": "b641ac9b",
   "metadata": {},
   "source": [
    "#### Logical operators in Conditional statements"
   ]
  },
  {
   "cell_type": "markdown",
   "id": "8273a45f",
   "metadata": {},
   "source": [
    "- The and operator returns True if both conditions on its left and right are True.\n",
    "- The or operator returns True if at least one of the conditions on its left or right is True.\n",
    "- The not operator returns the negation of a condition. If the condition is True, not returns False, and vice versa."
   ]
  },
  {
   "cell_type": "code",
   "execution_count": null,
   "id": "5981ebbd",
   "metadata": {},
   "outputs": [],
   "source": [
    "age = 25\n",
    "country = \"USA\"\n",
    "\n",
    "if age >= 18 and country == \"USA\":\n",
    "    print(\"You are eligible to vote in the USA.\")\n",
    "else:\n",
    "    print(\"You are not eligible to vote in the USA.\")"
   ]
  },
  {
   "cell_type": "code",
   "execution_count": null,
   "id": "6ba57350",
   "metadata": {},
   "outputs": [],
   "source": [
    "score = 85\n",
    "\n",
    "if score >= 90 or score <= 60:\n",
    "    print(\"You passed the exam.\")\n",
    "else:\n",
    "    print(\"You did not pass the exam.\")"
   ]
  },
  {
   "cell_type": "code",
   "execution_count": null,
   "id": "efec2a1a",
   "metadata": {},
   "outputs": [],
   "source": [
    "is_logged_in = False\n",
    "\n",
    "if not is_logged_in:\n",
    "    print(\"Please log in to continue.\")"
   ]
  },
  {
   "cell_type": "markdown",
   "id": "5b97a15b",
   "metadata": {},
   "source": [
    "#### Therany operator (conditional expression)"
   ]
  },
  {
   "cell_type": "markdown",
   "id": "c7421b86",
   "metadata": {},
   "source": [
    "The ternary operator, also known as the conditional expression, provides a concise way to write simple conditional statements in Python.\\\n",
    "It allows you to evaluate a condition and return a value based on the result of the condition. "
   ]
  },
  {
   "cell_type": "code",
   "execution_count": null,
   "id": "5270ac47",
   "metadata": {},
   "outputs": [],
   "source": [
    "num = 10\n",
    "\n",
    "result = \"Positive\" if num > 0 else \"Non-positive\"\n",
    "\n",
    "print(result)"
   ]
  },
  {
   "cell_type": "markdown",
   "id": "ff97b52e",
   "metadata": {},
   "source": [
    "#### Loops\n",
    "There is only two loops in python, For and While."
   ]
  },
  {
   "cell_type": "markdown",
   "id": "8848189e",
   "metadata": {},
   "source": [
    "##### While loop"
   ]
  },
  {
   "cell_type": "code",
   "execution_count": null,
   "id": "cc16915f",
   "metadata": {},
   "outputs": [],
   "source": [
    "count = 0\n",
    "\n",
    "while count < 5:  # Condition\n",
    "    print(\"Count:\", count)\n",
    "    count += 1\n",
    "\n",
    "print(\"Loop finished\")"
   ]
  },
  {
   "cell_type": "markdown",
   "id": "dbbf1e00",
   "metadata": {},
   "source": [
    "##### For Loop"
   ]
  },
  {
   "cell_type": "code",
   "execution_count": null,
   "id": "8a456712",
   "metadata": {},
   "outputs": [],
   "source": [
    "fruits = [\"apple\", \"banana\", \"cherry\"]\n",
    "\n",
    "for fruit in fruits: \n",
    "    print(fruit)\n",
    "\n",
    "print(\"Loop finished\")"
   ]
  },
  {
   "cell_type": "code",
   "execution_count": null,
   "id": "9d276feb",
   "metadata": {},
   "outputs": [],
   "source": [
    "person = {\"name\": \"John\", \"age\": 25, \"country\": \"USA\"}\n",
    "\n",
    "for key, value in person.items():\n",
    "    print(key, \":\", value)"
   ]
  },
  {
   "cell_type": "code",
   "execution_count": null,
   "id": "4a07351f",
   "metadata": {},
   "outputs": [],
   "source": [
    "person = {\"name\": \"John\", \"age\": 25, \"country\": \"USA\"}\n",
    "\n",
    "for key in person.keys():\n",
    "    print(key)"
   ]
  },
  {
   "cell_type": "code",
   "execution_count": null,
   "id": "165b6a25",
   "metadata": {},
   "outputs": [],
   "source": [
    "person = {\"name\": \"John\", \"age\": 25, \"country\": \"USA\"}\n",
    "\n",
    "for value in person.values():\n",
    "    print(value)"
   ]
  },
  {
   "cell_type": "code",
   "execution_count": null,
   "id": "e626b7e1",
   "metadata": {},
   "outputs": [],
   "source": [
    "fruits = [\"apple\", \"banana\", \"cherry\"] \n",
    "colors = [\"red\", \"yellow\", \"blue\"]\n",
    "\n",
    "for fruit in fruits:\n",
    "    for color in colors:\n",
    "        print(fruit, color)\n",
    "\n",
    "print(\"Nested loops finished\")"
   ]
  },
  {
   "cell_type": "markdown",
   "id": "b481dbf5",
   "metadata": {},
   "source": [
    "The range() function is commonly used in conjunction with for loops to generate a sequence of numbers. "
   ]
  },
  {
   "cell_type": "code",
   "execution_count": null,
   "id": "b55c8e06",
   "metadata": {},
   "outputs": [],
   "source": [
    "for i in range(5):\n",
    "    print(i)\n",
    "\n",
    "print(\"Loop finished\")"
   ]
  },
  {
   "cell_type": "code",
   "execution_count": null,
   "id": "2010874a",
   "metadata": {},
   "outputs": [],
   "source": [
    "numbers = [1, 2, 3, 4, 5]\n",
    "\n",
    "for num in numbers:\n",
    "    if num == 3:\n",
    "        continue\n",
    "    print(num)\n",
    "\n",
    "print(\"Loop finished\")"
   ]
  },
  {
   "cell_type": "code",
   "execution_count": null,
   "id": "149fbf6e",
   "metadata": {},
   "outputs": [],
   "source": [
    "numbers = [1, 2, 3, 4, 5]\n",
    " \n",
    "for num in numbers:\n",
    "    if num == 3:\n",
    "        break\n",
    "    print(num)\n",
    "\n",
    "print(\"Loop finished\")"
   ]
  },
  {
   "cell_type": "markdown",
   "id": "87120da0",
   "metadata": {},
   "source": [
    "***"
   ]
  },
  {
   "cell_type": "markdown",
   "id": "9d956034",
   "metadata": {},
   "source": [
    "### 1.5.2. Functions"
   ]
  },
  {
   "cell_type": "markdown",
   "id": "a26ee5be",
   "metadata": {},
   "source": [
    "#### Defining  and calling a funtion"
   ]
  },
  {
   "cell_type": "markdown",
   "id": "c94fc1c5",
   "metadata": {},
   "source": [
    "A *method* (or function) is defined using the `def` keyword."
   ]
  },
  {
   "cell_type": "code",
   "execution_count": null,
   "id": "768d3b52",
   "metadata": {},
   "outputs": [],
   "source": [
    "def greet():\n",
    "    print(\"Hello, welcome!\")"
   ]
  },
  {
   "cell_type": "markdown",
   "id": "188b3efd",
   "metadata": {},
   "source": [
    "Function call"
   ]
  },
  {
   "cell_type": "code",
   "execution_count": null,
   "id": "87b30eeb",
   "metadata": {},
   "outputs": [],
   "source": [
    "greet()"
   ]
  },
  {
   "cell_type": "markdown",
   "id": "a518a978",
   "metadata": {},
   "source": [
    "#### Function parameters and return value"
   ]
  },
  {
   "cell_type": "markdown",
   "id": "3af08943",
   "metadata": {},
   "source": [
    "Positional required parameter"
   ]
  },
  {
   "cell_type": "code",
   "execution_count": null,
   "id": "f6dea043",
   "metadata": {},
   "outputs": [],
   "source": [
    "def greet(name):\n",
    "    print(\"Hello,\", name, \"welcome!\")"
   ]
  },
  {
   "cell_type": "code",
   "execution_count": null,
   "id": "9c88104b",
   "metadata": {},
   "outputs": [],
   "source": [
    "greet('Alex')"
   ]
  },
  {
   "cell_type": "code",
   "execution_count": null,
   "id": "87998372",
   "metadata": {},
   "outputs": [],
   "source": [
    "# TODO: Try the calling the function with different name\n"
   ]
  },
  {
   "cell_type": "markdown",
   "id": "6be1c48e",
   "metadata": {},
   "source": [
    "Default value"
   ]
  },
  {
   "cell_type": "code",
   "execution_count": null,
   "id": "40736b99",
   "metadata": {},
   "outputs": [],
   "source": [
    "def greet(name=\"guest\"):\n",
    "    print(\"Hello,\", name, \"welcome!\")"
   ]
  },
  {
   "cell_type": "code",
   "execution_count": null,
   "id": "237ed350",
   "metadata": {},
   "outputs": [],
   "source": [
    "# TODO:  Try calling the function with different name, and without specifying any name"
   ]
  },
  {
   "cell_type": "markdown",
   "id": "281455c2",
   "metadata": {},
   "source": [
    "Multiple arguments and return value"
   ]
  },
  {
   "cell_type": "code",
   "execution_count": null,
   "id": "a0dddbc2",
   "metadata": {},
   "outputs": [],
   "source": [
    "def add_numbers(a, b):\n",
    "    return a + b"
   ]
  },
  {
   "cell_type": "code",
   "execution_count": null,
   "id": "bcba76f9",
   "metadata": {},
   "outputs": [],
   "source": [
    "# TODO: Add two numbers using add_numbers function"
   ]
  },
  {
   "cell_type": "markdown",
   "id": "e705803d",
   "metadata": {},
   "source": [
    "#### Variable scope"
   ]
  },
  {
   "cell_type": "markdown",
   "id": "bc8a54e2",
   "metadata": {},
   "source": [
    "Local scope \\\n",
    "variables defined instead the function are local to that function."
   ]
  },
  {
   "cell_type": "code",
   "execution_count": null,
   "id": "e159b5c7",
   "metadata": {},
   "outputs": [],
   "source": [
    "def my_function():\n",
    "    x = 10\n",
    "    print(x)\n",
    "\n",
    "my_function()"
   ]
  },
  {
   "cell_type": "markdown",
   "id": "facc65f8",
   "metadata": {},
   "source": [
    "global scope \\\n",
    "Any variable definied outside the function within the \n"
   ]
  },
  {
   "cell_type": "code",
   "execution_count": null,
   "id": "b3aef4ab",
   "metadata": {},
   "outputs": [],
   "source": [
    "x = 10\n",
    "\n",
    "def my_function():\n",
    "    print(x)\n",
    "\n",
    "my_function()"
   ]
  },
  {
   "cell_type": "code",
   "execution_count": null,
   "id": "2662f3ac",
   "metadata": {},
   "outputs": [],
   "source": [
    "# TODO: Write a function that will use local and global scope to always add 5 to any number provided."
   ]
  },
  {
   "cell_type": "markdown",
   "id": "f553e9d9",
   "metadata": {},
   "source": [
    "#### Function as a variable"
   ]
  },
  {
   "cell_type": "markdown",
   "id": "0bf9fe8e",
   "metadata": {},
   "source": [
    "Function as a parameter \\\n",
    "you can pass functions as a parameter to another function."
   ]
  },
  {
   "cell_type": "code",
   "execution_count": null,
   "id": "b55a47bf",
   "metadata": {},
   "outputs": [],
   "source": [
    "def apply_operation(func, x, y):\n",
    "    return func(x, y)\n",
    "\n",
    "def add(a, b):\n",
    "    return a + b\n",
    "\n",
    "def subtract(a, b):\n",
    "    return a - b\n",
    "\n",
    "result = apply_operation(add, 5, 3)\n",
    "print(result)  # Output: 8\n",
    "\n",
    "result = apply_operation(subtract, 10, 4)\n",
    "print(result)  # Output: 6"
   ]
  },
  {
   "cell_type": "code",
   "execution_count": null,
   "id": "e58061d7",
   "metadata": {},
   "outputs": [],
   "source": [
    "# TODO: Write a multiply function that will multiply a, b and use apply_operation by passing the function as a parameter\n"
   ]
  },
  {
   "cell_type": "markdown",
   "id": "64afcb25",
   "metadata": {},
   "source": [
    "Return a Function \\\n",
    "You can also return a function"
   ]
  },
  {
   "cell_type": "code",
   "execution_count": null,
   "id": "e5b18428",
   "metadata": {},
   "outputs": [],
   "source": [
    "def create_multiplier(n):\n",
    "    def multiplier(x):\n",
    "        return x * n\n",
    "    return multiplier\n",
    "\n",
    "double = create_multiplier(2)\n",
    "triple = create_multiplier(3)\n",
    "\n",
    "print(double(5))  # Output: 10\n",
    "print(triple(5))  # Output: 15"
   ]
  },
  {
   "cell_type": "code",
   "execution_count": null,
   "id": "7308404c",
   "metadata": {},
   "outputs": [],
   "source": [
    "# TODO: Write a divisor function following the above concept"
   ]
  },
  {
   "cell_type": "markdown",
   "id": "a376e0a4",
   "metadata": {},
   "source": [
    "Composed Function\\\n",
    "You can define functions inside functions"
   ]
  },
  {
   "cell_type": "code",
   "execution_count": null,
   "id": "4abbc4d2",
   "metadata": {},
   "outputs": [],
   "source": [
    "def compose(func1, func2):\n",
    "    def composed_function(x):\n",
    "        return func1(func2(x))\n",
    "    return composed_function\n",
    "\n",
    "def add_one(x):\n",
    "    return x + 1\n",
    "\n",
    "def multiply_by_two(x):\n",
    "    return x * 2\n",
    "\n",
    "composed = compose(add_one, multiply_by_two)\n",
    "\n",
    "result = composed(5)\n",
    "print(result)  # Output: 11"
   ]
  },
  {
   "cell_type": "markdown",
   "id": "ecb74fe8",
   "metadata": {},
   "source": [
    "#### Lambda Functions\n",
    "Also known as anonymous functions, are small, inline functions that can be defined without a name. They are commonly used in combination with higher-order functions like map(), \n",
    "filter(), sort(), and reduce(). In this section, we will explore lambda functions and their usage with these higher-order functions.\n"
   ]
  },
  {
   "cell_type": "code",
   "execution_count": null,
   "id": "2ff9c4c3",
   "metadata": {},
   "outputs": [],
   "source": [
    "add = lambda x, y: x + y\n",
    "result = add(2, 3)\n",
    "print(result)  # Output: 5"
   ]
  },
  {
   "cell_type": "markdown",
   "id": "41d355d0",
   "metadata": {},
   "source": [
    "`map` Applies a function to every element of an iterable and returns a new iterable with the results. \\\n",
    "Syntax: `map(function, iterable)`"
   ]
  },
  {
   "cell_type": "code",
   "execution_count": null,
   "id": "8cae9502",
   "metadata": {},
   "outputs": [],
   "source": [
    "numbers = [1, 2, 3, 4, 5]\n",
    "squares = map(lambda x: x ** 2, numbers)\n",
    "print(list(squares))  # Output: [1, 4, 9, 16, 25]"
   ]
  },
  {
   "cell_type": "markdown",
   "id": "16c6441d",
   "metadata": {},
   "source": [
    "`filter `Keeps only the elements of an iterable (like a list) that satisfy a condition. \\\n",
    "Syntax `filter(function, iterable, reverse=False)` !reverse is to specify is sorting is in ascending or descending order."
   ]
  },
  {
   "cell_type": "code",
   "execution_count": null,
   "id": "e9e430b0",
   "metadata": {},
   "outputs": [],
   "source": [
    "numbers = [1, 2, 3, 4, 5]\n",
    "is_even = lambda x: x % 2 == 0\n",
    "even_numbers = filter(is_even, numbers) \n",
    "print(list(even_numbers))  # Output: [2, 4]"
   ]
  },
  {
   "cell_type": "markdown",
   "id": "159d681f",
   "metadata": {},
   "source": [
    "`sorted` Sorts elements of an iterable and returns a new sorted list (does not change original). \\\n",
    "Syntax: `sorted(iterable, key=function)`"
   ]
  },
  {
   "cell_type": "code",
   "execution_count": null,
   "id": "3e5ecc5d",
   "metadata": {},
   "outputs": [],
   "source": [
    "numbers = [5, 2, 8, 1, 3]\n",
    "sorted_numbers = sorted(numbers, key=lambda x: x % 3)\n",
    "print(sorted_numbers)  # Output: [3, 2, 5, 8, 1]"
   ]
  },
  {
   "cell_type": "code",
   "execution_count": null,
   "id": "d1b44346",
   "metadata": {},
   "outputs": [],
   "source": [
    "# TODO: Write a lamda function that will filter odd numbers\n",
    "numbers = [1, 2, 4, 7, 8, 10, 11, 15]\n",
    "# is_prime lambda function\n",
    "is_odd = None # TODO: write the lambda function that will check if a number is odd\n",
    "primes = filter(is_odd, numbers)\n",
    "print(primes)"
   ]
  },
  {
   "cell_type": "markdown",
   "id": "300a9e47",
   "metadata": {},
   "source": [
    "#### Importing a Function "
   ]
  },
  {
   "cell_type": "markdown",
   "id": "09d02ff3",
   "metadata": {},
   "source": [
    "To import a function we use the keyword `import`\n",
    "```python\n",
    "import mymodule\n",
    "```\n",
    "You can also import a specific function from a  module using the keyword `from`\n",
    "```python\n",
    "from mymodule import module1\n",
    "```\n",
    "To import all methods in a module (package) use `*`\n",
    "```python\n",
    "from mymodule import *\n",
    "```"
   ]
  },
  {
   "cell_type": "markdown",
   "id": "50dc10e0",
   "metadata": {},
   "source": [
    "Using the `reduce` function. It repeatedly applies a function to the elements of an iterable, reducing it to a single cumulative value."
   ]
  },
  {
   "cell_type": "code",
   "execution_count": null,
   "id": "ae3ecf40",
   "metadata": {},
   "outputs": [],
   "source": [
    "from functools import reduce\n",
    "\n",
    "numbers = [1, 2, 3, 4, 5]\n",
    "product = reduce(lambda x, y: x * y, numbers) # Equivalent to, (((1 * 2) * 3) * 4) * 5)\n",
    "print(product)  # Output: 120"
   ]
  },
  {
   "cell_type": "markdown",
   "id": "43c1b47d",
   "metadata": {},
   "source": [
    "### 1.5.3 Extra:  Classes"
   ]
  },
  {
   "cell_type": "markdown",
   "id": "c6e484f9",
   "metadata": {},
   "source": [
    "- In order to create a python class we use the keyword `Class` followed by the name of the class.\n",
    "- Similar to all OOP languages python enables inheritence, classes have constructors, and much more."
   ]
  },
  {
   "cell_type": "code",
   "execution_count": null,
   "id": "babef2e2",
   "metadata": {},
   "outputs": [],
   "source": [
    "# Example 1: Creating a Python Class\n",
    "class Animal:   # ✅ Correct keyword is \"class\" (lowercase, not \"Class\")\n",
    "    def __init__(self, name):\n",
    "        self.name = name\n",
    "    \n",
    "    def speak(self):\n",
    "        print(f\"{self.name} makes a sound.\")"
   ]
  },
  {
   "cell_type": "code",
   "execution_count": null,
   "id": "61137a7b",
   "metadata": {},
   "outputs": [],
   "source": [
    "# TODO: Create an instance of Animal and call speak()\n"
   ]
  },
  {
   "cell_type": "code",
   "execution_count": null,
   "id": "80906e7d",
   "metadata": {},
   "outputs": [],
   "source": [
    "# Example 2: Inheritance in Python\n",
    "class Dog(Animal):  # Dog inherits from Animal\n",
    "    def speak(self):\n",
    "        print(f\"{self.name} barks!\")"
   ]
  },
  {
   "cell_type": "code",
   "execution_count": null,
   "id": "9b68fe77",
   "metadata": {},
   "outputs": [],
   "source": [
    "# TODO: Create a Dog instance and demonstrate overridden speak()\n"
   ]
  },
  {
   "cell_type": "code",
   "execution_count": null,
   "id": "cd0259ea",
   "metadata": {},
   "outputs": [],
   "source": [
    "# Example 3: Multiple Constructors (using class methods)\n",
    "class Person:\n",
    "    def __init__(self, name, age):\n",
    "        self.name = name\n",
    "        self.age = age\n",
    "    \n",
    "    @classmethod\n",
    "    def from_birth_year(cls, name, year):\n",
    "        current_year = 2025\n",
    "        return cls(name, current_year - year)"
   ]
  },
  {
   "cell_type": "code",
   "execution_count": null,
   "id": "a252a35d",
   "metadata": {},
   "outputs": [],
   "source": [
    "# TODO: Create a Person instance using both __init__ and from_birth_year()\n"
   ]
  },
  {
   "cell_type": "code",
   "execution_count": null,
   "id": "5e8cdd03",
   "metadata": {},
   "outputs": [],
   "source": [
    "# Example 4: Using super() in inheritance\n",
    "class Cat(Animal):\n",
    "    def __init__(self, name, color):\n",
    "        super().__init__(name)  # call parent constructor\n",
    "        self.color = color\n",
    "    \n",
    "    def speak(self):\n",
    "        print(f\"{self.name}, the {self.color} cat, meows!\")"
   ]
  },
  {
   "cell_type": "code",
   "execution_count": null,
   "id": "75036f82",
   "metadata": {},
   "outputs": [],
   "source": [
    "# TODO: Create a Cat instance and call speak()\n"
   ]
  },
  {
   "cell_type": "markdown",
   "id": "a733555f",
   "metadata": {},
   "source": [
    "Polymorphisim"
   ]
  },
  {
   "cell_type": "markdown",
   "id": "436e5c6c",
   "metadata": {},
   "source": [
    "Note that python do not support method overloading in the same sense as Java or similar languages."
   ]
  },
  {
   "cell_type": "code",
   "execution_count": null,
   "id": "e81dd1d9",
   "metadata": {},
   "outputs": [],
   "source": [
    "# TODO: Add more animal classes (e.g., Bird, Cow) and test polymorphism (This is called duck typing in python)\n",
    "\n",
    "class Animal:\n",
    "    def speak(self):\n",
    "        raise NotImplementedError(\"Subclasses should implement this!\")\n",
    "\n",
    "class Dog(Animal):\n",
    "    def speak(self):\n",
    "        return \"Woof!\"\n",
    "\n",
    "class Cat(Animal):\n",
    "    def speak(self):\n",
    "        return \"Meow!\"\n",
    "\n",
    "# Polymorphic function\n",
    "def make_animal_speak(animal):\n",
    "    print(animal.speak())\n",
    "\n",
    "# Test with different animals\n",
    "animals = [Dog(), Cat()]\n",
    "\n",
    "print(\"=== Animal Sounds ===\")\n",
    "for animal in animals:\n",
    "    make_animal_speak(animal)"
   ]
  },
  {
   "cell_type": "markdown",
   "id": "d6649f5b",
   "metadata": {},
   "source": []
  }
 ],
 "metadata": {
  "kernelspec": {
   "display_name": "Python 3",
   "language": "python",
   "name": "python3"
  },
  "language_info": {
   "codemirror_mode": {
    "name": "ipython",
    "version": 3
   },
   "file_extension": ".py",
   "mimetype": "text/x-python",
   "name": "python",
   "nbconvert_exporter": "python",
   "pygments_lexer": "ipython3",
   "version": "3.10.11"
  }
 },
 "nbformat": 4,
 "nbformat_minor": 5
}
