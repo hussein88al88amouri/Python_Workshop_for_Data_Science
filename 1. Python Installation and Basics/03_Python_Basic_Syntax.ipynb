{
 "cells": [
  {
   "cell_type": "markdown",
   "id": "0c3a4185",
   "metadata": {},
   "source": [
    "You will learn to rules and the syntax. (Explainning the points mentioned in 1.1.2 in 01_Introduction_to_python)"
   ]
  },
  {
   "cell_type": "markdown",
   "id": "60329b39",
   "metadata": {},
   "source": [
    "***"
   ]
  },
  {
   "cell_type": "markdown",
   "id": "764f2495",
   "metadata": {},
   "source": [
    "### 1.3.1. Basic Syntax: Statments, Lines, and Indentation"
   ]
  },
  {
   "cell_type": "markdown",
   "id": "b6e10909",
   "metadata": {},
   "source": [
    "#### Statements\n"
   ]
  },
  {
   "cell_type": "markdown",
   "id": "9716be17",
   "metadata": {},
   "source": [
    "- In Python, statements are instructions or commands that perform specific actions.\n",
    "- Each statement typically occupies a single line, but you can extend a statement across multiple lines using line continuation techniques.\n",
    "\n",
    "- A line of code in Python is terminated by a newline character.\\\n",
    "However, you can use a backslash (\\\\) at the end of a line\n",
    "to indicate that the statement continues on the next line.\n",
    "\n",
    "For example:"
   ]
  },
  {
   "cell_type": "code",
   "execution_count": null,
   "id": "58dd37a4",
   "metadata": {},
   "outputs": [],
   "source": [
    "result = 10 + 20 + \\\n",
    "         30 + 40 + \\\n",
    "         50\n",
    "\n",
    "print('Output:', result)  # Output: 150"
   ]
  },
  {
   "cell_type": "code",
   "execution_count": null,
   "id": "ba57adb9",
   "metadata": {},
   "outputs": [],
   "source": [
    "# Try it Yourself"
   ]
  },
  {
   "cell_type": "markdown",
   "id": "8535f5d1",
   "metadata": {},
   "source": [
    "#### Indentation"
   ]
  },
  {
   "cell_type": "markdown",
   "id": "d92330b0",
   "metadata": {},
   "source": [
    "\n",
    "- As mentioned, Python uses indentation to define the structure of code blocks unlike other languages that uses braces or keywrods.\n",
    "- Indentation is typically done using spaces or tabs, but it's essential to be consistent throughout your code.\\\n",
    "The standard recommendation is to use four spaces for each indentation level.\n",
    "\n",
    "\n",
    "For example, and if-else statment is written as:\n",
    "\n",
    "```python\n",
    "if condition:\n",
    "    # Indented block of code\n",
    "    statement1\n",
    "    statement2\n",
    "else:\n",
    "    # Another indented block of code\n",
    "    statement3\n",
    "    statement4\n",
    "```\n",
    "\n",
    "Proper indentation is crucial for code readability and to be interpreted by the Python interpreter."
   ]
  },
  {
   "cell_type": "markdown",
   "id": "5dd67abc",
   "metadata": {},
   "source": [
    "#### Blank lines"
   ]
  },
  {
   "cell_type": "markdown",
   "id": "bbfdcea3",
   "metadata": {},
   "source": [
    "Blank lines, i.e., empty lines, are ignored by the Python interpreter and can be used to improve code readability by separating code sections or logical blocks. You can use blank lines to enhance the visual structure and organization of your code.\n"
   ]
  },
  {
   "cell_type": "markdown",
   "id": "6799e661",
   "metadata": {},
   "source": [
    "#### Control flow code blocks"
   ]
  },
  {
   "cell_type": "markdown",
   "id": "99d06d9a",
   "metadata": {},
   "source": [
    "Control flow statements like if, for, while, and function definitions create code blocks.\\\n",
    "These code blocks are defined by their indentation level.\\\n",
    "All statements within a code block must be indented at the same level.\n",
    "\n",
    "For example:\n",
    "\n",
    "```python\n",
    "While condition:\n",
    "    # Code block\n",
    "    statement1\n",
    "    statement2\n",
    "```"
   ]
  },
  {
   "cell_type": "code",
   "execution_count": null,
   "id": "c3cfae0b",
   "metadata": {},
   "outputs": [],
   "source": [
    "while True:\n",
    "    print('HI')\n",
    "    break"
   ]
  },
  {
   "cell_type": "markdown",
   "id": "04ef721b",
   "metadata": {},
   "source": [
    "***"
   ]
  },
  {
   "cell_type": "markdown",
   "id": "bc6c4279",
   "metadata": {},
   "source": [
    "### 1.3.2. Variables and data types"
   ]
  },
  {
   "cell_type": "markdown",
   "id": "34d8ff7b",
   "metadata": {},
   "source": [
    "#### Vairables"
   ]
  },
  {
   "cell_type": "markdown",
   "id": "05cfd4e9",
   "metadata": {},
   "source": [
    "A variable is like a container that holds a value, which can be of different types.\\\n",
    "Assigning a value to a variable is known as variable assignment.\n",
    "\n",
    "When choosing variable names, there are a few rules to follow:\n",
    "\n",
    "- Variable names can only contain letters (a-z, A-Z), digits (0-9), and underscores (_). \n",
    "- Variable names cannot start with a digit.\n",
    "- Variable names are case-sensitive. For example, myVariable and myvariable are different variables.\n",
    "- Variable names should be descriptive and meaningful, helping to understand the purpose of the variable.\n",
    "\n",
    "Here are some valid variable names:\n",
    "\n",
    "```python\n",
    "age = \n",
    "name = \n",
    "is_student = \n",
    "```"
   ]
  },
  {
   "cell_type": "markdown",
   "id": "d6643f8e",
   "metadata": {},
   "source": [
    "##### Variable assignment\n",
    "\n",
    "You can assign a value to a variable using the \"=\" operator. \\\n",
    "The variable on the left side of the \"=\" sign is assigned the value on the right side. \n",
    "\n",
    "For example:\n",
    "```python\n",
    "x = 10\n",
    "y = 5.5\n",
    "message = \"Hello, World!\"\n",
    "```\n",
    "\n",
    "You can also assign multiple variables in a single line:\n",
    "```python\n",
    "a, b, c = 1, 2, 3\n",
    "```"
   ]
  },
  {
   "cell_type": "markdown",
   "id": "1e3fdc88",
   "metadata": {},
   "source": [
    "##### Variable reassignment\n",
    "\n",
    "In Python, you can change the value of a variable by assigning a new value to it. This is known as variable reassignment.\n",
    "When you reassign a variable, the new value overwrites the previous value stored in that variable.\n",
    "\n",
    "\n",
    "For example:"
   ]
  },
  {
   "cell_type": "code",
   "execution_count": null,
   "id": "d5d1f290",
   "metadata": {},
   "outputs": [],
   "source": [
    "x = 10\n",
    "print(x)  # Output: 10\n",
    "\n",
    "x = 20\n",
    "print(x)  # Output: 20"
   ]
  },
  {
   "cell_type": "code",
   "execution_count": null,
   "id": "321300df",
   "metadata": {},
   "outputs": [],
   "source": [
    "# Try it Yourself\n",
    "# Create a variable and change its value multiple times, printing the value each time"
   ]
  },
  {
   "cell_type": "markdown",
   "id": "ce1bfcc4",
   "metadata": {},
   "source": [
    "#### Data types"
   ]
  },
  {
   "cell_type": "markdown",
   "id": "bca8cf1e",
   "metadata": {},
   "source": [
    "##### Numeric data types"
   ]
  },
  {
   "cell_type": "markdown",
   "id": "1c75db59",
   "metadata": {},
   "source": [
    "Integer numbers, e.g., 5 and represented as `int` class \\\n",
    "```python\n",
    "age = 25\n",
    "quantity = -10\n",
    "population = 1000000\n",
    "```\n",
    "Floating-point numbers, e.g., 3.14 and represented as `flaot` class \\\n",
    "```python\n",
    "pi = 3.14159\n",
    "temperature = -10.5\n",
    "price = 19.99\n",
    "```\n",
    "Complexnumbers, e.g., 2 + 3j  and represented ass `complex` class\n",
    "```python\n",
    "z1 = 2 + 3j\n",
    "z2 = -5j\n",
    "z3 = complex(4, -1)  # Represents 4 - 1j\n",
    "z4 = complex(\"6+2j\") # Converts a string to a complex number\n",
    "```"
   ]
  },
  {
   "cell_type": "markdown",
   "id": "94c95fdf",
   "metadata": {},
   "source": [
    "##### String"
   ]
  },
  {
   "cell_type": "markdown",
   "id": "ded659bc",
   "metadata": {},
   "source": [
    "Strings for text and represeted using `str` \\\n",
    "Strings can be created using signle qoutes (e.g., 'Hello, Python!') or double qoutes (e.g., \"Hello, Python!\")\n",
    "\n",
    "! Note that python does not have a char type like other languages. \\\n",
    "! In python a character is a string with length 1."
   ]
  },
  {
   "cell_type": "code",
   "execution_count": null,
   "id": "38379737",
   "metadata": {},
   "outputs": [],
   "source": [
    "# concatenation\n",
    "\n",
    "first_name = \"John\"\n",
    "last_name = \"Doe\"\n",
    "\n",
    "full_name = first_name + \" \" + last_name\n",
    "print(full_name)"
   ]
  },
  {
   "cell_type": "code",
   "execution_count": null,
   "id": "e61defdd",
   "metadata": {},
   "outputs": [],
   "source": [
    "# String length and count\n",
    "\n",
    "message = \"Hello, World!\"\n",
    "length = len(message)\n",
    "print(\"Length:\", length)"
   ]
  },
  {
   "cell_type": "code",
   "execution_count": null,
   "id": "97549083",
   "metadata": {},
   "outputs": [],
   "source": [
    "# Accessing characters\n",
    "\n",
    "message = \"Hello, World\"\n",
    "first_char = message[0]\n",
    "print(\"First Character:\", first_char)\n",
    "\n",
    "last_char = message[-1]\n",
    "print(\"Last Character:\", last_char)"
   ]
  },
  {
   "cell_type": "code",
   "execution_count": null,
   "id": "c5b4189d",
   "metadata": {},
   "outputs": [],
   "source": [
    "# Slicing\n",
    "# You can extract a substring from a string using slicing.\n",
    "\n",
    "message = \"Hello, World!\"\n",
    "substring = message[7:12]\n",
    "print(\"Substring:\", substring)"
   ]
  },
  {
   "cell_type": "code",
   "execution_count": null,
   "id": "34b59690",
   "metadata": {},
   "outputs": [],
   "source": [
    "# String methods\n",
    "\n",
    "message = \"Hello, World!\"\n",
    "\n",
    "# Convert to uppercase\n",
    "uppercase = message.upper()\n",
    "print(\"Uppercase:\", uppercase)  # Output: Uppercase: HELLO, WORLD!\n",
    "\n",
    "# Convert to lowercase\n",
    "lowercase = message.lower()\n",
    "print(\"Lowercase:\", lowercase)  # Output: Lowercase: hello, world!\n",
    "\n",
    "# Replace substring\n",
    "replaced = message.replace(\"Hello\", \"Hi\")\n",
    "print(\"Replaced:\", replaced)  # Output: Replaced: Hi, World!\n",
    "\n",
    "# Split into a list\n",
    "words = message.split(\", \")\n",
    "print(\"Words:\", words)  # Output: Words: ['Hello', 'World!']"
   ]
  },
  {
   "cell_type": "code",
   "execution_count": null,
   "id": "bd88d4de",
   "metadata": {},
   "outputs": [],
   "source": [
    "# Try it Yourself\n",
    "# Create a variable with a string value and demonstrate at least three different string methods on it\n"
   ]
  },
  {
   "cell_type": "markdown",
   "id": "cc7273fd",
   "metadata": {},
   "source": [
    "##### Boolean"
   ]
  },
  {
   "cell_type": "markdown",
   "id": "a7a9ef17",
   "metadata": {},
   "source": [
    "Logical values `True` or `False` and represented as a `bool` class\n",
    "```\n",
    "is_raining = True\n",
    "is_sunny = False\n",
    "```\n",
    "\n",
    "Logical operators \\\n",
    "The three logical operators are:\n",
    "- and (logical AND)\n",
    "- or (logical OR)\n",
    "- not (logical NOT)\n",
    "\n",
    "These operators allow you to perform logical operations on Boolean values and produce Boolean results."
   ]
  },
  {
   "cell_type": "markdown",
   "id": "9d99200a",
   "metadata": {},
   "source": [
    "##### Coversion and Casting"
   ]
  },
  {
   "cell_type": "markdown",
   "id": "cb9c81f4",
   "metadata": {},
   "source": [
    "Type conversion, also known as type casting, is the process of converting a value from one data type to another in Python.\n",
    "\n",
    "- **Implicit Conversion:** Python automatically converts one data type to another during operations to avoid data loss.  \\\n",
    "  For example, when adding an integer and a float, Python converts the integer to a float before the operation.  \n",
    "\n",
    "- **Explicit Conversion:** The programmer manually converts data types using built-in functions like `int()`, `float()`, `str()`, etc.  \\\n",
    "  This is useful when input or calculations require specific types.\n",
    "\n",
    "Common conversion functions:  \n",
    "- `int()` - converts to integer (truncates decimals)  \n",
    "- `float()` - converts to floating-point number  \n",
    "- `str()` - converts to string  \n",
    "- `bool()` - converts to Boolean value  \n",
    "\n",
    "Example:\n"
   ]
  },
  {
   "cell_type": "code",
   "execution_count": null,
   "id": "35550e99",
   "metadata": {},
   "outputs": [],
   "source": [
    "x = 5 # int\n",
    "y = 3.2 # float\n",
    "\n",
    "# Implicit conversion: int to float\n",
    "z = x + y # z becomes float (8.2)\n",
    "\n",
    "# Explicit conversion: float to int\n",
    "a = int(y) # a becomes 3\n",
    "\n",
    "print(z, type(z)) # Output: 8.2 <class 'float'>\n",
    "print(a, type(a)) # Output: 3 <class 'int'>"
   ]
  },
  {
   "cell_type": "markdown",
   "id": "82d268fc",
   "metadata": {},
   "source": [
    "***"
   ]
  },
  {
   "cell_type": "markdown",
   "id": "25ce8392",
   "metadata": {},
   "source": [
    "### 1.3.3.  Printing and commenting code"
   ]
  },
  {
   "cell_type": "markdown",
   "id": "a6fe8ec1",
   "metadata": {},
   "source": [
    "Documenting important lines and printing essential variables is important in programming to help explain your code.\\\n",
    "The <print()> function is used to display output on the console. It allows you to print strings, variables, and expressions. \n",
    "In order to comment a line use <#>. You can also comment a block of lines using:\n",
    "```python\n",
    "'''\n",
    "lines\n",
    "'''\n",
    "```"
   ]
  },
  {
   "cell_type": "code",
   "execution_count": null,
   "id": "ca530513",
   "metadata": {},
   "outputs": [],
   "source": [
    "# This is a commented Line it will not appear in the ouput\n",
    "'''\n",
    "This is \n",
    "a commented\n",
    "block it will \n",
    "not appear in the output\n",
    "'''\n",
    "print(\"Hello, World!\")"
   ]
  },
  {
   "cell_type": "markdown",
   "id": "b24ec111",
   "metadata": {},
   "source": [
    "##### Print formatting:"
   ]
  },
  {
   "cell_type": "markdown",
   "id": "b8e34c7d",
   "metadata": {},
   "source": [
    "It allows you to customize the way data is displayed.\\\n",
    "Python provides different techniques to format output, including string concatenation, string interpolation, and the format() method. \n",
    "\n",
    "Here are some examples:"
   ]
  },
  {
   "cell_type": "code",
   "execution_count": null,
   "metadata": {},
   "outputs": [],
   "source": [
    "# String Concatenation\n",
    "\n",
    "name = \"Bob\"\n",
    "age = 25\n",
    "print(\"My name is \" + name + \" and I am \" + str(age) + \" years old.\")"
   ]
  },
  {
   "cell_type": "code",
   "execution_count": null,
   "id": "c15358bf",
   "metadata": {},
   "outputs": [],
   "source": [
    "# String Interpolation (f-strings) <-- I would recommend using this method\n",
    "\n",
    "name = \"Bob\"\n",
    "age = 25\n",
    "print(f\"My name is {name} and I am {age} years old.\")"
   ]
  },
  {
   "cell_type": "code",
   "execution_count": null,
   "id": "b7cc955d",
   "metadata": {},
   "outputs": [],
   "source": [
    "# Format Method\n",
    "\n",
    "name = \"Bob\"\n",
    "age = 25\n",
    "print(\"My name is {} and I am {} years old.\".format(name, age))"
   ]
  },
  {
   "cell_type": "markdown",
   "id": "0120340a",
   "metadata": {},
   "source": [
    "##### Numerical formating"
   ]
  },
  {
   "cell_type": "code",
   "execution_count": null,
   "id": "dda6a728",
   "metadata": {},
   "outputs": [],
   "source": [
    "# Formatting floating point numbers\n",
    "\n",
    "pi = 3.14159\n",
    "formatted_pi = \"{:.2f}\".format(pi)  # Formats pi with 2 decimal places\n",
    "print('Using .format()')\n",
    "print(formatted_pi)  # Output: 3.14\n",
    "\n",
    "formatted_pi = f\"{pi:.2f}\"  # Using f-strings\n",
    "print('Using f-strings')\n",
    "print(formatted_pi)  # Output: 3.14"
   ]
  },
  {
   "cell_type": "code",
   "execution_count": null,
   "id": "96767043",
   "metadata": {},
   "outputs": [],
   "source": [
    "# Formatting integer numbers\n",
    "\n",
    "num = 42\n",
    "formatted_num = \"{:6d}\".format(num)  # Formats num with a minimum width of 6\n",
    "print('Using .format()')\n",
    "print(formatted_num)  # Output:   42\n",
    "\n",
    "formatted_num = f\"{num:6d}\"  # Using f-strings\n",
    "print('Using f-strings')\n",
    "print(formatted_num)  # Output:   42\n",
    "\n",
    "# Try changing width from 6 to 10 and see the difference"
   ]
  },
  {
   "cell_type": "markdown",
   "id": "02896039",
   "metadata": {},
   "source": [
    "##### Formatting with thousands separators"
   ]
  },
  {
   "cell_type": "code",
   "execution_count": null,
   "id": "7631e3d0",
   "metadata": {},
   "outputs": [],
   "source": [
    "population = 5000000\n",
    "formatted_pop = \"{:,}\".format(population)  # Formats population with thousands separators\n",
    "print('Using .format()')\n",
    "print(formatted_pop)  # Output: 5,000,000\n",
    "\n",
    "population = 5000000\n",
    "formatted_pop = f\"{population:,}\"  # Formats with thousands separators using an f-string\n",
    "print('Using f-strings')\n",
    "print(formatted_pop)  # Output: 5,000,000"
   ]
  }
 ],
 "metadata": {
  "kernelspec": {
   "display_name": "Python 3",
   "language": "python",
   "name": "python3"
  },
  "language_info": {
   "codemirror_mode": {
    "name": "ipython",
    "version": 3
   },
   "file_extension": ".py",
   "mimetype": "text/x-python",
   "name": "python",
   "nbconvert_exporter": "python",
   "pygments_lexer": "ipython3",
   "version": "3.10.11"
  }
 },
 "nbformat": 4,
 "nbformat_minor": 5
}
