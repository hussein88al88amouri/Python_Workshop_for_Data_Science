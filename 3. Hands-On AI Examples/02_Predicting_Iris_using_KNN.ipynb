{
 "cells": [
  {
   "cell_type": "markdown",
   "id": "a9cff651",
   "metadata": {},
   "source": [
    "Predicting Iris Species with K-Nearest Neighbors"
   ]
  },
  {
   "cell_type": "markdown",
   "id": "cea8ed02",
   "metadata": {},
   "source": [
    "---"
   ]
  },
  {
   "cell_type": "markdown",
   "id": "15617334",
   "metadata": {},
   "source": [
    "### 3.2.1. KNN -- K-Nearest Neighbors"
   ]
  },
  {
   "cell_type": "markdown",
   "id": "779b0fc4",
   "metadata": {},
   "source": [
    "In this notebook, you will build a **classification model** using the **Iris dataset** with **K-Nearest Neighbors (KNN)**.  \n",
    "You will explore data, visualize it, and learn a bit of the math behind KNN."
   ]
  },
  {
   "cell_type": "markdown",
   "id": "7338e364",
   "metadata": {},
   "source": [
    "- *Brief Math Behind KNN*\n",
    "\n",
    "KNN predicts the class of a new observation by looking at the **'k' closest samples** in the training set.  \n",
    "\n",
    " **Distance metric**: Usually **Euclidean distance**  \n",
    "\n",
    "$$\n",
    "d(\\mathbf{x}_i, \\mathbf{x}_j) = \\sqrt{\\sum_{n=1}^{N} (x_{in} - x_{jn})^2}\n",
    "$$\n",
    "\n",
    " **Prediction**: The class is chosen based on the **most common label** among the k nearest neighbors.  \n",
    "\n",
    "---\n"
   ]
  },
  {
   "cell_type": "markdown",
   "id": "73d35e82",
   "metadata": {},
   "source": [
    "### 3.2.2. Loading Dataset"
   ]
  },
  {
   "cell_type": "code",
   "execution_count": 1,
   "id": "fd690939",
   "metadata": {},
   "outputs": [],
   "source": [
    "import pandas as pd\n",
    "import numpy as np\n"
   ]
  },
  {
   "cell_type": "markdown",
   "id": "a85cdc1e",
   "metadata": {},
   "source": [
    "#### Prepare the data"
   ]
  },
  {
   "cell_type": "code",
   "execution_count": 3,
   "id": "78627990",
   "metadata": {},
   "outputs": [
    {
     "name": "stdout",
     "output_type": "stream",
     "text": [
      "   sepal length (cm)  sepal width (cm)  petal length (cm)  petal width (cm)  \\\n",
      "0                5.1               3.5                1.4               0.2   \n",
      "1                4.9               3.0                1.4               0.2   \n",
      "2                4.7               3.2                1.3               0.2   \n",
      "3                4.6               3.1                1.5               0.2   \n",
      "4                5.0               3.6                1.4               0.2   \n",
      "\n",
      "   target target_name  \n",
      "0       0      setosa  \n",
      "1       0      setosa  \n",
      "2       0      setosa  \n",
      "3       0      setosa  \n",
      "4       0      setosa  \n"
     ]
    }
   ],
   "source": [
    "iris =  pd.read_csv('iris.csv')#  load from csv\n",
    "print(iris.head())"
   ]
  },
  {
   "cell_type": "code",
   "execution_count": 4,
   "id": "5640b59d",
   "metadata": {},
   "outputs": [],
   "source": [
    "# TODO: get numpy arrays for data and labels\n",
    "X =  iris.iloc[:, :4].to_numpy()\n",
    "Y =  iris['target']\n"
   ]
  },
  {
   "cell_type": "markdown",
   "id": "f141af72",
   "metadata": {},
   "source": [
    "#### Explore the data"
   ]
  },
  {
   "cell_type": "code",
   "execution_count": 7,
   "id": "202a0fc4",
   "metadata": {},
   "outputs": [
    {
     "name": "stdout",
     "output_type": "stream",
     "text": [
      "       sepal length (cm)  sepal width (cm)  petal length (cm)  \\\n",
      "count         150.000000        150.000000         150.000000   \n",
      "mean            5.843333          3.057333           3.758000   \n",
      "std             0.828066          0.435866           1.765298   \n",
      "min             4.300000          2.000000           1.000000   \n",
      "25%             5.100000          2.800000           1.600000   \n",
      "50%             5.800000          3.000000           4.350000   \n",
      "75%             6.400000          3.300000           5.100000   \n",
      "max             7.900000          4.400000           6.900000   \n",
      "\n",
      "       petal width (cm)      target  \n",
      "count        150.000000  150.000000  \n",
      "mean           1.199333    1.000000  \n",
      "std            0.762238    0.819232  \n",
      "min            0.100000    0.000000  \n",
      "25%            0.300000    0.000000  \n",
      "50%            1.300000    1.000000  \n",
      "75%            1.800000    2.000000  \n",
      "max            2.500000    2.000000  \n"
     ]
    }
   ],
   "source": [
    "# TODO: Print summary statistics for numeric features\n",
    "summary =  iris.describe()  # TODO\n",
    "print(summary)\n",
    "\n",
    "# # TODO: Count samples per species\n",
    "# # species_count =    # TODO\n",
    "# print(species_count)"
   ]
  },
  {
   "cell_type": "markdown",
   "id": "5fd971d7",
   "metadata": {},
   "source": [
    "#### Visulize the data"
   ]
  },
  {
   "cell_type": "code",
   "execution_count": null,
   "id": "ab34349f",
   "metadata": {},
   "outputs": [],
   "source": []
  },
  {
   "cell_type": "markdown",
   "id": "b9282167",
   "metadata": {},
   "source": [
    "#### Prepare the Training and Testing data"
   ]
  },
  {
   "cell_type": "code",
   "execution_count": 9,
   "id": "68992fa6",
   "metadata": {},
   "outputs": [],
   "source": [
    "from sklearn.model_selection import train_test_split\n",
    "\n",
    "# TODO: Split into 80% training and 20% test\n",
    "X_train, X_test, y_train, y_test = train_test_split(X, Y, test_size=0.2)# TODO\n"
   ]
  },
  {
   "cell_type": "markdown",
   "id": "c10b0d51",
   "metadata": {},
   "source": [
    "#### Train K-Nearest Neighbors Model"
   ]
  },
  {
   "cell_type": "code",
   "execution_count": null,
   "id": "af845ec1",
   "metadata": {},
   "outputs": [],
   "source": [
    "from sklearn.neighbors import KNeighborsClassifier\n",
    "from sklearn.preprocessing import StandardScaler"
   ]
  },
  {
   "cell_type": "code",
   "execution_count": null,
   "id": "404e92cf",
   "metadata": {},
   "outputs": [],
   "source": [
    "# Standardize features\n",
    "scaler = StandardScaler()\n",
    "X_train_scaled =    # TODO: fit_transform on X_train\n",
    "X_test_scaled =     # TODO: transform X_test\n"
   ]
  },
  {
   "cell_type": "code",
   "execution_count": null,
   "id": "fdc6e7b2",
   "metadata": {},
   "outputs": [],
   "source": [
    "# TODO: Initialize KNN with k=5 neighbors\n",
    "k = \n",
    "knn = KNeighborsClassifier(n_neighbors= )  # TODO\n"
   ]
  },
  {
   "cell_type": "code",
   "execution_count": null,
   "id": "806eee18",
   "metadata": {},
   "outputs": [],
   "source": [
    "# TODO: Train the model\n",
    "knn.fit(X,y)\n"
   ]
  },
  {
   "cell_type": "markdown",
   "id": "b5a63c96",
   "metadata": {},
   "source": [
    "#### Make Predictions and Evaluate"
   ]
  },
  {
   "cell_type": "code",
   "execution_count": null,
   "id": "a7d2ed72",
   "metadata": {},
   "outputs": [],
   "source": [
    "from sklearn.metrics import accuracy_score, confusion_matrix"
   ]
  },
  {
   "cell_type": "code",
   "execution_count": null,
   "id": "6b587ae8",
   "metadata": {},
   "outputs": [],
   "source": [
    "# TODO: Predict on the test set\n",
    "y_pred = knn.predict( )  # TODO"
   ]
  },
  {
   "cell_type": "code",
   "execution_count": null,
   "id": "f9252f4d",
   "metadata": {},
   "outputs": [],
   "source": [
    "# TODO: Calculate accuracy\n",
    "accuracy = accuracy_score( ,  )  # TODO\n",
    "print(\"Accuracy:\", accuracy)"
   ]
  },
  {
   "cell_type": "code",
   "execution_count": null,
   "id": "0fc778b3",
   "metadata": {},
   "outputs": [],
   "source": [
    "# TODO: Confusion matrix\n",
    "cm = None  # TODO\n",
    "print(\"Confusion Matrix:\\n\", cm)\n",
    "\n"
   ]
  },
  {
   "cell_type": "markdown",
   "id": "94b2a96b",
   "metadata": {},
   "source": [
    "Mean squared error"
   ]
  },
  {
   "cell_type": "markdown",
   "id": "b9597bde",
   "metadata": {},
   "source": [
    "## Extra"
   ]
  },
  {
   "cell_type": "markdown",
   "id": "97a5afe4",
   "metadata": {},
   "source": [
    "\n",
    "1. Try different values of k (e.g., 3, 7, 10) and observe changes in accuracy.\n",
    "\n",
    "2. Plot decision boundaries in 2D using Petal Length and Width.\n",
    "\n",
    "3. Compare results with SVM to see differences."
   ]
  }
 ],
 "metadata": {
  "kernelspec": {
   "display_name": "Python 3 (ipykernel)",
   "language": "python",
   "name": "python3"
  },
  "language_info": {
   "codemirror_mode": {
    "name": "ipython",
    "version": 3
   },
   "file_extension": ".py",
   "mimetype": "text/x-python",
   "name": "python",
   "nbconvert_exporter": "python",
   "pygments_lexer": "ipython3",
   "version": "3.13.7"
  }
 },
 "nbformat": 4,
 "nbformat_minor": 5
}
