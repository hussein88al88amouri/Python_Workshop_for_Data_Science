{
 "cells": [
  {
   "cell_type": "markdown",
   "id": "a9cff651",
   "metadata": {},
   "source": [
    "Predicting Iris Species with K-Nearest Neighbors"
   ]
  },
  {
   "cell_type": "markdown",
   "id": "cea8ed02",
   "metadata": {},
   "source": [
    "---"
   ]
  },
  {
   "cell_type": "markdown",
   "id": "15617334",
   "metadata": {},
   "source": [
    "### 3.2.1. KNN -- K-Nearest Neighbors"
   ]
  },
  {
   "cell_type": "markdown",
   "id": "779b0fc4",
   "metadata": {},
   "source": [
    "In this notebook, you will build a **classification model** using the **Iris dataset** with **K-Nearest Neighbors (KNN)**.  \n",
    "You will explore data, visualize it, and learn a bit of the math behind KNN."
   ]
  },
  {
   "cell_type": "markdown",
   "id": "7338e364",
   "metadata": {},
   "source": [
    "- *Brief Math Behind KNN*\n",
    "\n",
    "KNN predicts the class of a new observation by looking at the **'k' closest samples** in the training set.  \n",
    "\n",
    " **Distance metric**: Usually **Euclidean distance**  \n",
    "\n",
    "$$\n",
    "d(\\mathbf{x}_i, \\mathbf{x}_j) = \\sqrt{\\sum_{n=1}^{N} (x_{in} - x_{jn})^2}\n",
    "$$\n",
    "\n",
    " **Prediction**: The class is chosen based on the **most common label** among the k nearest neighbors.  \n",
    "\n",
    "---\n"
   ]
  },
  {
   "cell_type": "markdown",
   "id": "73d35e82",
   "metadata": {},
   "source": [
    "### 3.2.2. Loading Dataset"
   ]
  },
  {
   "cell_type": "code",
   "execution_count": null,
   "id": "fd690939",
   "metadata": {},
   "outputs": [],
   "source": [
    "from sklearn.datasets import load_iris\n",
    "import pandas as pd\n",
    "import numpy as np\n"
   ]
  },
  {
   "cell_type": "markdown",
   "id": "a85cdc1e",
   "metadata": {},
   "source": [
    "#### Prepare the data"
   ]
  },
  {
   "cell_type": "code",
   "execution_count": null,
   "id": "5640b59d",
   "metadata": {},
   "outputs": [],
   "source": [
    "iris = load_iris()\n",
    "\n",
    "# TODO: Convert to DataFrame with feature names\n",
    "df = None  # TODO\n",
    "\n",
    "# TODO: Add 'Species' column with class names\n",
    "df['Species'] = None  # TODO\n",
    "\n",
    "print(df.head())"
   ]
  },
  {
   "cell_type": "markdown",
   "id": "f141af72",
   "metadata": {},
   "source": [
    "#### Explore the data"
   ]
  },
  {
   "cell_type": "code",
   "execution_count": null,
   "id": "202a0fc4",
   "metadata": {},
   "outputs": [],
   "source": [
    "# TODO: Print summary statistics for numeric features\n",
    "summary = None  # TODO\n",
    "print(summary)\n",
    "\n",
    "# TODO: Count samples per species\n",
    "species_count = None  # TODO\n",
    "print(species_count)"
   ]
  },
  {
   "cell_type": "markdown",
   "id": "5fd971d7",
   "metadata": {},
   "source": [
    "#### Visulize the data"
   ]
  },
  {
   "cell_type": "code",
   "execution_count": null,
   "id": "7c5eb7f0",
   "metadata": {},
   "outputs": [],
   "source": [
    "import matplotlib.pyplot as plt\n",
    "\n",
    "# TODO: Scatter plot Petal Length vs Petal Width, color by species\n",
    "plt.scatter(None, None)  # TODO\n",
    "plt.xlabel(\"Petal Length (cm)\")\n",
    "plt.ylabel(\"Petal Width (cm)\")\n",
    "plt.title(\"Petal Length vs Width by Species\")\n",
    "plt.show()\n"
   ]
  },
  {
   "cell_type": "markdown",
   "id": "b9282167",
   "metadata": {},
   "source": [
    "#### Prepare the Training and Testing data"
   ]
  },
  {
   "cell_type": "code",
   "execution_count": null,
   "id": "68992fa6",
   "metadata": {},
   "outputs": [],
   "source": [
    "from sklearn.model_selection import train_test_split\n",
    "\n",
    "# TODO: Define features X and target y\n",
    "X = None  # TODO\n",
    "y = None  # TODO\n",
    "\n",
    "# TODO: Split into 80% training and 20% test\n",
    "X_train, X_test, y_train, y_test = None, None, None, None  # TODO\n"
   ]
  },
  {
   "cell_type": "markdown",
   "id": "c10b0d51",
   "metadata": {},
   "source": [
    "#### Train K-Nearest Neighbors Model"
   ]
  },
  {
   "cell_type": "code",
   "execution_count": null,
   "id": "806eee18",
   "metadata": {},
   "outputs": [],
   "source": [
    "from sklearn.neighbors import KNeighborsClassifier\n",
    "from sklearn.preprocessing import StandardScaler\n",
    "\n",
    "# Standardize features\n",
    "scaler = StandardScaler()\n",
    "X_train_scaled = None  # TODO: fit_transform on X_train\n",
    "X_test_scaled = None   # TODO: transform X_test\n",
    "\n",
    "# TODO: Initialize KNN with k=5 neighbors\n",
    "knn = None  # TODO\n",
    "\n",
    "# TODO: Train the model\n",
    "# knn.fit(...)\n"
   ]
  },
  {
   "cell_type": "markdown",
   "id": "b5a63c96",
   "metadata": {},
   "source": [
    "#### Make Predictions and Evaluate"
   ]
  },
  {
   "cell_type": "code",
   "execution_count": null,
   "id": "0fc778b3",
   "metadata": {},
   "outputs": [],
   "source": [
    "from sklearn.metrics import accuracy_score, confusion_matrix, classification_report\n",
    "\n",
    "# TODO: Predict on the test set\n",
    "y_pred = None  # TODO\n",
    "\n",
    "# TODO: Calculate accuracy\n",
    "accuracy = None  # TODO\n",
    "print(\"Accuracy:\", accuracy)\n",
    "\n",
    "# TODO: Confusion matrix\n",
    "cm = None  # TODO\n",
    "print(\"Confusion Matrix:\\n\", cm)\n",
    "\n",
    "# TODO: Classification report\n",
    "report = None  # TODO\n",
    "print(\"Classification Report:\\n\", report)\n"
   ]
  },
  {
   "cell_type": "markdown",
   "id": "b9597bde",
   "metadata": {},
   "source": [
    "## Extra"
   ]
  },
  {
   "cell_type": "markdown",
   "id": "97a5afe4",
   "metadata": {},
   "source": [
    "\n",
    "1. Try different values of k (e.g., 3, 7, 10) and observe changes in accuracy.\n",
    "\n",
    "2. Plot decision boundaries in 2D using Petal Length and Width.\n",
    "\n",
    "3. Compare results with Logistic Regression to see differences."
   ]
  }
 ],
 "metadata": {
  "language_info": {
   "name": "python"
  }
 },
 "nbformat": 4,
 "nbformat_minor": 5
}
