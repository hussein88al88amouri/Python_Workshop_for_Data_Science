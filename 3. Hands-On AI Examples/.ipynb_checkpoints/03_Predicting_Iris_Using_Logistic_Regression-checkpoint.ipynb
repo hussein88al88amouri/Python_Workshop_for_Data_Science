{
 "cells": [
  {
   "cell_type": "markdown",
   "id": "61712b5f",
   "metadata": {},
   "source": [
    "We will use the Logistic Regression model.\n",
    "It is a machine learning algorithm used for classification tasks, which means it predicts the category or class of an observation rather than a continuous number.\n",
    "\n",
    "For example, given features of a flower (like petal length and width), Logistic Regression can predict whether the flower is Iris-setosa, Iris-versicolor, or Iris-virginica.\n",
    "It works by estimating the probability that a given observation belongs to each class and assigning it to the most likely one."
   ]
  },
  {
   "cell_type": "markdown",
   "id": "d81b2160",
   "metadata": {},
   "source": [
    "* *Brief Math Behind Logistic Regression*\n",
    "\n",
    "**Logistic Regression** is a supervised learning algorithm used for **binary classification** problems.\n",
    "It estimates the probability that a given input belongs to a particular class by fitting a **sigmoid function** to a linear combination of the input features.\n",
    "\n",
    "**Model equation**:\n",
    "\n",
    "$$\n",
    "\\hat{y} = \\sigma \\left( \\mathbf{w}^\\top \\mathbf{x} + b \\right)\n",
    "$$\n",
    "\n",
    "where:\n",
    "\n",
    "* $\\hat{y}$ = predicted probability (between 0 and 1)\n",
    "* $\\mathbf{x}$ = feature vector\n",
    "* $\\mathbf{w}$ = weights (coefficients)\n",
    "* $b$ = bias (intercept)\n",
    "* $\\sigma(z)$ = sigmoid function defined as:\n",
    "\n",
    "$$\n",
    "\\sigma(z) = \\frac{1}{1 + e^{-z}}\n",
    "$$\n",
    "\n",
    "In two dimensions, the model learns a linear decision boundary, but outputs a probability rather than a continuous value.\n",
    "\n",
    "**Learning rule**: The model learns by minimizing the **Binary Cross-Entropy Loss** (also called Log Loss):\n",
    "\n",
    "$$\n",
    "\\mathcal{L} = -\\frac{1}{m} \\sum_{i=1}^{m} \\left[ y_i \\log(\\hat{y}_i) + (1 - y_i) \\log(1 - \\hat{y}_i) \\right]\n",
    "$$\n",
    "\n",
    "where:\n",
    "\n",
    "* $y_i \\in {0, 1}$ is the true label\n",
    "* $\\hat{y}_i$ is the predicted probability\n",
    "* $m$ is the number of training samples\n",
    "\n",
    "---\n"
   ]
  },
  {
   "cell_type": "markdown",
   "id": "25c3d1b2",
   "metadata": {},
   "source": [
    "Import needed libraries: `LogisticRegression`, `accuracy_score`, `confusion_matrix`, `numpy`, `matplotlib`\n",
    "\n",
    "`LogisticRegression` is imported from `sklearn.linear_model` "
   ]
  },
  {
   "cell_type": "code",
   "execution_count": null,
   "id": "180fe854",
   "metadata": {},
   "outputs": [],
   "source": [
    "# TODO: "
   ]
  },
  {
   "cell_type": "markdown",
   "id": "964fa275",
   "metadata": {},
   "source": [
    "Load dataset: use pd.read_csv()"
   ]
  },
  {
   "cell_type": "code",
   "execution_count": null,
   "id": "c799a0a5",
   "metadata": {},
   "outputs": [],
   "source": [
    "# TODO: "
   ]
  },
  {
   "cell_type": "markdown",
   "id": "9536f724",
   "metadata": {},
   "source": [
    "Visualize the Iris dataset "
   ]
  },
  {
   "cell_type": "code",
   "execution_count": null,
   "id": "7f3700c5",
   "metadata": {},
   "outputs": [],
   "source": [
    "# TODO: "
   ]
  },
  {
   "cell_type": "markdown",
   "id": "d8f7c4ba",
   "metadata": {},
   "source": [
    "Splitting Data into Training and Test Sets"
   ]
  },
  {
   "cell_type": "code",
   "execution_count": null,
   "id": "85eb42f8",
   "metadata": {},
   "outputs": [],
   "source": [
    "# TODO: "
   ]
  },
  {
   "cell_type": "markdown",
   "id": "0e08e88a",
   "metadata": {},
   "source": [
    "Preprocessing (Standardization)"
   ]
  },
  {
   "cell_type": "code",
   "execution_count": null,
   "id": "dbbfafb1",
   "metadata": {},
   "outputs": [],
   "source": [
    "# TODO:"
   ]
  },
  {
   "cell_type": "markdown",
   "id": "b6f06028",
   "metadata": {},
   "source": [
    "Intialize the model and train the model"
   ]
  },
  {
   "cell_type": "code",
   "execution_count": null,
   "id": "2afaad79",
   "metadata": {},
   "outputs": [],
   "source": [
    "# TODO:"
   ]
  },
  {
   "cell_type": "markdown",
   "id": "e61ec9ce",
   "metadata": {},
   "source": [
    "Predict the classes for the test data"
   ]
  },
  {
   "cell_type": "code",
   "execution_count": null,
   "id": "64c52e01",
   "metadata": {},
   "outputs": [],
   "source": [
    "# TODO:"
   ]
  },
  {
   "cell_type": "markdown",
   "id": "016d85e6",
   "metadata": {},
   "source": [
    "Evaluate the model"
   ]
  },
  {
   "cell_type": "code",
   "execution_count": null,
   "id": "1079595b",
   "metadata": {},
   "outputs": [],
   "source": [
    "# TODO:"
   ]
  },
  {
   "cell_type": "markdown",
   "id": "fa9109b4",
   "metadata": {},
   "source": [
    "Visualize the results"
   ]
  },
  {
   "cell_type": "code",
   "execution_count": 1,
   "id": "a0ef27e4",
   "metadata": {},
   "outputs": [],
   "source": [
    "# TODO:"
   ]
  }
 ],
 "metadata": {
  "kernelspec": {
   "display_name": "Python 3",
   "language": "python",
   "name": "python3"
  },
  "language_info": {
   "codemirror_mode": {
    "name": "ipython",
    "version": 3
   },
   "file_extension": ".py",
   "mimetype": "text/x-python",
   "name": "python",
   "nbconvert_exporter": "python",
   "pygments_lexer": "ipython3",
   "version": "3.10.11"
  }
 },
 "nbformat": 4,
 "nbformat_minor": 5
}
