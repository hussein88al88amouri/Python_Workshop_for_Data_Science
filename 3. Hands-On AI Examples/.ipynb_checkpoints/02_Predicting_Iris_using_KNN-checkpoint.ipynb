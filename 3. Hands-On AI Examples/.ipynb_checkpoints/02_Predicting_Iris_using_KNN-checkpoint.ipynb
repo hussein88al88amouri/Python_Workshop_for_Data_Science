{
 "cells": [
  {
   "cell_type": "markdown",
   "id": "a9cff651",
   "metadata": {},
   "source": [
    "Predicting Iris Species with K-Nearest Neighbors"
   ]
  },
  {
   "cell_type": "markdown",
   "id": "cea8ed02",
   "metadata": {},
   "source": [
    "---"
   ]
  },
  {
   "cell_type": "markdown",
   "id": "15617334",
   "metadata": {},
   "source": [
    "### 3.2.1. KNN -- K-Nearest Neighbors"
   ]
  },
  {
   "cell_type": "markdown",
   "id": "779b0fc4",
   "metadata": {},
   "source": [
    "In this notebook, you will build a **classification model** using the **Iris dataset** with **K-Nearest Neighbors (KNN)**.  \n",
    "You will explore data, visualize it, and learn a bit of the math behind KNN."
   ]
  },
  {
   "cell_type": "markdown",
   "id": "7338e364",
   "metadata": {},
   "source": [
    "- *Brief Math Behind KNN*\n",
    "\n",
    "KNN predicts the class of a new observation by looking at the **'k' closest samples** in the training set.  \n",
    "\n",
    " **Distance metric**: Usually **Euclidean distance**  \n",
    "\n",
    "$$\n",
    "d(\\mathbf{x}_i, \\mathbf{x}_j) = \\sqrt{\\sum_{n=1}^{N} (x_{in} - x_{jn})^2}\n",
    "$$\n",
    "\n",
    " **Prediction**: The class is chosen based on the **most common label** among the k nearest neighbors.  \n",
    "\n",
    "---\n"
   ]
  },
  {
   "cell_type": "markdown",
   "id": "73d35e82",
   "metadata": {},
   "source": [
    "### 3.2.2. Loading Dataset"
   ]
  },
  {
   "cell_type": "code",
   "execution_count": 2,
   "id": "fd690939",
   "metadata": {},
   "outputs": [],
   "source": [
    "from sklearn.datasets import load_iris\n",
    "import pandas as pd\n",
    "import numpy as np\n"
   ]
  },
  {
   "cell_type": "markdown",
   "id": "a85cdc1e",
   "metadata": {},
   "source": [
    "#### Prepare the data"
   ]
  },
  {
   "cell_type": "code",
   "execution_count": 3,
   "id": "5640b59d",
   "metadata": {},
   "outputs": [
    {
     "name": "stdout",
     "output_type": "stream",
     "text": [
      "   Sepal Length  Sepal Width  Petal Length  Petal Width  Species\n",
      "0           5.1          3.5           1.4          0.2        0\n",
      "1           4.9          3.0           1.4          0.2        0\n",
      "2           4.7          3.2           1.3          0.2        0\n",
      "3           4.6          3.1           1.5          0.2        0\n",
      "4           5.0          3.6           1.4          0.2        0\n"
     ]
    }
   ],
   "source": [
    "iris = load_iris()\n",
    "\n",
    "# TODO: Convert to DataFrame with feature names\n",
    "X = iris.data\n",
    "Y = iris.target\n",
    "df = pd.DataFrame({'Sepal Length':X[:, 0], 'Sepal Width':X[:, 1], 'Petal Length':X[:, 2],'Petal Width':X[:, 3]})  # TODO\n",
    "\n",
    "# TODO: Add 'Species' column with class names\n",
    "df['Species'] = Y  # TODO\n",
    "\n",
    "print(df.head())"
   ]
  },
  {
   "cell_type": "markdown",
   "id": "f141af72",
   "metadata": {},
   "source": [
    "#### Explore the data"
   ]
  },
  {
   "cell_type": "code",
   "execution_count": 5,
   "id": "202a0fc4",
   "metadata": {},
   "outputs": [
    {
     "name": "stdout",
     "output_type": "stream",
     "text": [
      "       Sepal Length  Sepal Width  Petal Length  Petal Width     Species\n",
      "count    150.000000   150.000000    150.000000   150.000000  150.000000\n",
      "mean       5.843333     3.057333      3.758000     1.199333    1.000000\n",
      "std        0.828066     0.435866      1.765298     0.762238    0.819232\n",
      "min        4.300000     2.000000      1.000000     0.100000    0.000000\n",
      "25%        5.100000     2.800000      1.600000     0.300000    0.000000\n",
      "50%        5.800000     3.000000      4.350000     1.300000    1.000000\n",
      "75%        6.400000     3.300000      5.100000     1.800000    2.000000\n",
      "max        7.900000     4.400000      6.900000     2.500000    2.000000\n",
      "150\n"
     ]
    }
   ],
   "source": [
    "# TODO: Print summary statistics for numeric features\n",
    "summary = df.describe()  # TODO\n",
    "print(summary)\n",
    "\n",
    "# TODO: Count samples per species\n",
    "species_count = df.shape[0]  # TODO\n",
    "print(species_count)"
   ]
  },
  {
   "cell_type": "markdown",
   "id": "5fd971d7",
   "metadata": {},
   "source": [
    "#### Visulize the data"
   ]
  },
  {
   "cell_type": "code",
   "execution_count": 9,
   "id": "7c5eb7f0",
   "metadata": {},
   "outputs": [
    {
     "data": {
      "image/png": "[encoded data removed]",
      "text/plain": [
       "<Figure size 640x480 with 1 Axes>"
      ]
     },
     "metadata": {},
     "output_type": "display_data"
    }
   ],
   "source": [
    "import matplotlib.pyplot as plt\n",
    "\n",
    "# TODO: Scatter plot Petal Length vs Petal Width, color by species\n",
    "plt.scatter(X[:, 2], X[:, 3])  # TODO\n",
    "plt.xlabel(\"Petal Length (cm)\")\n",
    "plt.ylabel(\"Petal Width (cm)\")\n",
    "plt.title(\"Petal Length vs Width by Species\")\n",
    "plt.show()\n"
   ]
  },
  {
   "cell_type": "markdown",
   "id": "b9282167",
   "metadata": {},
   "source": [
    "#### Prepare the Training and Testing data"
   ]
  },
  {
   "cell_type": "code",
   "execution_count": 13,
   "id": "68992fa6",
   "metadata": {},
   "outputs": [],
   "source": [
    "from sklearn.model_selection import train_test_split\n",
    "\n",
    "# TODO: Define features X and target y\n",
    "X = iris.data  # TODO\n",
    "y = iris.target  # TODO\n",
    "\n",
    "# TODO: Split into 80% training and 20% test\n",
    "X_train, X_test, y_train, y_test = train_test_split(X,Y)  # TODO\n"
   ]
  },
  {
   "cell_type": "markdown",
   "id": "c10b0d51",
   "metadata": {},
   "source": [
    "#### Train K-Nearest Neighbors Model"
   ]
  },
  {
   "cell_type": "code",
   "execution_count": 18,
   "id": "806eee18",
   "metadata": {},
   "outputs": [
    {
     "data": {
      "text/html": [
       "<style>#sk-container-id-2 {color: black;background-color: white;}#sk-container-id-2 pre{padding: 0;}#sk-container-id-2 div.sk-toggleable {background-color: white;}#sk-container-id-2 label.sk-toggleable__label {cursor: pointer;display: block;width: 100%;margin-bottom: 0;padding: 0.3em;box-sizing: border-box;text-align: center;}#sk-container-id-2 label.sk-toggleable__label-arrow:before {content: \"▸\";float: left;margin-right: 0.25em;color: #696969;}#sk-container-id-2 label.sk-toggleable__label-arrow:hover:before {color: black;}#sk-container-id-2 div.sk-estimator:hover label.sk-toggleable__label-arrow:before {color: black;}#sk-container-id-2 div.sk-toggleable__content {max-height: 0;max-width: 0;overflow: hidden;text-align: left;background-color: #f0f8ff;}#sk-container-id-2 div.sk-toggleable__content pre {margin: 0.2em;color: black;border-radius: 0.25em;background-color: #f0f8ff;}#sk-container-id-2 input.sk-toggleable__control:checked~div.sk-toggleable__content {max-height: 200px;max-width: 100%;overflow: auto;}#sk-container-id-2 input.sk-toggleable__control:checked~label.sk-toggleable__label-arrow:before {content: \"▾\";}#sk-container-id-2 div.sk-estimator input.sk-toggleable__control:checked~label.sk-toggleable__label {background-color: #d4ebff;}#sk-container-id-2 div.sk-label input.sk-toggleable__control:checked~label.sk-toggleable__label {background-color: #d4ebff;}#sk-container-id-2 input.sk-hidden--visually {border: 0;clip: rect(1px 1px 1px 1px);clip: rect(1px, 1px, 1px, 1px);height: 1px;margin: -1px;overflow: hidden;padding: 0;position: absolute;width: 1px;}#sk-container-id-2 div.sk-estimator {font-family: monospace;background-color: #f0f8ff;border: 1px dotted black;border-radius: 0.25em;box-sizing: border-box;margin-bottom: 0.5em;}#sk-container-id-2 div.sk-estimator:hover {background-color: #d4ebff;}#sk-container-id-2 div.sk-parallel-item::after {content: \"\";width: 100%;border-bottom: 1px solid gray;flex-grow: 1;}#sk-container-id-2 div.sk-label:hover label.sk-toggleable__label {background-color: #d4ebff;}#sk-container-id-2 div.sk-serial::before {content: \"\";position: absolute;border-left: 1px solid gray;box-sizing: border-box;top: 0;bottom: 0;left: 50%;z-index: 0;}#sk-container-id-2 div.sk-serial {display: flex;flex-direction: column;align-items: center;background-color: white;padding-right: 0.2em;padding-left: 0.2em;position: relative;}#sk-container-id-2 div.sk-item {position: relative;z-index: 1;}#sk-container-id-2 div.sk-parallel {display: flex;align-items: stretch;justify-content: center;background-color: white;position: relative;}#sk-container-id-2 div.sk-item::before, #sk-container-id-2 div.sk-parallel-item::before {content: \"\";position: absolute;border-left: 1px solid gray;box-sizing: border-box;top: 0;bottom: 0;left: 50%;z-index: -1;}#sk-container-id-2 div.sk-parallel-item {display: flex;flex-direction: column;z-index: 1;position: relative;background-color: white;}#sk-container-id-2 div.sk-parallel-item:first-child::after {align-self: flex-end;width: 50%;}#sk-container-id-2 div.sk-parallel-item:last-child::after {align-self: flex-start;width: 50%;}#sk-container-id-2 div.sk-parallel-item:only-child::after {width: 0;}#sk-container-id-2 div.sk-dashed-wrapped {border: 1px dashed gray;margin: 0 0.4em 0.5em 0.4em;box-sizing: border-box;padding-bottom: 0.4em;background-color: white;}#sk-container-id-2 div.sk-label label {font-family: monospace;font-weight: bold;display: inline-block;line-height: 1.2em;}#sk-container-id-2 div.sk-label-container {text-align: center;}#sk-container-id-2 div.sk-container {/* jupyter's `normalize.less` sets `[hidden] { display: none; }` but bootstrap.min.css set `[hidden] { display: none !important; }` so we also need the `!important` here to be able to override the default hidden behavior on the sphinx rendered scikit-learn.org. See: https://github.com/scikit-learn/scikit-learn/issues/21755 */display: inline-block !important;position: relative;}#sk-container-id-2 div.sk-text-repr-fallback {display: none;}</style><div id=\"sk-container-id-2\" class=\"sk-top-container\"><div class=\"sk-text-repr-fallback\"><pre>KNeighborsClassifier()</pre><b>In a Jupyter environment, please rerun this cell to show the HTML representation or trust the notebook. <br />On GitHub, the HTML representation is unable to render, please try loading this page with nbviewer.org.</b></div><div class=\"sk-container\" hidden><div class=\"sk-item\"><div class=\"sk-estimator sk-toggleable\"><input class=\"sk-toggleable__control sk-hidden--visually\" id=\"sk-estimator-id-2\" type=\"checkbox\" checked><label for=\"sk-estimator-id-2\" class=\"sk-toggleable__label sk-toggleable__label-arrow\">KNeighborsClassifier</label><div class=\"sk-toggleable__content\"><pre>KNeighborsClassifier()</pre></div></div></div></div></div>"
      ],
      "text/plain": [
       "KNeighborsClassifier()"
      ]
     },
     "execution_count": 18,
     "metadata": {},
     "output_type": "execute_result"
    }
   ],
   "source": [
    "from sklearn.neighbors import KNeighborsClassifier\n",
    "from sklearn.preprocessing import StandardScaler\n",
    "\n",
    "# Standardize features\n",
    "scaler = StandardScaler()\n",
    "X_train_scaled = scaler.fit_transform(X_train)  # TODO: fit_transform on X_train\n",
    "X_test_scaled = scaler.transform(X_test)   # TODO: transform X_test\n",
    "\n",
    "# TODO: Initialize KNN with k=5 neighbors\n",
    "k = 5\n",
    "knn = KNeighborsClassifier(n_neighbors=k)  # TODO\n",
    "\n",
    "# TODO: Train the model\n",
    "knn.fit(X,y)\n"
   ]
  },
  {
   "cell_type": "markdown",
   "id": "b5a63c96",
   "metadata": {},
   "source": [
    "#### Make Predictions and Evaluate"
   ]
  },
  {
   "cell_type": "code",
   "execution_count": 19,
   "id": "0fc778b3",
   "metadata": {},
   "outputs": [
    {
     "name": "stdout",
     "output_type": "stream",
     "text": [
      "Accuracy: 0.34210526315789475\n",
      "Confusion Matrix:\n",
      " None\n",
      "Classification Report:\n",
      " None\n"
     ]
    }
   ],
   "source": [
    "from sklearn.metrics import accuracy_score, confusion_matrix, classification_report\n",
    "\n",
    "# TODO: Predict on the test set\n",
    "y_pred = knn.predict(X_test_scaled)  # TODO\n",
    "\n",
    "# TODO: Calculate accuracy\n",
    "accuracy = accuracy_score(y_pred, y_test)  # TODO\n",
    "print(\"Accuracy:\", accuracy)\n",
    "\n",
    "# TODO: Confusion matrix\n",
    "cm = None  # TODO\n",
    "print(\"Confusion Matrix:\\n\", cm)\n",
    "\n",
    "# TODO: Classification report\n",
    "report = None  # TODO\n",
    "print(\"Classification Report:\\n\", report)\n"
   ]
  },
  {
   "cell_type": "markdown",
   "id": "b9597bde",
   "metadata": {},
   "source": [
    "## Extra"
   ]
  },
  {
   "cell_type": "markdown",
   "id": "97a5afe4",
   "metadata": {},
   "source": [
    "\n",
    "1. Try different values of k (e.g., 3, 7, 10) and observe changes in accuracy.\n",
    "\n",
    "2. Plot decision boundaries in 2D using Petal Length and Width.\n",
    "\n",
    "3. Compare results with Logistic Regression to see differences."
   ]
  }
 ],
 "metadata": {
  "kernelspec": {
   "display_name": "Python 3 (ipykernel)",
   "language": "python",
   "name": "python3"
  },
  "language_info": {
   "codemirror_mode": {
    "name": "ipython",
    "version": 3
   },
   "file_extension": ".py",
   "mimetype": "text/x-python",
   "name": "python",
   "nbconvert_exporter": "python",
   "pygments_lexer": "ipython3",
   "version": "3.10.11"
  }
 },
 "nbformat": 4,
 "nbformat_minor": 5
}
