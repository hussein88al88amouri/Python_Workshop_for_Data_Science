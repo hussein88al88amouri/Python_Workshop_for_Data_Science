{
 "cells": [
  {
   "cell_type": "markdown",
   "id": "65eb99c2",
   "metadata": {},
   "source": [
    "**Scikit-Learn** is one of the most popular Python libraries for **machine learning**. \n",
    "\n",
    "It provides tools (methods and functions) for:\n",
    "- Loading datasets\n",
    "- Data preprocessing\n",
    "- Training models (supervised and unsupervised)\n",
    "- Making predictions\n",
    "- Evaluating performance"
   ]
  },
  {
   "cell_type": "markdown",
   "id": "1634d812",
   "metadata": {},
   "source": [
    "---"
   ]
  },
  {
   "cell_type": "markdown",
   "id": "3d3ba937",
   "metadata": {},
   "source": [
    "### 3.1.1. Importing Scikit-Learn"
   ]
  },
  {
   "cell_type": "markdown",
   "id": "b1f85a86",
   "metadata": {},
   "source": [
    "Working with Iris dataset.\n",
    "\n",
    "The Iris dataset is a classic dataset for classification tasks in machine learning.\n",
    "It contains:\n",
    "- 150 samples of iris flowers\n",
    "\n",
    "With the following numeric features:\n",
    "- Sepal Length\n",
    "- Sepal Width\n",
    "- Petal Length\n",
    "- Petal Width \n",
    "\n",
    "And divided into 3 classess:\n",
    "- Iris-setosa\n",
    "- Iris-versicolor\n",
    "- Iris-virginica"
   ]
  },
  {
   "cell_type": "markdown",
   "id": "1d9ca264",
   "metadata": {},
   "source": [
    "Load Iris dataset `from sklearn.datasets import load_iris `\n",
    "\n",
    "you can import other datasets as long as they are maintained and porvided by Scikit-Learn"
   ]
  },
  {
   "cell_type": "code",
   "execution_count": 1,
   "id": "49096830",
   "metadata": {},
   "outputs": [],
   "source": [
    "# import Iris dataset\n",
    "from sklearn.datasets import load_iris"
   ]
  },
  {
   "cell_type": "markdown",
   "id": "cbc4cf4d",
   "metadata": {},
   "source": [
    "In machine learning, We usually separate the learning process from the testing process.\n",
    "\n",
    "This is achieved using `train_test_split ` method"
   ]
  },
  {
   "cell_type": "code",
   "execution_count": 3,
   "id": "5a514c37",
   "metadata": {},
   "outputs": [],
   "source": [
    "# import the method train_test_split \n",
    "from sklearn.model_selection import train_test_split "
   ]
  },
  {
   "cell_type": "markdown",
   "id": "a90c6bed",
   "metadata": {},
   "source": [
    "The recorded ovservation can be sekwed or have wide range of values.\n",
    "\n",
    "Best practices is to normalize and standarize the observations.\n",
    "\n",
    "import the pacakge for standarization `StandardScaler` "
   ]
  },
  {
   "cell_type": "code",
   "execution_count": 4,
   "id": "4a8c698b",
   "metadata": {},
   "outputs": [],
   "source": [
    "from sklearn.preprocessing import StandardScaler"
   ]
  },
  {
   "cell_type": "markdown",
   "id": "839316a4",
   "metadata": {},
   "source": [
    "We will use the Logistic Regression model.\n",
    "It is a machine learning algorithm used for classification tasks, which means it predicts the category or class of an observation rather than a continuous number.\n",
    "\n",
    "For example, given features of a flower (like petal length and width), Logistic Regression can predict whether the flower is Iris-setosa, Iris-versicolor, or Iris-virginica.\n",
    "It works by estimating the probability that a given observation belongs to each class and assigning it to the most likely one."
   ]
  },
  {
   "cell_type": "code",
   "execution_count": 5,
   "id": "8fec2ad6",
   "metadata": {},
   "outputs": [],
   "source": [
    "from sklearn.linear_model import LogisticRegression"
   ]
  },
  {
   "cell_type": "markdown",
   "id": "f3dbe53a",
   "metadata": {},
   "source": [
    "To calcualte the quality and the perfromance of the model we will use different matheatical measures"
   ]
  },
  {
   "cell_type": "code",
   "execution_count": 6,
   "id": "7bb356fd",
   "metadata": {},
   "outputs": [],
   "source": [
    "from sklearn.metrics import accuracy_score, confusion_matrix"
   ]
  },
  {
   "cell_type": "markdown",
   "id": "7289cf29",
   "metadata": {},
   "source": [
    "---"
   ]
  },
  {
   "cell_type": "markdown",
   "id": "d7921ad6",
   "metadata": {},
   "source": [
    "### 3.1.2. Experment"
   ]
  },
  {
   "cell_type": "markdown",
   "id": "90b61007",
   "metadata": {},
   "source": [
    "#### Load Dataset"
   ]
  },
  {
   "cell_type": "code",
   "execution_count": 7,
   "id": "245b132e",
   "metadata": {},
   "outputs": [
    {
     "name": "stdout",
     "output_type": "stream",
     "text": [
      "Features (first 5 rows):\n",
      " [[5.1 3.5 1.4 0.2]\n",
      " [4.9 3.  1.4 0.2]\n",
      " [4.7 3.2 1.3 0.2]\n",
      " [4.6 3.1 1.5 0.2]\n",
      " [5.  3.6 1.4 0.2]]\n",
      "Target (first 5 rows): [0 0 0 0 0]\n"
     ]
    }
   ],
   "source": [
    "# Load the Iris dataset\n",
    "iris = load_iris()\n",
    "\n",
    "# Features and target\n",
    "X = iris.data      # shape = (150, 4)\n",
    "y = iris.target    # shape = (150,)\n",
    "\n",
    "# Optional: view first 5 samples\n",
    "print(\"Features (first 5 rows):\\n\", X[:5])\n",
    "print(\"Target (first 5 rows):\", y[:5])"
   ]
  },
  {
   "cell_type": "markdown",
   "id": "89019aa2",
   "metadata": {},
   "source": [
    "#### Splitting Data into Training and Test Sets"
   ]
  },
  {
   "cell_type": "code",
   "execution_count": 8,
   "id": "dffb26de",
   "metadata": {},
   "outputs": [],
   "source": [
    "# TODO: Split the data into 80% training and 20% testing\n",
    "# Use train_test_split(X, y, test_size=0.2, random_state=42)\n",
    "# Explanation: This separates the dataset into training and test sets\n",
    "X_train, X_test, y_train, y_test = train_test_split(X, y, test_size=0.2, random_state=42)  # TODO"
   ]
  },
  {
   "cell_type": "markdown",
   "id": "30f31c41",
   "metadata": {},
   "source": [
    "#### Preprocessing (Standardization)"
   ]
  },
  {
   "cell_type": "code",
   "execution_count": 9,
   "id": "b5acdbf1",
   "metadata": {},
   "outputs": [],
   "source": [
    "scaler = StandardScaler()\n",
    "\n",
    "# TODO: Fit the scaler on the training data and transform both training and test sets\n",
    "# Use scaler.fit_transform(X_train) for training data\n",
    "# Use scaler.transform(X_test) for test data\n",
    "# Explanation: Standardization scales features to mean=0 and std=1, improving model performance\n",
    "X_train_scaled = scaler.fit_transform(X_train)   # TODO\n",
    "X_test_scaled = scaler.transform(X_test)   # TODO"
   ]
  },
  {
   "cell_type": "markdown",
   "id": "2a20c9a7",
   "metadata": {},
   "source": [
    "#### Training a Model (Logistic Regression)"
   ]
  },
  {
   "cell_type": "markdown",
   "id": "e014cb87",
   "metadata": {},
   "source": [
    "---\n",
    "- *Brief Math Behind Linear Regression*\n",
    "\n",
    "Linear Regression predicts a continuous value by fitting a **straight line** (or hyperplane in higher dimensions) to the training data.  \n",
    "\n",
    " **Model equation**:  \n",
    "\n",
    "$$\n",
    "\\hat{y} = \\mathbf{w}^\\top \\mathbf{x} + b\n",
    "$$  \n",
    "\n",
    "where:  \n",
    "-  $\\hat{y} $ = predicted value  \n",
    "-  $\\mathbf{x} $ = feature vector  \n",
    "-  $\\mathbf{w} $ = weights (coefficients)  \n",
    "-  $b $ = bias (intercept)  \n",
    "\n",
    "In two dimensional space, $\\mathbf{w}$ is simply the slope and $b$ is the intercept (offset in the y-axis).\n",
    "\n",
    " **Learning rule**: The weights are chosen to minimize the **Mean Squared Error (MSE)**:  \n",
    "\n",
    "$$\n",
    "\\text{MSE} = \\frac{1}{m} \\sum_{i=1}^{m} \\big(y_i - \\hat{y}_i\\big)^2\n",
    "$$  \n",
    "\n",
    "where $i$ is the sample index and $m$ is the number of samples.\n",
    "\n",
    "---\n"
   ]
  },
  {
   "cell_type": "code",
   "execution_count": 12,
   "id": "055004ce",
   "metadata": {},
   "outputs": [],
   "source": [
    "model = LogisticRegression(max_iter=200)\n",
    "\n",
    "# TODO: Train the model on the scaled training data\n",
    "# Use model.fit(X_train_scaled, y_train)\n",
    "# Explanation: The model learns the patterns in the training data\n",
    "# Hint: Check documentation: https://scikit-learn.org/stable/modules/generated/sklearn.linear_model.LogisticRegression.html\n"
   ]
  },
  {
   "cell_type": "code",
   "execution_count": 13,
   "id": "edd751f2-61e8-4d5e-a1f1-6367ca83ac86",
   "metadata": {},
   "outputs": [
    {
     "data": {
      "text/html": [
       "<style>#sk-container-id-1 {color: black;background-color: white;}#sk-container-id-1 pre{padding: 0;}#sk-container-id-1 div.sk-toggleable {background-color: white;}#sk-container-id-1 label.sk-toggleable__label {cursor: pointer;display: block;width: 100%;margin-bottom: 0;padding: 0.3em;box-sizing: border-box;text-align: center;}#sk-container-id-1 label.sk-toggleable__label-arrow:before {content: \"▸\";float: left;margin-right: 0.25em;color: #696969;}#sk-container-id-1 label.sk-toggleable__label-arrow:hover:before {color: black;}#sk-container-id-1 div.sk-estimator:hover label.sk-toggleable__label-arrow:before {color: black;}#sk-container-id-1 div.sk-toggleable__content {max-height: 0;max-width: 0;overflow: hidden;text-align: left;background-color: #f0f8ff;}#sk-container-id-1 div.sk-toggleable__content pre {margin: 0.2em;color: black;border-radius: 0.25em;background-color: #f0f8ff;}#sk-container-id-1 input.sk-toggleable__control:checked~div.sk-toggleable__content {max-height: 200px;max-width: 100%;overflow: auto;}#sk-container-id-1 input.sk-toggleable__control:checked~label.sk-toggleable__label-arrow:before {content: \"▾\";}#sk-container-id-1 div.sk-estimator input.sk-toggleable__control:checked~label.sk-toggleable__label {background-color: #d4ebff;}#sk-container-id-1 div.sk-label input.sk-toggleable__control:checked~label.sk-toggleable__label {background-color: #d4ebff;}#sk-container-id-1 input.sk-hidden--visually {border: 0;clip: rect(1px 1px 1px 1px);clip: rect(1px, 1px, 1px, 1px);height: 1px;margin: -1px;overflow: hidden;padding: 0;position: absolute;width: 1px;}#sk-container-id-1 div.sk-estimator {font-family: monospace;background-color: #f0f8ff;border: 1px dotted black;border-radius: 0.25em;box-sizing: border-box;margin-bottom: 0.5em;}#sk-container-id-1 div.sk-estimator:hover {background-color: #d4ebff;}#sk-container-id-1 div.sk-parallel-item::after {content: \"\";width: 100%;border-bottom: 1px solid gray;flex-grow: 1;}#sk-container-id-1 div.sk-label:hover label.sk-toggleable__label {background-color: #d4ebff;}#sk-container-id-1 div.sk-serial::before {content: \"\";position: absolute;border-left: 1px solid gray;box-sizing: border-box;top: 0;bottom: 0;left: 50%;z-index: 0;}#sk-container-id-1 div.sk-serial {display: flex;flex-direction: column;align-items: center;background-color: white;padding-right: 0.2em;padding-left: 0.2em;position: relative;}#sk-container-id-1 div.sk-item {position: relative;z-index: 1;}#sk-container-id-1 div.sk-parallel {display: flex;align-items: stretch;justify-content: center;background-color: white;position: relative;}#sk-container-id-1 div.sk-item::before, #sk-container-id-1 div.sk-parallel-item::before {content: \"\";position: absolute;border-left: 1px solid gray;box-sizing: border-box;top: 0;bottom: 0;left: 50%;z-index: -1;}#sk-container-id-1 div.sk-parallel-item {display: flex;flex-direction: column;z-index: 1;position: relative;background-color: white;}#sk-container-id-1 div.sk-parallel-item:first-child::after {align-self: flex-end;width: 50%;}#sk-container-id-1 div.sk-parallel-item:last-child::after {align-self: flex-start;width: 50%;}#sk-container-id-1 div.sk-parallel-item:only-child::after {width: 0;}#sk-container-id-1 div.sk-dashed-wrapped {border: 1px dashed gray;margin: 0 0.4em 0.5em 0.4em;box-sizing: border-box;padding-bottom: 0.4em;background-color: white;}#sk-container-id-1 div.sk-label label {font-family: monospace;font-weight: bold;display: inline-block;line-height: 1.2em;}#sk-container-id-1 div.sk-label-container {text-align: center;}#sk-container-id-1 div.sk-container {/* jupyter's `normalize.less` sets `[hidden] { display: none; }` but bootstrap.min.css set `[hidden] { display: none !important; }` so we also need the `!important` here to be able to override the default hidden behavior on the sphinx rendered scikit-learn.org. See: https://github.com/scikit-learn/scikit-learn/issues/21755 */display: inline-block !important;position: relative;}#sk-container-id-1 div.sk-text-repr-fallback {display: none;}</style><div id=\"sk-container-id-1\" class=\"sk-top-container\"><div class=\"sk-text-repr-fallback\"><pre>LogisticRegression(max_iter=200)</pre><b>In a Jupyter environment, please rerun this cell to show the HTML representation or trust the notebook. <br />On GitHub, the HTML representation is unable to render, please try loading this page with nbviewer.org.</b></div><div class=\"sk-container\" hidden><div class=\"sk-item\"><div class=\"sk-estimator sk-toggleable\"><input class=\"sk-toggleable__control sk-hidden--visually\" id=\"sk-estimator-id-1\" type=\"checkbox\" checked><label for=\"sk-estimator-id-1\" class=\"sk-toggleable__label sk-toggleable__label-arrow\">LogisticRegression</label><div class=\"sk-toggleable__content\"><pre>LogisticRegression(max_iter=200)</pre></div></div></div></div></div>"
      ],
      "text/plain": [
       "LogisticRegression(max_iter=200)"
      ]
     },
     "execution_count": 13,
     "metadata": {},
     "output_type": "execute_result"
    }
   ],
   "source": [
    "model.fit(X_train_scaled, y_train)"
   ]
  },
  {
   "cell_type": "markdown",
   "id": "be18d99b",
   "metadata": {},
   "source": [
    "#### Making Predictions"
   ]
  },
  {
   "cell_type": "code",
   "execution_count": 14,
   "id": "c2869840",
   "metadata": {},
   "outputs": [],
   "source": [
    "# TODO: Predict on the test set\n",
    "# Use model.predict(X_test_scaled)\n",
    "# Explanation: The model predicts labels for unseen data\n",
    "y_pred = model.predict(X_test_scaled)  # TODO"
   ]
  },
  {
   "cell_type": "code",
   "execution_count": 16,
   "id": "61a8bb93-41ed-4552-adcc-6df84a1a6027",
   "metadata": {},
   "outputs": [
    {
     "data": {
      "text/plain": [
       "array([1, 0, 2, 1, 1, 0, 1, 2, 1, 1, 2, 0, 0, 0, 0, 1, 2, 1, 1, 2, 0, 2,\n",
       "       0, 2, 2, 2, 2, 2, 0, 0])"
      ]
     },
     "execution_count": 16,
     "metadata": {},
     "output_type": "execute_result"
    }
   ],
   "source": [
    "y_pred"
   ]
  },
  {
   "cell_type": "markdown",
   "id": "723e5552",
   "metadata": {},
   "source": [
    "#### Evaluating the Model"
   ]
  },
  {
   "cell_type": "code",
   "execution_count": 15,
   "id": "4d8f653d",
   "metadata": {},
   "outputs": [
    {
     "name": "stdout",
     "output_type": "stream",
     "text": [
      "Accuracy: 1.0\n",
      "Confusion Matrix:\n",
      " [[10  0  0]\n",
      " [ 0  9  0]\n",
      " [ 0  0 11]]\n"
     ]
    }
   ],
   "source": [
    "# TODO: Calculate accuracy using accuracy_score(y_test, y_pred)\n",
    "accuracy = accuracy_score(y_test, y_pred)  # TODO\n",
    "print(\"Accuracy:\", accuracy)\n",
    "\n",
    "# TODO: Confusion matrix using confusion_matrix(y_test, y_pred)\n",
    "cm = confusion_matrix(y_test, y_pred)  # TODO\n",
    "print(\"Confusion Matrix:\\n\", cm)"
   ]
  },
  {
   "cell_type": "markdown",
   "id": "30349b35",
   "metadata": {},
   "source": [
    "#### Visualizing the Confusion Matrix"
   ]
  },
  {
   "cell_type": "code",
   "execution_count": 17,
   "id": "c7425681",
   "metadata": {},
   "outputs": [
    {
     "data": {
      "image/png": "[encoded data removed]",
      "text/plain": [
       "<Figure size 640x480 with 2 Axes>"
      ]
     },
     "metadata": {},
     "output_type": "display_data"
    }
   ],
   "source": [
    "import matplotlib.pyplot as plt\n",
    "import seaborn as sns   ## You have to install this package from pip \n",
    "                        ## Use pip install seaborn or python -m pip install seaborn\n",
    "\n",
    "# TODO: Use seaborn heatmap to visualize 'cm'\n",
    "# Use sns.heatmap(cm, annot=True, fmt=\"d\", cmap=\"Blues\")\n",
    "# Explanation: Heatmap helps understand which classes are predicted correctly or incorrectly\n",
    "sns.heatmap(cm, annot=True, fmt=\"d\", cmap=\"Blues\")  # TODO\n",
    "plt.xlabel(\"Predicted\")\n",
    "plt.ylabel(\"True\")\n",
    "plt.title(\"Confusion Matrix Heatmap\")\n",
    "plt.show()\n"
   ]
  },
  {
   "cell_type": "markdown",
   "id": "5fbdb68a",
   "metadata": {},
   "source": [
    "#### Visualize Regression Line"
   ]
  },
  {
   "cell_type": "code",
   "execution_count": null,
   "id": "ca12e494",
   "metadata": {},
   "outputs": [],
   "source": [
    "plt.scatter(X_train_scaled, y_train, color='blue', label='Actual Data')\n",
    "plt.plot(X_train_scaled, y_pred, color='red', label='Regression Line')\n",
    "plt.xlabel('Petal Length (cm)')\n",
    "plt.ylabel('Petal Width (cm)')\n",
    "plt.title('Linear Regression: Petal Width vs Petal Length (Setosa)')\n",
    "plt.legend()\n",
    "plt.show()\n"
   ]
  },
  {
   "cell_type": "markdown",
   "id": "c6dd5a51",
   "metadata": {},
   "source": [
    "#### Residuals Plot\n",
    "\n",
    "It shows whether the model under or over predict the values."
   ]
  },
  {
   "cell_type": "code",
   "execution_count": null,
   "id": "324f6459",
   "metadata": {},
   "outputs": [],
   "source": [
    "# TODO: Residual is the difference between the actual value and the predicted value\n",
    "residuals = None\n",
    "\n",
    "plt.scatter(X_train_scaled, residuals, color='purple')\n",
    "plt.axhline(0, color='black', linestyle='--')\n",
    "plt.xlabel('Petal Length (cm)')\n",
    "plt.ylabel('Residual (y - y_pred)')\n",
    "plt.title('Residuals Plot')\n",
    "plt.show()\n"
   ]
  },
  {
   "cell_type": "markdown",
   "id": "864d3094",
   "metadata": {},
   "source": [
    "#### Squared Error Plot\n",
    "\n",
    "Highlights which points contribute most to the MSE and shows potential outliers."
   ]
  },
  {
   "cell_type": "code",
   "execution_count": null,
   "id": "41f81567",
   "metadata": {},
   "outputs": [],
   "source": [
    "# TODO: it is the squared value of the difference between the actual and the predicted value.\n",
    "squared_errors = (y - y_pred) ** 2\n",
    "\n",
    "plt.bar(None, None, color='orange')\n",
    "plt.xlabel('Sample Index')\n",
    "plt.ylabel('Squared Error')\n",
    "plt.title('Squared Errors per Sample')\n",
    "plt.show()"
   ]
  }
 ],
 "metadata": {
  "kernelspec": {
   "display_name": "Python 3 (ipykernel)",
   "language": "python",
   "name": "python3"
  },
  "language_info": {
   "codemirror_mode": {
    "name": "ipython",
    "version": 3
   },
   "file_extension": ".py",
   "mimetype": "text/x-python",
   "name": "python",
   "nbconvert_exporter": "python",
   "pygments_lexer": "ipython3",
   "version": "3.10.11"
  }
 },
 "nbformat": 4,
 "nbformat_minor": 5
}
