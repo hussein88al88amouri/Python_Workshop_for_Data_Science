{
 "cells": [
  {
   "cell_type": "markdown",
   "id": "1efd8c8c",
   "metadata": {},
   "source": [
    "In this exercise, you will practice how to:\n",
    "1. Create and manipulate arrays with **NumPy**  \n",
    "2. Convert them into **Pandas DataFrames** for analysis  \n",
    "3. Visualize results with **Matplotlib**\n",
    "\n",
    "Fill in the sections marked with **`# TODO`**."
   ]
  },
  {
   "cell_type": "markdown",
   "id": "7722e436",
   "metadata": {},
   "source": [
    "#### 2.4.1. Creating synthetic dataset"
   ]
  },
  {
   "cell_type": "code",
   "execution_count": 3,
   "id": "b930d72f",
   "metadata": {},
   "outputs": [],
   "source": [
    "import numpy as np "
   ]
  },
  {
   "cell_type": "code",
   "execution_count": null,
   "id": "e07240e8",
   "metadata": {},
   "outputs": [],
   "source": [
    "# Create arrays for Math and Physics scores\n",
    "# TODO: Generate 20 random integers between 50 and 100 for math_scores\n",
    "# TODO: Generate 20 random integers between 40 and 95 for physics_scores\n",
    "\n",
    "math_scores = None  # TODO replace with np.random.randint()\n",
    "physics_scores = None  # TODO replace with np.random.randint()\n",
    "\n",
    "print(\"Math Scores:\", math_scores)\n",
    "print(\"Physics Scores:\", physics_scores)"
   ]
  },
  {
   "cell_type": "markdown",
   "id": "366cc2df",
   "metadata": {},
   "source": [
    "### 2.4.2. Creating dataframe (tabular data)"
   ]
  },
  {
   "cell_type": "code",
   "execution_count": null,
   "id": "265dc057",
   "metadata": {},
   "outputs": [],
   "source": [
    "import pandas as pd"
   ]
  },
  {
   "cell_type": "code",
   "execution_count": null,
   "id": "37c46c68",
   "metadata": {},
   "outputs": [],
   "source": [
    "# TODO: Create a DataFrame with two columns: \"Math\" and \"Physics\"\n",
    "# Hint: Use pd.DataFrame and pass a dictionary\n",
    "\n",
    "df = None  # TODO\n",
    "\n",
    "print(\"DataFrame:\\n\", df.head())"
   ]
  },
  {
   "cell_type": "markdown",
   "id": "26af8c4e",
   "metadata": {},
   "source": [
    "### 2.4.3. Processing the tabular data"
   ]
  },
  {
   "cell_type": "code",
   "execution_count": null,
   "id": "abacc39d",
   "metadata": {},
   "outputs": [],
   "source": [
    "# TODO: Add a new column \"Average\" = (Math + Physics)/2\n",
    "\n",
    "df[\"Average\"] = None  # TODO\n",
    "\n",
    "print(df.head())"
   ]
  },
  {
   "cell_type": "code",
   "execution_count": null,
   "id": "f0c3baa8",
   "metadata": {},
   "outputs": [],
   "source": [
    "# TODO: Print the mean of Math scores\n",
    "# TODO: Print the maximum Physics score\n",
    "# TODO: Print summary statistics using df.describe()\n",
    "\n",
    "math_mean = None  # TODO\n",
    "physics_max = None  # TODO\n",
    "stats = None  # TODO\n",
    "\n",
    "print(\"Mean Math Score:\", math_mean)\n",
    "print(\"Max Physics Score:\", physics_max)\n",
    "print(\"Summary:\\n\", stats)"
   ]
  },
  {
   "cell_type": "code",
   "execution_count": null,
   "id": "0537b8a4",
   "metadata": {},
   "outputs": [],
   "source": [
    "# TODO: Count number of students who passed\n",
    "num_passed = None  # TODO\n",
    "print(\"Number of students who passed:\", num_passed)\n",
    "\n",
    "# TODO: Select top 5 students by Average\n",
    "top5 = None  # TODO\n",
    "print(\"Top 5 students:\\n\", top5)\n"
   ]
  },
  {
   "cell_type": "markdown",
   "id": "0effbdab",
   "metadata": {},
   "source": [
    "### 2.4.4. Visualization"
   ]
  },
  {
   "cell_type": "code",
   "execution_count": null,
   "id": "3d6772ce",
   "metadata": {},
   "outputs": [],
   "source": [
    "import matplotlib.pyplot as plt\n",
    "\n",
    "# 1. Line plot of scores\n",
    "plt.plot(None, label=\"Math Scores\", color=\"blue\")\n",
    "plt.plot(None, label=\"Physics Scores\", color=\"orange\")\n",
    "plt.title(\"Math vs Physics Scores (Line Plot)\")\n",
    "plt.xlabel(\"Student Index\")\n",
    "plt.ylabel(\"Score\")\n",
    "plt.legend()\n",
    "plt.show()\n",
    "\n",
    "# 2. TODO: Create a scatter plot of Math vs Physics scores\n",
    "# X-axis = Math, Y-axis = Physics\n",
    "# Hint: Use plt.scatter()\n",
    "\n",
    "plt.scatter(None, None)  # TODO\n",
    "plt.title(\"Math vs Physics (Scatter Plot)\")\n",
    "plt.xlabel(\"Math\")\n",
    "plt.ylabel(\"Physics\")\n",
    "plt.show()\n",
    "\n",
    "# 3. TODO: Create a boxplot for all three columns (Math, Physics, Average)\n",
    "plt.boxplot(None)  # TODO\n",
    "plt.title(\"Boxplot of Scores\")\n",
    "plt.ylabel(\"Score\")\n",
    "plt.show()\n",
    "\n",
    "# 4. TODO: Create a bar plot of average scores\n",
    "plt.bar(df.index, None)\n",
    "plt.title(\"Average Scores by Student\")\n",
    "plt.xlabel(\"Student ID\")\n",
    "plt.ylabel(\"Average Score\")\n",
    "plt.show()\n"
   ]
  },
  {
   "cell_type": "markdown",
   "id": "a59e8633",
   "metadata": {},
   "source": [
    "### Extra"
   ]
  },
  {
   "cell_type": "code",
   "execution_count": 1,
   "id": "3e7d59c8",
   "metadata": {},
   "outputs": [],
   "source": [
    "# TODO: Add a new subject and plot box plot of scores"
   ]
  }
 ],
 "metadata": {
  "kernelspec": {
   "display_name": "Python 3",
   "language": "python",
   "name": "python3"
  },
  "language_info": {
   "codemirror_mode": {
    "name": "ipython",
    "version": 3
   },
   "file_extension": ".py",
   "mimetype": "text/x-python",
   "name": "python",
   "nbconvert_exporter": "python",
   "pygments_lexer": "ipython3",
   "version": "3.10.11"
  }
 },
 "nbformat": 4,
 "nbformat_minor": 5
}
