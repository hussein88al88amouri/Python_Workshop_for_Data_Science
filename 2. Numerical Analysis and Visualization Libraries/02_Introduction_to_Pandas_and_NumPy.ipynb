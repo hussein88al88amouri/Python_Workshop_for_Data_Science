{
 "cells": [
  {
   "cell_type": "markdown",
   "id": "1789b661",
   "metadata": {},
   "source": [
    "Introduction to Pandas, NumPy, Scikit-Learn, and Other Essential Modules in Python\n"
   ]
  },
  {
   "cell_type": "markdown",
   "id": "831c483e",
   "metadata": {},
   "source": [
    "---"
   ]
  },
  {
   "cell_type": "markdown",
   "id": "2f720f62",
   "metadata": {},
   "source": [
    "### 2.2.1. NumPy: Numerical Computing"
   ]
  },
  {
   "cell_type": "markdown",
   "id": "b19d5557",
   "metadata": {},
   "source": [
    "\n",
    "NumPy provides support for arrays, matrices, and fast mathematical operations.\n"
   ]
  },
  {
   "cell_type": "markdown",
   "id": "b9020bca",
   "metadata": {},
   "source": [
    "Creating a numpy array"
   ]
  },
  {
   "cell_type": "code",
   "execution_count": 3,
   "id": "8a43ec1e-e89d-45cf-878c-adc098955436",
   "metadata": {},
   "outputs": [
    {
     "name": "stdout",
     "output_type": "stream",
     "text": [
      "Collecting numpy\n",
      "  Downloading numpy-2.3.3-cp313-cp313-win_amd64.whl.metadata (60 kB)\n",
      "Downloading numpy-2.3.3-cp313-cp313-win_amd64.whl (12.8 MB)\n",
      "   ---------------------------------------- 0.0/12.8 MB ? eta -:--:--\n",
      "   -- ------------------------------------- 0.8/12.8 MB 5.8 MB/s eta 0:00:03\n",
      "   ----- ---------------------------------- 1.8/12.8 MB 5.5 MB/s eta 0:00:03\n",
      "   --------- ------------------------------ 3.1/12.8 MB 5.6 MB/s eta 0:00:02\n",
      "   ------------- -------------------------- 4.5/12.8 MB 5.7 MB/s eta 0:00:02\n",
      "   ------------------ --------------------- 5.8/12.8 MB 5.9 MB/s eta 0:00:02\n",
      "   ------------------------ --------------- 7.9/12.8 MB 6.7 MB/s eta 0:00:01\n",
      "   ---------------------------- ----------- 9.2/12.8 MB 6.7 MB/s eta 0:00:01\n",
      "   -------------------------------- ------- 10.5/12.8 MB 6.6 MB/s eta 0:00:01\n",
      "   ------------------------------------ --- 11.5/12.8 MB 6.4 MB/s eta 0:00:01\n",
      "   -------------------------------------- - 12.3/12.8 MB 6.2 MB/s eta 0:00:01\n",
      "   ---------------------------------------- 12.8/12.8 MB 5.8 MB/s  0:00:02\n",
      "Installing collected packages: numpy\n",
      "Successfully installed numpy-2.3.3\n",
      "Note: you may need to restart the kernel to use updated packages.\n"
     ]
    }
   ],
   "source": [
    "%pip install numpy"
   ]
  },
  {
   "cell_type": "code",
   "execution_count": 4,
   "id": "b01fd8b1-d721-447a-b934-f5b235d1f8ba",
   "metadata": {},
   "outputs": [],
   "source": [
    "import numpy as np\n"
   ]
  },
  {
   "cell_type": "code",
   "execution_count": 8,
   "id": "8bdb29e4",
   "metadata": {},
   "outputs": [
    {
     "name": "stdout",
     "output_type": "stream",
     "text": [
      "1D Array: [1 2 3 4 5]\n",
      "2D Array:\n",
      " [[1 2 3]\n",
      " [4 5 6]]\n"
     ]
    }
   ],
   "source": [
    "\n",
    "# From a Python list\n",
    "arr1 = np.array([1, 2, 3, 4, 5])\n",
    "print(\"1D Array:\", arr1)\n",
    "\n",
    "# 2D Array (Matrix)\n",
    "arr2 = np.array([[1, 2, 3], [4, 5, 6]])\n",
    "print(\"2D Array:\\n\", arr2)"
   ]
  },
  {
   "cell_type": "code",
   "execution_count": 9,
   "id": "1fa0619c",
   "metadata": {},
   "outputs": [
    {
     "name": "stdout",
     "output_type": "stream",
     "text": [
      "Zeros:\n",
      " [[0. 0. 0.]\n",
      " [0. 0. 0.]]\n",
      "Ones:\n",
      " [[1. 1. 1.]\n",
      " [1. 1. 1.]\n",
      " [1. 1. 1.]]\n",
      "Range array: [0 2 4 6 8]\n",
      "Linspace array: [0.   0.25 0.5  0.75 1.  ]\n",
      "Random array:\n",
      " [[0.13804653 0.94057777 0.09699248]\n",
      " [0.26022935 0.29818756 0.12492159]\n",
      " [0.17958438 0.71202732 0.56947471]]\n",
      "Random integers:\n",
      " [[7 6 1 4]\n",
      " [1 3 1 3]]\n"
     ]
    }
   ],
   "source": [
    "# Arrays filled with zeros or ones\n",
    "zeros = np.zeros((2, 3))\n",
    "ones = np.ones((3, 3))\n",
    "print(\"Zeros:\\n\", zeros)\n",
    "print(\"Ones:\\n\", ones)\n",
    "\n",
    "# Array with a range\n",
    "arr_range = np.arange(0, 10, 2)   # from 0 to 10 step 2\n",
    "print(\"Range array:\", arr_range)\n",
    "\n",
    "# Evenly spaced values\n",
    "arr_linspace = np.linspace(0, 1, 5)   # 5 numbers between 0 and 1\n",
    "print(\"Linspace array:\", arr_linspace)\n",
    "\n",
    "# Random numbers\n",
    "rand_arr = np.random.rand(3, 3)   # Uniform [0,1)\n",
    "rand_ints = np.random.randint(1, 10, size=(2, 4))\n",
    "print(\"Random array:\\n\", rand_arr)\n",
    "print(\"Random integers:\\n\", rand_ints)\n"
   ]
  },
  {
   "cell_type": "code",
   "execution_count": 7,
   "id": "1f24b008",
   "metadata": {},
   "outputs": [
    {
     "data": {
      "text/plain": [
       "array([[[0., 0., 0.],\n",
       "        [0., 0., 0.],\n",
       "        [0., 0., 0.]]])"
      ]
     },
     "execution_count": 7,
     "metadata": {},
     "output_type": "execute_result"
    }
   ],
   "source": [
    "# TODO: Create your own numpy array and perform some operations on it\n",
    "np.zeros((1,3, 3))"
   ]
  },
  {
   "cell_type": "markdown",
   "id": "58c49583",
   "metadata": {},
   "source": [
    "array properties"
   ]
  },
  {
   "cell_type": "code",
   "execution_count": 10,
   "id": "a6f4d116",
   "metadata": {},
   "outputs": [
    {
     "name": "stdout",
     "output_type": "stream",
     "text": [
      "Shape: (2, 3)\n",
      "Size: 6\n",
      "Data type: int64\n",
      "Dimension: 2\n"
     ]
    }
   ],
   "source": [
    "print(\"Shape:\", arr2.shape)\n",
    "print(\"Size:\", arr2.size)\n",
    "print(\"Data type:\", arr2.dtype)\n",
    "print(\"Dimension:\", arr2.ndim)\n"
   ]
  },
  {
   "cell_type": "code",
   "execution_count": null,
   "id": "e2f67e78",
   "metadata": {},
   "outputs": [],
   "source": []
  },
  {
   "cell_type": "markdown",
   "id": "caf5777d",
   "metadata": {},
   "source": [
    "slicing and indexing"
   ]
  },
  {
   "cell_type": "code",
   "execution_count": null,
   "id": "a21ef820",
   "metadata": {},
   "outputs": [],
   "source": [
    "arr = np.array([10, 20, 30, 40, 50])\n",
    "\n",
    "print(arr[0])     # First element\n",
    "print(arr[-1])    # Last element\n",
    "print(arr[1:4])   # Slice elements\n",
    "\n",
    "# 2D indexing\n",
    "mat = np.array([[1, 2, 3],\n",
    "                [4, 5, 6],\n",
    "                [7, 8, 9]])\n",
    "\n",
    "print(mat[0, 2])   # First row, third column\n",
    "print(mat[1:, :2]) # Rows 2-3, first 2 columns\n"
   ]
  },
  {
   "cell_type": "code",
   "execution_count": 15,
   "id": "1af25c01",
   "metadata": {},
   "outputs": [
    {
     "data": {
      "text/plain": [
       "((1, 3), array([[1.5, 1.5, 1.5]]))"
      ]
     },
     "execution_count": 15,
     "metadata": {},
     "output_type": "execute_result"
    }
   ],
   "source": [
    "arr = np.ones((1,3)) + 0.5\n",
    "arr.shape, arr"
   ]
  },
  {
   "cell_type": "code",
   "execution_count": 27,
   "id": "9f34aa9f-468c-4d19-aef3-895b32e95600",
   "metadata": {},
   "outputs": [
    {
     "data": {
      "text/plain": [
       "array([[ 1.5, 25.5,  1.5]])"
      ]
     },
     "execution_count": 27,
     "metadata": {},
     "output_type": "execute_result"
    }
   ],
   "source": [
    "arr[0, 1] = arr[0, 1] + 1\n",
    "arr[0, 1] += 1\n",
    "arr"
   ]
  },
  {
   "cell_type": "markdown",
   "id": "ab80b8dc",
   "metadata": {},
   "source": [
    "reshaping"
   ]
  },
  {
   "cell_type": "raw",
   "id": "b4772cf9-c142-4e4e-b98a-48a8d5a3a152",
   "metadata": {},
   "source": [
    "for i in range(10):\n",
    "    print(i)"
   ]
  },
  {
   "cell_type": "code",
   "execution_count": 29,
   "id": "58eebafd",
   "metadata": {},
   "outputs": [
    {
     "name": "stdout",
     "output_type": "stream",
     "text": [
      "Reshaped (3x4):\n",
      " [[ 0  1  2  3]\n",
      " [ 4  5  6  7]\n",
      " [ 8  9 10 11]]\n",
      "Flattened: [ 0  1  2  3  4  5  6  7  8  9 10 11]\n"
     ]
    }
   ],
   "source": [
    "arr = np.arange(12)   # [0,1,2,...,11] range()\n",
    "reshaped = arr.reshape(3, 4)\n",
    "print(\"Reshaped (3x4):\\n\", reshaped)\n",
    "\n",
    "flattened = reshaped.flatten()\n",
    "print(\"Flattened:\", flattened)\n"
   ]
  },
  {
   "cell_type": "code",
   "execution_count": 28,
   "id": "d7373f49",
   "metadata": {},
   "outputs": [
    {
     "name": "stdout",
     "output_type": "stream",
     "text": [
      "0\n",
      "1\n",
      "2\n",
      "3\n",
      "4\n",
      "5\n",
      "6\n",
      "7\n",
      "8\n",
      "9\n"
     ]
    }
   ],
   "source": [
    "for i in range(10):\n",
    "    print(i)"
   ]
  },
  {
   "cell_type": "markdown",
   "id": "1e93d97b",
   "metadata": {},
   "source": [
    "Some mathematical operation"
   ]
  },
  {
   "cell_type": "code",
   "execution_count": 30,
   "id": "5a63d653",
   "metadata": {},
   "outputs": [
    {
     "name": "stdout",
     "output_type": "stream",
     "text": [
      "Addition: [11 22 33 44]\n",
      "Multiplication: [ 10  40  90 160]\n",
      "Square roots: [1.         1.41421356 1.73205081 2.        ]\n",
      "Dot product: 300\n"
     ]
    }
   ],
   "source": [
    "a = np.array([1, 2, 3, 4])\n",
    "b = np.array([10, 20, 30, 40])\n",
    "\n",
    "print(\"Addition:\", a + b)\n",
    "print(\"Multiplication:\", a * b)\n",
    "print(\"Square roots:\", np.sqrt(a))\n",
    "print(\"Dot product:\", np.dot(a, b))\n"
   ]
  },
  {
   "cell_type": "code",
   "execution_count": null,
   "id": "f57a7977",
   "metadata": {},
   "outputs": [],
   "source": []
  },
  {
   "cell_type": "markdown",
   "id": "1c5fa618",
   "metadata": {},
   "source": [
    "Random Numbers"
   ]
  },
  {
   "cell_type": "code",
   "execution_count": 31,
   "id": "759e2921",
   "metadata": {},
   "outputs": [
    {
     "name": "stdout",
     "output_type": "stream",
     "text": [
      "Random integer: 5\n",
      "Random integers: [7 8 5 6 7]\n",
      "2D array of random integers:\n",
      " [[39 37 35 44]\n",
      " [44 29 33 16]\n",
      " [22 28 11 31]]\n",
      "Random floats: [0.78129968 0.96364101 0.74185995]\n"
     ]
    }
   ],
   "source": [
    "# Single integer between 0 and 10\n",
    "num = np.random.randint(0, 10)\n",
    "print(\"Random integer:\", num)\n",
    "\n",
    "# Random integers\n",
    "print(\"Random integers:\", np.random.randint(1, 10, size=5))\n",
    "\n",
    "# 2D array (3x4) of integers between 10 and 50\n",
    "arr2d = np.random.randint(10, 50, size=(3, 4))\n",
    "print(\"2D array of random integers:\\n\", arr2d)\n",
    "\n",
    "# Random floats (between 0 and 1)\n",
    "print(\"Random floats:\", np.random.rand(3))"
   ]
  },
  {
   "cell_type": "code",
   "execution_count": null,
   "id": "c7caa665",
   "metadata": {},
   "outputs": [],
   "source": []
  },
  {
   "cell_type": "markdown",
   "id": "0a2ca411",
   "metadata": {},
   "source": [
    "Randoms according to Normal Distribution"
   ]
  },
  {
   "cell_type": "code",
   "execution_count": 32,
   "id": "fdbad12a",
   "metadata": {},
   "outputs": [
    {
     "name": "stdout",
     "output_type": "stream",
     "text": [
      "Normal random value: -0.4566414738108407\n",
      "Normal random array: [-0.96439379 -0.36011131  1.57526935  0.68641321 -1.08225126]\n",
      "Normal distribution matrix:\n",
      " [[-0.20194773  0.66044019 -1.32926321]\n",
      " [ 0.2408747   0.55702286 -0.83424126]\n",
      " [-0.91691598 -0.89651974  0.35133144]]\n"
     ]
    }
   ],
   "source": [
    "\n",
    "# Single value\n",
    "print(\"Normal random value:\", np.random.randn())\n",
    "\n",
    "# 1D array of 5 values\n",
    "print(\"Normal random array:\", np.random.randn(5))\n",
    "\n",
    "# 2D array (3x3)\n",
    "print(\"Normal distribution matrix:\\n\", np.random.randn(3, 3))\n"
   ]
  },
  {
   "cell_type": "code",
   "execution_count": null,
   "id": "cfe4a5c3",
   "metadata": {},
   "outputs": [],
   "source": []
  },
  {
   "cell_type": "markdown",
   "id": "56631373",
   "metadata": {},
   "source": [
    "Choosing from a list"
   ]
  },
  {
   "cell_type": "code",
   "execution_count": null,
   "id": "67aee1af",
   "metadata": {},
   "outputs": [],
   "source": [
    "# Pick one element from a list\n",
    "print(\"Choice:\", np.random.choice([10, 20, 30, 40]))\n",
    "\n",
    "# Pick multiple elements with replacement\n",
    "print(\"Choices with replacement:\", np.random.choice([1, 2, 3, 4, 5], size=3))\n",
    "\n",
    "# Pick without replacement\n",
    "print(\"Choices without replacement:\", np.random.choice([1, 2, 3, 4, 5], size=3, replace=False))\n"
   ]
  },
  {
   "cell_type": "code",
   "execution_count": null,
   "id": "4d975490",
   "metadata": {},
   "outputs": [],
   "source": []
  },
  {
   "cell_type": "markdown",
   "id": "9906bd68",
   "metadata": {},
   "source": [
    "Linear Algebra"
   ]
  },
  {
   "cell_type": "code",
   "execution_count": 33,
   "id": "b0e3e912",
   "metadata": {},
   "outputs": [
    {
     "name": "stdout",
     "output_type": "stream",
     "text": [
      "Matrix multiplication:\n",
      " [[19 22]\n",
      " [43 50]]\n",
      "Transpose:\n",
      " [[1 3]\n",
      " [2 4]]\n",
      "Determinant: -2.0000000000000004\n",
      "Inverse:\n",
      " [[-2.   1. ]\n",
      " [ 1.5 -0.5]]\n"
     ]
    }
   ],
   "source": [
    "A = np.array([[1, 2], [3, 4]])\n",
    "B = np.array([[5, 6], [7, 8]])\n",
    "\n",
    "# Dot product\n",
    "print(\"Matrix multiplication:\\n\", np.dot(A, B))\n",
    "\n",
    "# Transpose\n",
    "print(\"Transpose:\\n\", A.T)\n",
    "\n",
    "# Determinant\n",
    "print(\"Determinant:\", np.linalg.det(A))\n",
    "\n",
    "# Inverse\n",
    "print(\"Inverse:\\n\", np.linalg.inv(A))\n"
   ]
  },
  {
   "cell_type": "code",
   "execution_count": null,
   "id": "f5c47bc4",
   "metadata": {},
   "outputs": [],
   "source": []
  },
  {
   "cell_type": "markdown",
   "id": "0c1b3df7",
   "metadata": {},
   "source": [
    "Statistics"
   ]
  },
  {
   "cell_type": "code",
   "execution_count": 34,
   "id": "719b19eb",
   "metadata": {},
   "outputs": [
    {
     "name": "stdout",
     "output_type": "stream",
     "text": [
      "Mean: 5.0\n",
      "Median: 5.0\n",
      "Standard Deviation: 2.581988897471611\n"
     ]
    }
   ],
   "source": [
    "data = np.array([1, 2, 3, 4, 5, 6, 7, 8, 9])\n",
    "\n",
    "print(\"Mean:\", np.mean(data))\n",
    "print(\"Median:\", np.median(data))\n",
    "print(\"Standard Deviation:\", np.std(data))\n"
   ]
  },
  {
   "cell_type": "code",
   "execution_count": null,
   "id": "7f55ed02",
   "metadata": {},
   "outputs": [],
   "source": []
  },
  {
   "cell_type": "markdown",
   "id": "a7dc342b",
   "metadata": {},
   "source": [
    "Broadcasting"
   ]
  },
  {
   "cell_type": "code",
   "execution_count": 36,
   "id": "21eb3c5f",
   "metadata": {},
   "outputs": [
    {
     "name": "stdout",
     "output_type": "stream",
     "text": [
      "[[1 2 3]\n",
      " [4 5 6]]\n",
      "[[11 12 13]\n",
      " [14 15 16]]\n",
      "[[2 2 2]\n",
      " [5 5 5]]\n"
     ]
    }
   ],
   "source": [
    "mat = np.array([[1, 2, 3],\n",
    "                [4, 5, 6]])\n",
    "print(mat)\n",
    "# Add scalar to all elements\n",
    "print(mat + 10)\n",
    "\n",
    "# Add row vector to matrix\n",
    "row_vec = np.array([1, 0, -1])\n",
    "print(mat + row_vec)\n"
   ]
  },
  {
   "cell_type": "code",
   "execution_count": null,
   "id": "c145dd69",
   "metadata": {},
   "outputs": [],
   "source": []
  },
  {
   "cell_type": "markdown",
   "id": "9a6cfdda",
   "metadata": {},
   "source": [
    "Saving numpy as a CSV file and loading CSV to numpy"
   ]
  },
  {
   "cell_type": "code",
   "execution_count": null,
   "id": "3aa9f1f1",
   "metadata": {},
   "outputs": [],
   "source": [
    "np.savetxt(\"data_array.csv\", data, delimiter=\",\")"
   ]
  },
  {
   "cell_type": "code",
   "execution_count": null,
   "id": "15331dd5",
   "metadata": {},
   "outputs": [],
   "source": [
    "data_loaded = np.loadtxt('data_array.csv', delimiter=\",\")"
   ]
  },
  {
   "cell_type": "markdown",
   "id": "de4da5b1",
   "metadata": {},
   "source": [
    "####  **Exercise** \n",
    "1. Create two arrays, array1 and array2 they will represent a vector \\\n",
    "`arra1 <- [2, 1, 10, 6]`\n",
    "`arra2 <- [2.5, 0.5, 9, 6]`\n",
    "2. print both arrays\n",
    "3. perfrom element wise operations `+, -, /, *`\n",
    "4. print the results\n",
    "5. calculate the `dot product` of both arrays\n",
    "6. print the results\n",
    "7. calculate the `mean and standard deviation` of both arrays\n",
    "8. print the results"
   ]
  },
  {
   "cell_type": "code",
   "execution_count": null,
   "id": "d39e1fe1",
   "metadata": {},
   "outputs": [],
   "source": [
    "# Solve the Exercise below to see the output"
   ]
  },
  {
   "cell_type": "markdown",
   "id": "b7b132ae",
   "metadata": {},
   "source": [
    "Do the same but create random array1 and random array2"
   ]
  },
  {
   "cell_type": "code",
   "execution_count": null,
   "id": "91b88964",
   "metadata": {},
   "outputs": [],
   "source": [
    "# Solve the Exercise below to see the outptut"
   ]
  },
  {
   "cell_type": "markdown",
   "id": "63038761",
   "metadata": {},
   "source": [
    "***"
   ]
  },
  {
   "cell_type": "markdown",
   "id": "bf07a60f",
   "metadata": {},
   "source": [
    "### 2.2.2. Pandas and DataFrame"
   ]
  },
  {
   "cell_type": "markdown",
   "id": "b7e62ea6",
   "metadata": {},
   "source": [
    "DataFrame is the perfect module to work with tabular data.\\\n",
    "It is like an **Excel Spreed Sheet** or **Database Table**.\\\n",
    "Rows represents observations, and Columns representations Variables.\\\n",
    "Pandas is the moule that Provide DataFrame"
   ]
  },
  {
   "cell_type": "code",
   "execution_count": 45,
   "id": "1deff1f1",
   "metadata": {},
   "outputs": [
    {
     "name": "stdout",
     "output_type": "stream",
     "text": [
      "DataFrame:\n",
      "       Name  Age  Score\n",
      "0    Alice   24     85\n",
      "1      Bob   27     90\n",
      "2  Charlie   22     88\n"
     ]
    }
   ],
   "source": [
    "import pandas as pd\n",
    "import numpy as np\n",
    "# Create a DataFrame\n",
    "data = {\n",
    "    \"Name\": [\"Alice\", \"Bob\", \"Charlie\"],\n",
    "    \"Age\": [24, 27, 22],\n",
    "    \"Score\": [85, 90, 88]\n",
    "}\n",
    "df = pd.DataFrame(data)\n",
    "\n",
    "print(\"DataFrame:\\n\", df)"
   ]
  },
  {
   "cell_type": "code",
   "execution_count": 47,
   "id": "30b87fa5",
   "metadata": {},
   "outputs": [
    {
     "name": "stdout",
     "output_type": "stream",
     "text": [
      "Ages: 0    24\n",
      "1    27\n",
      "2    22\n",
      "Name: Age, dtype: int64\n",
      "Average Score: 87.66666666666667\n"
     ]
    }
   ],
   "source": [
    "# Access columns\n",
    "print(\"Ages:\", df[\"Age\"])\n",
    "\n",
    "# Basic statistics\n",
    "print(\"Average Score:\", df[\"Score\"].mean())"
   ]
  },
  {
   "cell_type": "code",
   "execution_count": null,
   "id": "26dc25a4",
   "metadata": {},
   "outputs": [],
   "source": [
    "# TODO: Create a dataframe with two names and their ages and scores call it df2 and print it out\n",
    "\n"
   ]
  },
  {
   "cell_type": "markdown",
   "id": "3f5f2d53",
   "metadata": {},
   "source": [
    "Inspecting Data Frame"
   ]
  },
  {
   "cell_type": "code",
   "execution_count": 48,
   "id": "a21ce241",
   "metadata": {},
   "outputs": [
    {
     "name": "stdout",
     "output_type": "stream",
     "text": [
      "Head of DataFrame\n",
      "      Name  Age  Score\n",
      "0    Alice   24     85\n",
      "1      Bob   27     90\n",
      "2  Charlie   22     88\n",
      "----\n",
      "Tail of DataFrame\n",
      "      Name  Age  Score\n",
      "1      Bob   27     90\n",
      "2  Charlie   22     88\n",
      "----\n",
      "Size of DataFrame\n",
      "(3, 3)\n",
      "----\n",
      "Column names\n",
      "Index(['Name', 'Age', 'Score'], dtype='object')\n",
      "----\n",
      "Summary info\n",
      "<class 'pandas.core.frame.DataFrame'>\n",
      "RangeIndex: 3 entries, 0 to 2\n",
      "Data columns (total 3 columns):\n",
      " #   Column  Non-Null Count  Dtype \n",
      "---  ------  --------------  ----- \n",
      " 0   Name    3 non-null      object\n",
      " 1   Age     3 non-null      int64 \n",
      " 2   Score   3 non-null      int64 \n",
      "dtypes: int64(2), object(1)\n",
      "memory usage: 204.0+ bytes\n",
      "None\n",
      "----\n",
      "Statistics\n",
      "             Age      Score\n",
      "count   3.000000   3.000000\n",
      "mean   24.333333  87.666667\n",
      "std     2.516611   2.516611\n",
      "min    22.000000  85.000000\n",
      "25%    23.000000  86.500000\n",
      "50%    24.000000  88.000000\n",
      "75%    25.500000  89.000000\n",
      "max    27.000000  90.000000\n",
      "----\n"
     ]
    }
   ],
   "source": [
    "print('Head of DataFrame')\n",
    "print(df.head())       # First 5 rows\n",
    "print('----')\n",
    "print('Tail of DataFrame')\n",
    "print(df.tail(2))      # Last 2 rows\n",
    "print('----')\n",
    "print('Size of DataFrame')\n",
    "print(df.shape)        # (rows, columns)\n",
    "print('----')\n",
    "print('Column names')\n",
    "print(df.columns)      # Column names\n",
    "print('----')\n",
    "print('Summary info')\n",
    "print(df.info())       # Summary info\n",
    "print('----')\n",
    "print('Statistics')\n",
    "print(df.describe())   # Statistics (for numeric columns)\n",
    "print('----')"
   ]
  },
  {
   "cell_type": "code",
   "execution_count": null,
   "id": "59be48e6",
   "metadata": {},
   "outputs": [],
   "source": [
    "# TODO: Try with your own data frame"
   ]
  },
  {
   "cell_type": "markdown",
   "id": "4a06da8b",
   "metadata": {},
   "source": [
    "Selecting Data"
   ]
  },
  {
   "cell_type": "code",
   "execution_count": 51,
   "id": "d938cd8b",
   "metadata": {},
   "outputs": [
    {
     "name": "stdout",
     "output_type": "stream",
     "text": [
      "Alice Alice\n",
      "Name     Bob\n",
      "Age       27\n",
      "Score     90\n",
      "Name: 1, dtype: object\n",
      "0      Alice\n",
      "1        Bob\n",
      "2    Charlie\n",
      "Name: Name, dtype: object\n",
      "      Name  Score\n",
      "0    Alice     85\n",
      "1      Bob     90\n",
      "2  Charlie     88\n",
      "  Name  Age  Score\n",
      "1  Bob   27     90\n"
     ]
    }
   ],
   "source": [
    "# Rows\n",
    "print(df.iloc[0, 0], df['Name'][0])      # First row by position\n",
    "print(df.loc[1])       # Row with index = 1\n",
    "\n",
    "# Columns\n",
    "print(df[\"Name\"])            # Single column (Series)\n",
    "print(df[[\"Name\", \"Score\"]]) # Multiple columns (DataFrame)\n",
    "\n",
    "# Filtering with condition\n",
    "print(df[df[\"Score\"] > 88])  # Rows where Score > 88\n"
   ]
  },
  {
   "cell_type": "markdown",
   "id": "48704f8d",
   "metadata": {},
   "source": [
    "Adding & Modifying Columns"
   ]
  },
  {
   "cell_type": "code",
   "execution_count": 52,
   "id": "f4a8ca7b",
   "metadata": {},
   "outputs": [
    {
     "name": "stdout",
     "output_type": "stream",
     "text": [
      "      Name  Age  Score  Passed\n",
      "0    Alice   25     85   False\n",
      "1      Bob   28     90    True\n",
      "2  Charlie   23     88   False\n"
     ]
    }
   ],
   "source": [
    "df[\"Passed\"] = df[\"Score\"] >= 90   # New column\n",
    "df[\"Age\"] = df[\"Age\"] + 1          # Modify column\n",
    "print(df)\n"
   ]
  },
  {
   "cell_type": "markdown",
   "id": "ed032057",
   "metadata": {},
   "source": [
    "Deleting Columns or Rows"
   ]
  },
  {
   "cell_type": "code",
   "execution_count": 53,
   "id": "d0c4dd69",
   "metadata": {},
   "outputs": [
    {
     "name": "stdout",
     "output_type": "stream",
     "text": [
      "            Age      Score\n",
      "count   2.00000   2.000000\n",
      "mean   26.50000  87.500000\n",
      "std     2.12132   3.535534\n",
      "min    25.00000  85.000000\n",
      "25%    25.75000  86.250000\n",
      "50%    26.50000  87.500000\n",
      "75%    27.25000  88.750000\n",
      "max    28.00000  90.000000\n"
     ]
    }
   ],
   "source": [
    "df = df.drop(columns=[\"Passed\"])   # Drop a column\n",
    "df = df.drop(index=2)              # Drop a row by index\n",
    "print(df.describe())\n"
   ]
  },
  {
   "cell_type": "markdown",
   "id": "d7c1a60b",
   "metadata": {},
   "source": [
    "Sorting Data"
   ]
  },
  {
   "cell_type": "code",
   "execution_count": 56,
   "id": "7a8eb5a8",
   "metadata": {},
   "outputs": [
    {
     "name": "stdout",
     "output_type": "stream",
     "text": [
      "    Name  Age  Score\n",
      "0  Alice   25     85\n",
      "1    Bob   28     90\n"
     ]
    }
   ],
   "source": [
    "sorted_df = df.sort_values(by=\"Name\", ascending=True)\n",
    "print(sorted_df)\n"
   ]
  },
  {
   "cell_type": "markdown",
   "id": "4f14efb1",
   "metadata": {},
   "source": [
    "saving and loading"
   ]
  },
  {
   "cell_type": "code",
   "execution_count": 57,
   "id": "928c6fd6",
   "metadata": {},
   "outputs": [
    {
     "name": "stdout",
     "output_type": "stream",
     "text": [
      "    Name  Age  Score\n",
      "0  Alice   25     85\n",
      "1    Bob   28     90\n"
     ]
    }
   ],
   "source": [
    "# Save to CSV\n",
    "df.to_csv(\"students.csv\", index=False)\n",
    "\n",
    "# Load from CSV\n",
    "new_df = pd.read_csv(\"students.csv\")\n",
    "print(new_df)\n"
   ]
  },
  {
   "cell_type": "code",
   "execution_count": null,
   "id": "3a2a5c03",
   "metadata": {},
   "outputs": [],
   "source": [
    "# TODO: Save your own data to df2.csv and load it back, view it using notepad or excel\n"
   ]
  },
  {
   "cell_type": "code",
   "execution_count": null,
   "id": "a052a9d5",
   "metadata": {},
   "outputs": [],
   "source": [
    "# TODO: Add your data frame to itself"
   ]
  },
  {
   "cell_type": "code",
   "execution_count": null,
   "id": "c5c2aa75",
   "metadata": {},
   "outputs": [],
   "source": [
    "# TODO: Add your data frame to the one given at the begining of the section"
   ]
  },
  {
   "cell_type": "markdown",
   "id": "064577c9",
   "metadata": {},
   "source": [
    "***"
   ]
  },
  {
   "cell_type": "markdown",
   "id": "1dea629d",
   "metadata": {},
   "source": [
    "### 2.2.3. Conversion between Data Frame and Numpy and Vice Versa"
   ]
  },
  {
   "cell_type": "code",
   "execution_count": null,
   "id": "a1ae4141",
   "metadata": {},
   "outputs": [],
   "source": [
    "import numpy as np\n",
    "import pandas as pd\n",
    "\n",
    "# Create a NumPy array\n",
    "arr = np.array([[1, 2, 3],\n",
    "                [4, 5, 6],\n",
    "                [7, 8, 9]])\n",
    "\n",
    "# Convert to DataFrame\n",
    "df = pd.DataFrame(arr, columns=[\"Col1\", \"Col2\", \"Col3\"])\n",
    "print(\"DataFrame from NumPy:\\n\", df)"
   ]
  },
  {
   "cell_type": "code",
   "execution_count": null,
   "id": "8b5c9b76",
   "metadata": {},
   "outputs": [],
   "source": [
    "# Convert DataFrame to NumPy array\n",
    "back_to_array = df.to_numpy()\n",
    "print(\"NumPy array from DataFrame:\\n\", back_to_array)\n"
   ]
  },
  {
   "cell_type": "code",
   "execution_count": null,
   "id": "c6b366b8",
   "metadata": {},
   "outputs": [],
   "source": [
    "df2 = pd.DataFrame(arr, \n",
    "                   columns=[\"Feature1\", \"Feature2\", \"Feature3\"], \n",
    "                   index=[\"Row1\", \"Row2\", \"Row3\"])\n",
    "print(\"Labeled DataFrame:\\n\", df2)"
   ]
  },
  {
   "cell_type": "code",
   "execution_count": null,
   "id": "cd405d9f",
   "metadata": {},
   "outputs": [],
   "source": [
    "# Example: Features and Labels\n",
    "X = np.array([[5.1, 3.5, 1.4],\n",
    "              [4.9, 3.0, 1.4],\n",
    "              [6.2, 3.4, 5.4]])\n",
    "\n",
    "y = np.array([0, 0, 1])  # Labels\n",
    "\n",
    "# Convert to DataFrame for inspection\n",
    "df_ml = pd.DataFrame(X, columns=[\"SepalLength\", \"SepalWidth\", \"PetalLength\"])\n",
    "df_ml[\"Target\"] = y\n",
    "\n",
    "print(\"ML-style DataFrame:\\n\", df_ml)"
   ]
  },
  {
   "cell_type": "markdown",
   "id": "4885243a",
   "metadata": {},
   "source": [
    "### Exercise"
   ]
  },
  {
   "cell_type": "markdown",
   "id": "f9e66e72",
   "metadata": {},
   "source": [
    "1. **Load the Dataset**\n",
    "   - Use `pandas` to read the CSV file named **`tips.csv`** into a DataFrame.\n",
    "   - Hint: Use `pd.read_csv()`.\n",
    "\n",
    "2. **Display Basic Data Overview**\n",
    "   - Print the **first 5 rows** of the DataFrame using `.head()`.\n",
    "\n",
    "3. **Check Data Structure**\n",
    "   - Print the **column names** and **data types** using `.dtypes` or `.info()`.\n",
    "\n",
    "4. **Statistical Summary**\n",
    "   - Use `.describe()` to display the **mean**, **min**, **max**, and other statistics for numerical columns.\n",
    "   - Also calculate the **median** for each numerical column using `.median()`.\n",
    "\n",
    "5. **Inspect the 'day' Column**\n",
    "   - Print all **unique values** in the `'day'` and  `'time` column.s\n",
    "   - Count how many times smokers and non smokers appears using `.value_counts()`.\n",
    "\n",
    "6. **Filter Data**\n",
    "   - Create a new DataFrame containing only rows with somkers.\n",
    "   - Display the **first 5 rows** of the filtered DataFrame.\n",
    "\n",
    "7. **Group and Analyze**\n",
    "   - Group the data by the `'sex'` column using `.groupby()`.\n",
    "   - Calculate the **mean** of each numeric column for each species.\n",
    "   - Print the resulting grouped DataFrame.\n"
   ]
  },
  {
   "cell_type": "code",
   "execution_count": null,
   "id": "4c05dbbe",
   "metadata": {},
   "outputs": [],
   "source": []
  }
 ],
 "metadata": {
  "kernelspec": {
   "display_name": "Python 3 (ipykernel)",
   "language": "python",
   "name": "python3"
  },
  "language_info": {
   "codemirror_mode": {
    "name": "ipython",
    "version": 3
   },
   "file_extension": ".py",
   "mimetype": "text/x-python",
   "name": "python",
   "nbconvert_exporter": "python",
   "pygments_lexer": "ipython3",
   "version": "3.13.7"
  }
 },
 "nbformat": 4,
 "nbformat_minor": 5
}
