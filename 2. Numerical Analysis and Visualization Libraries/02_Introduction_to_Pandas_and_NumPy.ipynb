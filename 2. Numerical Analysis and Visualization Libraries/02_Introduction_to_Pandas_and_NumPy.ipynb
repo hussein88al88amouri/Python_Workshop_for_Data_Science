{
 "cells": [
  {
   "cell_type": "markdown",
   "id": "1789b661",
   "metadata": {},
   "source": [
    "Introduction to Pandas, NumPy, Scikit-Learn, and Other Essential Modules in Python\n"
   ]
  },
  {
   "cell_type": "markdown",
   "id": "831c483e",
   "metadata": {},
   "source": [
    "---"
   ]
  },
  {
   "cell_type": "markdown",
   "id": "2f720f62",
   "metadata": {},
   "source": [
    "### 2.2.1. NumPy: Numerical Computing"
   ]
  },
  {
   "cell_type": "markdown",
   "id": "b19d5557",
   "metadata": {},
   "source": [
    "\n",
    "NumPy provides support for arrays, matrices, and fast mathematical operations.\n"
   ]
  },
  {
   "cell_type": "markdown",
   "id": "b9020bca",
   "metadata": {},
   "source": [
    "Creating a numpy array"
   ]
  },
  {
   "cell_type": "code",
   "execution_count": 1,
   "id": "8bdb29e4",
   "metadata": {},
   "outputs": [
    {
     "name": "stdout",
     "output_type": "stream",
     "text": [
      "1D Array: [1 2 3 4 5]\n",
      "2D Array:\n",
      " [[1 2 3]\n",
      " [4 5 6]]\n"
     ]
    }
   ],
   "source": [
    "import numpy as np\n",
    "\n",
    "# From a Python list\n",
    "arr1 = np.array([1, 2, 3, 4, 5])\n",
    "print(\"1D Array:\", arr1)\n",
    "\n",
    "# 2D Array (Matrix)\n",
    "arr2 = np.array([[1, 2, 3], [4, 5, 6]])\n",
    "print(\"2D Array:\\n\", arr2)"
   ]
  },
  {
   "cell_type": "code",
   "execution_count": null,
   "id": "1fa0619c",
   "metadata": {},
   "outputs": [],
   "source": [
    "# Arrays filled with zeros or ones\n",
    "zeros = np.zeros((2, 3))\n",
    "ones = np.ones((3, 3))\n",
    "print(\"Zeros:\\n\", zeros)\n",
    "print(\"Ones:\\n\", ones)\n",
    "\n",
    "# Array with a range\n",
    "arr_range = np.arange(0, 10, 2)   # from 0 to 10 step 2\n",
    "print(\"Range array:\", arr_range)\n",
    "\n",
    "# Evenly spaced values\n",
    "arr_linspace = np.linspace(0, 1, 5)   # 5 numbers between 0 and 1\n",
    "print(\"Linspace array:\", arr_linspace)\n",
    "\n",
    "# Random numbers\n",
    "rand_arr = np.random.rand(3, 3)   # Uniform [0,1)\n",
    "rand_ints = np.random.randint(1, 10, size=(2, 4))\n",
    "print(\"Random array:\\n\", rand_arr)\n",
    "print(\"Random integers:\\n\", rand_ints)\n"
   ]
  },
  {
   "cell_type": "code",
   "execution_count": null,
   "id": "1f24b008",
   "metadata": {},
   "outputs": [],
   "source": [
    "# TODO: Create your own numpy array and perform some operations on it"
   ]
  },
  {
   "cell_type": "markdown",
   "id": "58c49583",
   "metadata": {},
   "source": [
    "array properties"
   ]
  },
  {
   "cell_type": "code",
   "execution_count": null,
   "id": "a6f4d116",
   "metadata": {},
   "outputs": [],
   "source": [
    "print(\"Shape:\", arr2.shape)\n",
    "print(\"Size:\", arr2.size)\n",
    "print(\"Data type:\", arr2.dtype)\n",
    "print(\"Dimension:\", arr2.ndim)\n"
   ]
  },
  {
   "cell_type": "code",
   "execution_count": null,
   "id": "e2f67e78",
   "metadata": {},
   "outputs": [],
   "source": []
  },
  {
   "cell_type": "markdown",
   "id": "caf5777d",
   "metadata": {},
   "source": [
    "slicing and indexing"
   ]
  },
  {
   "cell_type": "code",
   "execution_count": null,
   "id": "a21ef820",
   "metadata": {},
   "outputs": [],
   "source": [
    "arr = np.array([10, 20, 30, 40, 50])\n",
    "\n",
    "print(arr[0])     # First element\n",
    "print(arr[-1])    # Last element\n",
    "print(arr[1:4])   # Slice elements\n",
    "\n",
    "# 2D indexing\n",
    "mat = np.array([[1, 2, 3],\n",
    "                [4, 5, 6],\n",
    "                [7, 8, 9]])\n",
    "\n",
    "print(mat[0, 2])   # First row, third column\n",
    "print(mat[1:, :2]) # Rows 2-3, first 2 columns\n"
   ]
  },
  {
   "cell_type": "code",
   "execution_count": null,
   "id": "1af25c01",
   "metadata": {},
   "outputs": [],
   "source": []
  },
  {
   "cell_type": "markdown",
   "id": "ab80b8dc",
   "metadata": {},
   "source": [
    "reshaping"
   ]
  },
  {
   "cell_type": "code",
   "execution_count": null,
   "id": "58eebafd",
   "metadata": {},
   "outputs": [],
   "source": [
    "arr = np.arange(12)   # [0,1,2,...,11]\n",
    "reshaped = arr.reshape(3, 4)\n",
    "print(\"Reshaped (3x4):\\n\", reshaped)\n",
    "\n",
    "flattened = reshaped.flatten()\n",
    "print(\"Flattened:\", flattened)\n"
   ]
  },
  {
   "cell_type": "code",
   "execution_count": null,
   "id": "d7373f49",
   "metadata": {},
   "outputs": [],
   "source": []
  },
  {
   "cell_type": "markdown",
   "id": "1e93d97b",
   "metadata": {},
   "source": [
    "Some mathematical operation"
   ]
  },
  {
   "cell_type": "code",
   "execution_count": null,
   "id": "5a63d653",
   "metadata": {},
   "outputs": [],
   "source": [
    "a = np.array([1, 2, 3, 4])\n",
    "b = np.array([10, 20, 30, 40])\n",
    "\n",
    "print(\"Addition:\", a + b)\n",
    "print(\"Multiplication:\", a * b)\n",
    "print(\"Square roots:\", np.sqrt(a))\n",
    "print(\"Dot product:\", np.dot(a, b))\n"
   ]
  },
  {
   "cell_type": "code",
   "execution_count": null,
   "id": "f57a7977",
   "metadata": {},
   "outputs": [],
   "source": []
  },
  {
   "cell_type": "markdown",
   "id": "1c5fa618",
   "metadata": {},
   "source": [
    "Random Numbers"
   ]
  },
  {
   "cell_type": "code",
   "execution_count": null,
   "id": "759e2921",
   "metadata": {},
   "outputs": [],
   "source": [
    "# Single integer between 0 and 10\n",
    "num = np.random.randint(0, 10)\n",
    "print(\"Random integer:\", num)\n",
    "\n",
    "# Random integers\n",
    "print(\"Random integers:\", np.random.randint(1, 10, size=5))\n",
    "\n",
    "# 2D array (3x4) of integers between 10 and 50\n",
    "arr2d = np.random.randint(10, 50, size=(3, 4))\n",
    "print(\"2D array of random integers:\\n\", arr2d)\n",
    "\n",
    "# Random floats (between 0 and 1)\n",
    "print(\"Random floats:\", np.random.rand(3))\n",
    "\n",
    "# Normal distribution\n",
    "print(\"Normal distribution:\", np.random.randn(3))\n",
    "\n",
    "# Single random float\n",
    "print(\"Random float:\", np.random.rand())\n",
    "\n",
    "# 1D array of 5 floats\n",
    "print(\"Random floats:\", np.random.rand(5))\n",
    "\n",
    "# 2D array (2x3) of floats\n",
    "print(\"Random float matrix:\\n\", np.random.rand(2, 3))"
   ]
  },
  {
   "cell_type": "code",
   "execution_count": null,
   "id": "c7caa665",
   "metadata": {},
   "outputs": [],
   "source": []
  },
  {
   "cell_type": "markdown",
   "id": "0a2ca411",
   "metadata": {},
   "source": [
    "Randoms according to Normal Distribution"
   ]
  },
  {
   "cell_type": "code",
   "execution_count": null,
   "id": "fdbad12a",
   "metadata": {},
   "outputs": [],
   "source": [
    "\n",
    "# Single value\n",
    "print(\"Normal random value:\", np.random.randn())\n",
    "\n",
    "# 1D array of 5 values\n",
    "print(\"Normal random array:\", np.random.randn(5))\n",
    "\n",
    "# 2D array (3x3)\n",
    "print(\"Normal distribution matrix:\\n\", np.random.randn(3, 3))\n"
   ]
  },
  {
   "cell_type": "code",
   "execution_count": null,
   "id": "cfe4a5c3",
   "metadata": {},
   "outputs": [],
   "source": []
  },
  {
   "cell_type": "markdown",
   "id": "56631373",
   "metadata": {},
   "source": [
    "Choosing from a list"
   ]
  },
  {
   "cell_type": "code",
   "execution_count": null,
   "id": "67aee1af",
   "metadata": {},
   "outputs": [],
   "source": [
    "# Pick one element from a list\n",
    "print(\"Choice:\", np.random.choice([10, 20, 30, 40]))\n",
    "\n",
    "# Pick multiple elements with replacement\n",
    "print(\"Choices with replacement:\", np.random.choice([1, 2, 3, 4, 5], size=3))\n",
    "\n",
    "# Pick without replacement\n",
    "print(\"Choices without replacement:\", np.random.choice([1, 2, 3, 4, 5], size=3, replace=False))\n"
   ]
  },
  {
   "cell_type": "code",
   "execution_count": null,
   "id": "4d975490",
   "metadata": {},
   "outputs": [],
   "source": []
  },
  {
   "cell_type": "markdown",
   "id": "9906bd68",
   "metadata": {},
   "source": [
    "Linear Algebra"
   ]
  },
  {
   "cell_type": "code",
   "execution_count": null,
   "id": "b0e3e912",
   "metadata": {},
   "outputs": [],
   "source": [
    "A = np.array([[1, 2], [3, 4]])\n",
    "B = np.array([[5, 6], [7, 8]])\n",
    "\n",
    "# Dot product\n",
    "print(\"Matrix multiplication:\\n\", np.dot(A, B))\n",
    "\n",
    "# Transpose\n",
    "print(\"Transpose:\\n\", A.T)\n",
    "\n",
    "# Determinant\n",
    "print(\"Determinant:\", np.linalg.det(A))\n",
    "\n",
    "# Inverse\n",
    "print(\"Inverse:\\n\", np.linalg.inv(A))\n"
   ]
  },
  {
   "cell_type": "code",
   "execution_count": null,
   "id": "f5c47bc4",
   "metadata": {},
   "outputs": [],
   "source": []
  },
  {
   "cell_type": "markdown",
   "id": "0c1b3df7",
   "metadata": {},
   "source": [
    "Statistics"
   ]
  },
  {
   "cell_type": "code",
   "execution_count": null,
   "id": "719b19eb",
   "metadata": {},
   "outputs": [],
   "source": [
    "data = np.array([1, 2, 3, 4, 5, 6, 7, 8, 9])\n",
    "\n",
    "print(\"Mean:\", np.mean(data))\n",
    "print(\"Median:\", np.median(data))\n",
    "print(\"Standard Deviation:\", np.std(data))\n"
   ]
  },
  {
   "cell_type": "code",
   "execution_count": null,
   "id": "7f55ed02",
   "metadata": {},
   "outputs": [],
   "source": []
  },
  {
   "cell_type": "markdown",
   "id": "a7dc342b",
   "metadata": {},
   "source": [
    "Broadcasting"
   ]
  },
  {
   "cell_type": "code",
   "execution_count": null,
   "id": "21eb3c5f",
   "metadata": {},
   "outputs": [],
   "source": [
    "mat = np.array([[1, 2, 3],\n",
    "                [4, 5, 6]])\n",
    "\n",
    "# Add scalar to all elements\n",
    "print(mat + 10)\n",
    "\n",
    "# Add row vector to matrix\n",
    "row_vec = np.array([1, 0, -1])\n",
    "print(mat + row_vec)\n"
   ]
  },
  {
   "cell_type": "code",
   "execution_count": null,
   "id": "c145dd69",
   "metadata": {},
   "outputs": [],
   "source": []
  },
  {
   "cell_type": "markdown",
   "id": "9a6cfdda",
   "metadata": {},
   "source": [
    "Saving numpy as a CSV file and loading CSV to numpy"
   ]
  },
  {
   "cell_type": "code",
   "execution_count": null,
   "id": "3aa9f1f1",
   "metadata": {},
   "outputs": [],
   "source": [
    "np.savetxt(\"data_array.csv\", data, delimiter=\",\")"
   ]
  },
  {
   "cell_type": "code",
   "execution_count": null,
   "id": "15331dd5",
   "metadata": {},
   "outputs": [],
   "source": [
    "data_loaded = np.loadtxt('data_array.csv', delimiter=\",\")"
   ]
  },
  {
   "cell_type": "markdown",
   "id": "de4da5b1",
   "metadata": {},
   "source": [
    "####  **Exercise** \n",
    "1. Create two arrays, array1 and array2 they will represent a vector \\\n",
    "`arra1 <- [2, 1, 10, 6]`\n",
    "`arra2 <- [2.5, 0.5, 9, 6]`\n",
    "2. print both arrays\n",
    "3. perfrom element wise operations `+, -, /, *`\n",
    "4. print the results\n",
    "5. calculate the `dot product` of both arrays\n",
    "6. print the results\n",
    "7. calculate the `mean and standard deviation` of both arrays\n",
    "8. print the results"
   ]
  },
  {
   "cell_type": "code",
   "execution_count": null,
   "id": "d39e1fe1",
   "metadata": {},
   "outputs": [],
   "source": [
    "# Solve the Exercise below to see the output"
   ]
  },
  {
   "cell_type": "markdown",
   "id": "b7b132ae",
   "metadata": {},
   "source": [
    "Do the same but create random array1 and random array2"
   ]
  },
  {
   "cell_type": "code",
   "execution_count": null,
   "id": "91b88964",
   "metadata": {},
   "outputs": [],
   "source": [
    "# Solve the Exercise below to see the outptut"
   ]
  },
  {
   "cell_type": "markdown",
   "id": "63038761",
   "metadata": {},
   "source": [
    "***"
   ]
  },
  {
   "cell_type": "markdown",
   "id": "bf07a60f",
   "metadata": {},
   "source": [
    "### 2.2.2. Pandas and DataFrame"
   ]
  },
  {
   "cell_type": "markdown",
   "id": "b7e62ea6",
   "metadata": {},
   "source": [
    "DataFrame is the perfect module to work with tabular data.\\\n",
    "It is like an **Excel Spreed Sheet** or **Database Table**.\\\n",
    "Rows represents observations, and Columns representations Variables.\\\n",
    "Pandas is the moule that Provide DataFrame"
   ]
  },
  {
   "cell_type": "code",
   "execution_count": 3,
   "id": "1deff1f1",
   "metadata": {},
   "outputs": [
    {
     "name": "stdout",
     "output_type": "stream",
     "text": [
      "DataFrame:\n",
      "       Name  Age  Score\n",
      "0    Alice   24     85\n",
      "1      Bob   27     90\n",
      "2  Charlie   22     88\n"
     ]
    }
   ],
   "source": [
    "import pandas as pd\n",
    "\n",
    "# Create a DataFrame\n",
    "data = {\n",
    "    \"Name\": [\"Alice\", \"Bob\", \"Charlie\"],\n",
    "    \"Age\": [24, 27, 22],\n",
    "    \"Score\": [85, 90, 88]\n",
    "}\n",
    "df = pd.DataFrame(data)\n",
    "\n",
    "print(\"DataFrame:\\n\", df)"
   ]
  },
  {
   "cell_type": "code",
   "execution_count": null,
   "id": "30b87fa5",
   "metadata": {},
   "outputs": [],
   "source": [
    "# Access columns\n",
    "print(\"Ages:\", df[\"Age\"])\n",
    "\n",
    "# Basic statistics\n",
    "print(\"Average Score:\", df[\"Score\"].mean())"
   ]
  },
  {
   "cell_type": "code",
   "execution_count": null,
   "id": "26dc25a4",
   "metadata": {},
   "outputs": [],
   "source": [
    "# TODO: Create a dataframe with two names and their ages and scores call it df2 and print it out\n",
    "\n"
   ]
  },
  {
   "cell_type": "markdown",
   "id": "3f5f2d53",
   "metadata": {},
   "source": [
    "Inspecting Data Frame"
   ]
  },
  {
   "cell_type": "code",
   "execution_count": null,
   "id": "a21ce241",
   "metadata": {},
   "outputs": [],
   "source": [
    "print('Head of DataFrame')\n",
    "print(df.head())       # First 5 rows\n",
    "print('----')\n",
    "print('Tail of DataFrame')\n",
    "print(df.tail(2))      # Last 2 rows\n",
    "print('----')\n",
    "print('Size of DataFrame')\n",
    "print(df.shape)        # (rows, columns)\n",
    "print('----')\n",
    "print('Column names')\n",
    "print(df.columns)      # Column names\n",
    "print('----')\n",
    "print('Summary info')\n",
    "print(df.info())       # Summary info\n",
    "print('----')\n",
    "print('Statistics')\n",
    "print(df.describe())   # Statistics (for numeric columns)\n",
    "print('----')"
   ]
  },
  {
   "cell_type": "code",
   "execution_count": null,
   "id": "59be48e6",
   "metadata": {},
   "outputs": [],
   "source": [
    "# TODO: Try with your own data frame"
   ]
  },
  {
   "cell_type": "markdown",
   "id": "4a06da8b",
   "metadata": {},
   "source": [
    "Selecting Data"
   ]
  },
  {
   "cell_type": "code",
   "execution_count": null,
   "id": "d938cd8b",
   "metadata": {},
   "outputs": [],
   "source": [
    "# Rows\n",
    "print(df.iloc[0])      # First row by position\n",
    "print(df.loc[1])       # Row with index = 1\n",
    "\n",
    "# Columns\n",
    "print(df[\"Name\"])            # Single column (Series)\n",
    "print(df[[\"Name\", \"Score\"]]) # Multiple columns (DataFrame)\n",
    "\n",
    "# Filtering with condition\n",
    "print(df[df[\"Score\"] > 88])  # Rows where Score > 88\n"
   ]
  },
  {
   "cell_type": "markdown",
   "id": "48704f8d",
   "metadata": {},
   "source": [
    "Adding & Modifying Columns"
   ]
  },
  {
   "cell_type": "code",
   "execution_count": null,
   "id": "f4a8ca7b",
   "metadata": {},
   "outputs": [],
   "source": [
    "df[\"Passed\"] = df[\"Score\"] >= 90   # New column\n",
    "df[\"Age\"] = df[\"Age\"] + 1          # Modify column\n",
    "print(df)\n"
   ]
  },
  {
   "cell_type": "markdown",
   "id": "ed032057",
   "metadata": {},
   "source": [
    "Deleting Columns or Rows"
   ]
  },
  {
   "cell_type": "code",
   "execution_count": null,
   "id": "d0c4dd69",
   "metadata": {},
   "outputs": [],
   "source": [
    "df = df.drop(columns=[\"Passed\"])   # Drop a column\n",
    "df = df.drop(index=2)              # Drop a row by index\n",
    "print(df)\n"
   ]
  },
  {
   "cell_type": "markdown",
   "id": "d7c1a60b",
   "metadata": {},
   "source": [
    "Sorting Data"
   ]
  },
  {
   "cell_type": "code",
   "execution_count": null,
   "id": "7a8eb5a8",
   "metadata": {},
   "outputs": [],
   "source": [
    "sorted_df = df.sort_values(by=\"Score\", ascending=False)\n",
    "print(sorted_df)\n"
   ]
  },
  {
   "cell_type": "markdown",
   "id": "4f14efb1",
   "metadata": {},
   "source": [
    "saving and loading"
   ]
  },
  {
   "cell_type": "code",
   "execution_count": null,
   "id": "928c6fd6",
   "metadata": {},
   "outputs": [],
   "source": [
    "# Save to CSV\n",
    "df.to_csv(\"students.csv\", index=False)\n",
    "\n",
    "# Load from CSV\n",
    "new_df = pd.read_csv(\"students.csv\")\n",
    "print(new_df)\n"
   ]
  },
  {
   "cell_type": "code",
   "execution_count": null,
   "id": "3a2a5c03",
   "metadata": {},
   "outputs": [],
   "source": [
    "# TODO: Save your own data to df2.csv and load it back, view it using notepad or excel\n"
   ]
  },
  {
   "cell_type": "code",
   "execution_count": null,
   "id": "a052a9d5",
   "metadata": {},
   "outputs": [],
   "source": [
    "# TODO: Add your data frame to itself"
   ]
  },
  {
   "cell_type": "code",
   "execution_count": null,
   "id": "c5c2aa75",
   "metadata": {},
   "outputs": [],
   "source": [
    "# TODO: Add your data frame to the one given at the begining of the section"
   ]
  },
  {
   "cell_type": "markdown",
   "id": "064577c9",
   "metadata": {},
   "source": [
    "***"
   ]
  },
  {
   "cell_type": "markdown",
   "id": "1dea629d",
   "metadata": {},
   "source": [
    "### 2.2.3. Conversion between Data Frame and Numpy and Vice Versa"
   ]
  },
  {
   "cell_type": "code",
   "execution_count": null,
   "id": "a1ae4141",
   "metadata": {},
   "outputs": [],
   "source": [
    "import numpy as np\n",
    "import pandas as pd\n",
    "\n",
    "# Create a NumPy array\n",
    "arr = np.array([[1, 2, 3],\n",
    "                [4, 5, 6],\n",
    "                [7, 8, 9]])\n",
    "\n",
    "# Convert to DataFrame\n",
    "df = pd.DataFrame(arr, columns=[\"Col1\", \"Col2\", \"Col3\"])\n",
    "print(\"DataFrame from NumPy:\\n\", df)"
   ]
  },
  {
   "cell_type": "code",
   "execution_count": null,
   "id": "8b5c9b76",
   "metadata": {},
   "outputs": [],
   "source": [
    "# Convert DataFrame to NumPy array\n",
    "back_to_array = df.to_numpy()\n",
    "print(\"NumPy array from DataFrame:\\n\", back_to_array)\n"
   ]
  },
  {
   "cell_type": "code",
   "execution_count": null,
   "id": "c6b366b8",
   "metadata": {},
   "outputs": [],
   "source": [
    "df2 = pd.DataFrame(arr, \n",
    "                   columns=[\"Feature1\", \"Feature2\", \"Feature3\"], \n",
    "                   index=[\"Row1\", \"Row2\", \"Row3\"])\n",
    "print(\"Labeled DataFrame:\\n\", df2)"
   ]
  },
  {
   "cell_type": "code",
   "execution_count": null,
   "id": "cd405d9f",
   "metadata": {},
   "outputs": [],
   "source": [
    "# Example: Features and Labels\n",
    "X = np.array([[5.1, 3.5, 1.4],\n",
    "              [4.9, 3.0, 1.4],\n",
    "              [6.2, 3.4, 5.4]])\n",
    "\n",
    "y = np.array([0, 0, 1])  # Labels\n",
    "\n",
    "# Convert to DataFrame for inspection\n",
    "df_ml = pd.DataFrame(X, columns=[\"SepalLength\", \"SepalWidth\", \"PetalLength\"])\n",
    "df_ml[\"Target\"] = y\n",
    "\n",
    "print(\"ML-style DataFrame:\\n\", df_ml)"
   ]
  },
  {
   "cell_type": "markdown",
   "id": "4885243a",
   "metadata": {},
   "source": [
    "### Exercise"
   ]
  },
  {
   "cell_type": "markdown",
   "id": "f9e66e72",
   "metadata": {},
   "source": [
    "1. **Load the Dataset**\n",
    "   - Use `pandas` to read the CSV file named **`tips.csv`** into a DataFrame.\n",
    "   - Hint: Use `pd.read_csv()`.\n",
    "\n",
    "2. **Display Basic Data Overview**\n",
    "   - Print the **first 5 rows** of the DataFrame using `.head()`.\n",
    "\n",
    "3. **Check Data Structure**\n",
    "   - Print the **column names** and **data types** using `.dtypes` or `.info()`.\n",
    "\n",
    "4. **Statistical Summary**\n",
    "   - Use `.describe()` to display the **mean**, **min**, **max**, and other statistics for numerical columns.\n",
    "   - Also calculate the **median** for each numerical column using `.median()`.\n",
    "\n",
    "5. **Inspect the 'day' Column**\n",
    "   - Print all **unique values** in the `'day'` and  `'time` column.s\n",
    "   - Count how many times smokers and non smokers appears using `.value_counts()`.\n",
    "\n",
    "6. **Filter Data**\n",
    "   - Create a new DataFrame containing only rows with somkers.\n",
    "   - Display the **first 5 rows** of the filtered DataFrame.\n",
    "\n",
    "7. **Group and Analyze**\n",
    "   - Group the data by the `'sex'` column using `.groupby()`.\n",
    "   - Calculate the **mean** of each numeric column for each species.\n",
    "   - Print the resulting grouped DataFrame.\n"
   ]
  },
  {
   "cell_type": "code",
   "execution_count": null,
   "id": "4c05dbbe",
   "metadata": {},
   "outputs": [],
   "source": []
  }
 ],
 "metadata": {
  "kernelspec": {
   "display_name": "Python 3",
   "language": "python",
   "name": "python3"
  },
  "language_info": {
   "codemirror_mode": {
    "name": "ipython",
    "version": 3
   },
   "file_extension": ".py",
   "mimetype": "text/x-python",
   "name": "python",
   "nbconvert_exporter": "python",
   "pygments_lexer": "ipython3",
   "version": "3.10.11"
  }
 },
 "nbformat": 4,
 "nbformat_minor": 5
}
